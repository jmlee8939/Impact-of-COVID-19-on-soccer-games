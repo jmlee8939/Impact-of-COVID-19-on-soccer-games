{
 "cells": [
  {
   "cell_type": "code",
   "execution_count": 3,
   "metadata": {},
   "outputs": [],
   "source": [
    "import numpy as np\n",
    "import pandas as pd\n",
    "import matplotlib.pyplot as plt\n",
    "import os"
   ]
  },
  {
   "cell_type": "code",
   "execution_count": 13,
   "metadata": {},
   "outputs": [
    {
     "data": {
      "text/plain": [
       "['.ipynb_checkpoints',\n",
       " '.RData',\n",
       " '.Rhistory',\n",
       " '.Rproj.user',\n",
       " 'After_COVID_BL.csv',\n",
       " 'After_COVID_LIGA.csv',\n",
       " 'After_COVID_PL.csv',\n",
       " 'After_COVID_plot',\n",
       " 'After_COVID_SE.csv',\n",
       " 'attack numbers.png',\n",
       " 'baseline_models.ipynb',\n",
       " 'bases3.RData',\n",
       " 'bayesian_model.R',\n",
       " 'Before_COVID_BL.csv',\n",
       " 'Before_COVID_LIGA.csv',\n",
       " 'Before_COVID_PL.csv',\n",
       " 'Before_COVID_SE.csv',\n",
       " 'BL.csv',\n",
       " 'BL.RData',\n",
       " 'BL_fixed_samples.csv',\n",
       " 'BL_indep_samples.csv',\n",
       " 'BL_sample.RData',\n",
       " 'BL_sampling_fixed.RData',\n",
       " 'BL_sampling_indep.RData',\n",
       " 'BL_train_sample.RData',\n",
       " 'data',\n",
       " 'experiments.R',\n",
       " 'home_win_before.csv',\n",
       " 'LIGA.csv',\n",
       " 'LIGA.RData',\n",
       " 'LIGA_fixed_samples.csv',\n",
       " 'LIGA_indep_samples.csv',\n",
       " 'LIGA_sample.RData',\n",
       " 'LIGA_sampling_fixed.RData',\n",
       " 'LIGA_sampling_indep.RData',\n",
       " 'LIGA_train_sample.RData',\n",
       " 'ms3.Rdata',\n",
       " 'note.R',\n",
       " 'PL.csv',\n",
       " 'PL.RData',\n",
       " 'plot',\n",
       " 'plot 그리기.R',\n",
       " 'PL_fixed_samples.csv',\n",
       " 'PL_indep_samples.csv',\n",
       " 'PL_sampling.RData',\n",
       " 'PL_sampling_fixed.RData',\n",
       " 'PL_train_sample.RData',\n",
       " 'predict.R',\n",
       " 'predict_example.csv',\n",
       " 'predict_example2.csv',\n",
       " 'preprocessed.R',\n",
       " 'preprocessing_utils.R',\n",
       " 'sample_plot.ipynb',\n",
       " 'save_plot.R',\n",
       " 'scores.png',\n",
       " 'SE.csv',\n",
       " 'SE.RData',\n",
       " 'SE_fixed_samples.csv',\n",
       " 'SE_indep_samples.csv',\n",
       " 'SE_sample.RData',\n",
       " 'SE_sampling_fixed.RData',\n",
       " 'SE_sampling_indep.RData',\n",
       " 'SE_train_sample.RData',\n",
       " 'soccer.Rproj',\n",
       " 'team_name_list.RData',\n",
       " 'Untitled.ipynb',\n",
       " 'Untitled1.ipynb',\n",
       " 'win_rate.csv',\n",
       " 'win_rate_analysis.R',\n",
       " 'win_score.csv',\n",
       " '부상자적은팀승률.png',\n",
       " '홈팀승률.png']"
      ]
     },
     "execution_count": 13,
     "metadata": {},
     "output_type": "execute_result"
    }
   ],
   "source": [
    "path = os.getcwd()\n",
    "os.listdir(path)"
   ]
  },
  {
   "cell_type": "markdown",
   "metadata": {},
   "source": [
    "# Home advantage visualization"
   ]
  },
  {
   "cell_type": "code",
   "execution_count": 22,
   "metadata": {},
   "outputs": [],
   "source": [
    "PL_baseline = pd.read_csv('PL_indep_samples.csv', usecols = np.arange(1,23,1))"
   ]
  },
  {
   "cell_type": "code",
   "execution_count": 25,
   "metadata": {},
   "outputs": [
    {
     "data": {
      "text/plain": [
       "Index(['away_baseline[1]', 'away_baseline[2]', 'away_baseline[3]',\n",
       "       'away_baseline[4]', 'away_baseline[5]', 'away_baseline[6]',\n",
       "       'away_baseline[7]', 'away_baseline[8]', 'away_baseline[9]',\n",
       "       'away_baseline[10]', 'group_sigma', 'group_skill', 'home_baseline[1]',\n",
       "       'home_baseline[2]', 'home_baseline[3]', 'home_baseline[4]',\n",
       "       'home_baseline[5]', 'home_baseline[6]', 'home_baseline[7]',\n",
       "       'home_baseline[8]', 'home_baseline[9]', 'home_baseline[10]'],\n",
       "      dtype='object')"
      ]
     },
     "execution_count": 25,
     "metadata": {},
     "output_type": "execute_result"
    }
   ],
   "source": [
    "PL_baseline.columns"
   ]
  },
  {
   "cell_type": "code",
   "execution_count": 26,
   "metadata": {},
   "outputs": [
    {
     "name": "stdout",
     "output_type": "stream",
     "text": [
      "Index(['away_baseline[1]', 'away_baseline[2]', 'away_baseline[3]',\n",
      "       'away_baseline[4]', 'away_baseline[5]', 'away_baseline[6]',\n",
      "       'away_baseline[7]', 'away_baseline[8]', 'away_baseline[9]',\n",
      "       'away_baseline[10]'],\n",
      "      dtype='object')\n",
      "Index(['home_baseline[1]', 'home_baseline[2]', 'home_baseline[3]',\n",
      "       'home_baseline[4]', 'home_baseline[5]', 'home_baseline[6]',\n",
      "       'home_baseline[7]', 'home_baseline[8]', 'home_baseline[9]',\n",
      "       'home_baseline[10]'],\n",
      "      dtype='object')\n"
     ]
    }
   ],
   "source": [
    "PL_away_bs = PL_baseline.iloc[:,:10]\n",
    "print(PL_away_bs.columns)\n",
    "PL_home_bs = PL_baseline.iloc[:,12:]\n",
    "print(PL_home_bs.columns)"
   ]
  },
  {
   "cell_type": "code",
   "execution_count": 38,
   "metadata": {},
   "outputs": [],
   "source": [
    "PL_home_advantages = np.exp(PL_home_bs.values) - np.exp(PL_away_bs.values)  "
   ]
  },
  {
   "cell_type": "code",
   "execution_count": null,
   "metadata": {},
   "outputs": [],
   "source": []
  }
 ],
 "metadata": {
  "kernelspec": {
   "display_name": "Python 3",
   "language": "python",
   "name": "python3"
  },
  "language_info": {
   "codemirror_mode": {
    "name": "ipython",
    "version": 3
   },
   "file_extension": ".py",
   "mimetype": "text/x-python",
   "name": "python",
   "nbconvert_exporter": "python",
   "pygments_lexer": "ipython3",
   "version": "3.8.5"
  }
 },
 "nbformat": 4,
 "nbformat_minor": 4
}
