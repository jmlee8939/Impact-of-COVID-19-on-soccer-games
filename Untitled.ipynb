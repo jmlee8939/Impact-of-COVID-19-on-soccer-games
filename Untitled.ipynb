{
 "cells": [
  {
   "cell_type": "code",
   "execution_count": 485,
   "metadata": {},
   "outputs": [],
   "source": [
    "import numpy as np\n",
    "import pandas as pd\n",
    "import matplotlib.pyplot as plt\n",
    "import time\n",
    "import os\n",
    "import random\n",
    "from sklearn import preprocessing\n",
    "from sklearn.model_selection import train_test_split\n",
    "from sklearn.preprocessing import StandardScaler  \n",
    "from sklearn import linear_model\n",
    "from sklearn import metrics\n",
    "from sklearn.metrics import confusion_matrix, accuracy_score, precision_score, recall_score\n",
    "from sklearn.metrics import confusion_matrix, f1_score, roc_auc_score\n",
    "from sklearn.neural_network import MLPClassifier\n",
    "from sklearn.ensemble import RandomForestClassifier\n",
    "import xgboost as xgb\n",
    "from xgboost import plot_importance"
   ]
  },
  {
   "cell_type": "code",
   "execution_count": 450,
   "metadata": {},
   "outputs": [
    {
     "name": "stdout",
     "output_type": "stream",
     "text": [
      "Collecting xgboost\n",
      "  Downloading xgboost-1.3.3-py3-none-win_amd64.whl (95.2 MB)\n",
      "Requirement already satisfied: scipy in c:\\users\\infosci_center\\anaconda3\\lib\\site-packages (from xgboost) (1.5.0)\n",
      "Requirement already satisfied: numpy in c:\\users\\infosci_center\\anaconda3\\lib\\site-packages (from xgboost) (1.18.5)\n",
      "Installing collected packages: xgboost\n",
      "Successfully installed xgboost-1.3.3\n",
      "Note: you may need to restart the kernel to use updated packages.\n"
     ]
    }
   ],
   "source": [
    "pip install xgboost"
   ]
  },
  {
   "cell_type": "code",
   "execution_count": 389,
   "metadata": {},
   "outputs": [],
   "source": [
    "path = os.getcwd()"
   ]
  },
  {
   "cell_type": "code",
   "execution_count": 390,
   "metadata": {},
   "outputs": [
    {
     "data": {
      "text/plain": [
       "['.ipynb_checkpoints',\n",
       " '.RData',\n",
       " '.Rhistory',\n",
       " '.Rproj.user',\n",
       " 'BL.csv',\n",
       " 'BL.RData',\n",
       " 'data',\n",
       " 'LIGA.csv',\n",
       " 'LIGA.RData',\n",
       " 'note.R',\n",
       " 'PL.csv',\n",
       " 'PL.RData',\n",
       " 'plot',\n",
       " 'plot 그리기.R',\n",
       " 'preprocessed.R',\n",
       " 'preprocessing_utils.R',\n",
       " 'SE.csv',\n",
       " 'SE.RData',\n",
       " 'soccer.Rproj',\n",
       " 'Untitled.ipynb']"
      ]
     },
     "execution_count": 390,
     "metadata": {},
     "output_type": "execute_result"
    }
   ],
   "source": [
    "os.listdir(path)"
   ]
  },
  {
   "cell_type": "code",
   "execution_count": 391,
   "metadata": {},
   "outputs": [],
   "source": [
    "########### read csv files"
   ]
  },
  {
   "cell_type": "code",
   "execution_count": 392,
   "metadata": {},
   "outputs": [],
   "source": [
    "PL = pd.read_csv('PL.csv').iloc[:,2:]\n",
    "LIGA = pd.read_csv('LIGA.csv').iloc[:,2:]\n",
    "BL = pd.read_csv('BL.csv').iloc[:,2:]\n",
    "SE = pd.read_csv('SE.csv').iloc[:,2:]\n",
    "\n",
    "df = pd.concat([PL,LIGA,BL,SE], axis=0)\n",
    "df = df.dropna()"
   ]
  },
  {
   "cell_type": "code",
   "execution_count": 393,
   "metadata": {},
   "outputs": [],
   "source": [
    "def win(x):\n",
    "    if x > 0:\n",
    "        return 1\n",
    "    if x == 0:\n",
    "        return 0\n",
    "    else :\n",
    "        return -1"
   ]
  },
  {
   "cell_type": "code",
   "execution_count": 394,
   "metadata": {},
   "outputs": [
    {
     "data": {
      "text/plain": [
       "11250"
      ]
     },
     "execution_count": 394,
     "metadata": {},
     "output_type": "execute_result"
    }
   ],
   "source": [
    "result = list(map(win, (df['full_home_score'] - df['full_away_score'])))\n",
    "len(result)"
   ]
  },
  {
   "cell_type": "code",
   "execution_count": 395,
   "metadata": {},
   "outputs": [],
   "source": [
    "df['result'] = result"
   ]
  },
  {
   "cell_type": "code",
   "execution_count": 396,
   "metadata": {},
   "outputs": [
    {
     "data": {
      "text/plain": [
       "0.24515555555555554"
      ]
     },
     "execution_count": 396,
     "metadata": {},
     "output_type": "execute_result"
    }
   ],
   "source": [
    "df[df['result']==0].shape[0]/11250"
   ]
  },
  {
   "cell_type": "code",
   "execution_count": 397,
   "metadata": {},
   "outputs": [
    {
     "data": {
      "text/plain": [
       "0"
      ]
     },
     "execution_count": 397,
     "metadata": {},
     "output_type": "execute_result"
    }
   ],
   "source": [
    "result[result == 0]"
   ]
  },
  {
   "cell_type": "code",
   "execution_count": 398,
   "metadata": {},
   "outputs": [
    {
     "data": {
      "text/plain": [
       "0.46044444444444443"
      ]
     },
     "execution_count": 398,
     "metadata": {},
     "output_type": "execute_result"
    }
   ],
   "source": [
    "df[df['result']>0].shape[0]/11250"
   ]
  },
  {
   "cell_type": "code",
   "execution_count": 399,
   "metadata": {},
   "outputs": [
    {
     "data": {
      "text/plain": [
       "0.2944"
      ]
     },
     "execution_count": 399,
     "metadata": {},
     "output_type": "execute_result"
    }
   ],
   "source": [
    "df[df['result']<0].shape[0]/11250"
   ]
  },
  {
   "cell_type": "code",
   "execution_count": 400,
   "metadata": {},
   "outputs": [],
   "source": [
    "def null_classifier(n_games):\n",
    "    random_list = np.random.rand(n_games)\n",
    "    def classifier(x):\n",
    "        if x < 0.460:\n",
    "            return 1\n",
    "        elif x < 0.705:\n",
    "            return 0\n",
    "        else :\n",
    "            return -1\n",
    "    return(np.array(list(map(classifier, random_list))))    "
   ]
  },
  {
   "cell_type": "code",
   "execution_count": 401,
   "metadata": {},
   "outputs": [],
   "source": [
    "aa = null_classifier(11250)"
   ]
  },
  {
   "cell_type": "code",
   "execution_count": 402,
   "metadata": {},
   "outputs": [
    {
     "data": {
      "text/plain": [
       "0.3551111111111111"
      ]
     },
     "execution_count": 402,
     "metadata": {},
     "output_type": "execute_result"
    }
   ],
   "source": [
    "aa[aa == df['result']].shape[0]/11250"
   ]
  },
  {
   "cell_type": "code",
   "execution_count": 403,
   "metadata": {},
   "outputs": [
    {
     "data": {
      "text/plain": [
       "Index(['home_shot', 'away_shot', 'home_possession', 'away_possession',\n",
       "       'home_pass_success', 'away_pass_success', 'home_dribbles',\n",
       "       'away_dribbles', 'home_aerials_won', 'away_aerials_won', 'home_tackles',\n",
       "       'away_tackles', 'home_corners', 'away_corners', 'home_dispossessed',\n",
       "       'away_dispossessed', 'home_missing_player', 'away_missing_player',\n",
       "       'home', 'away', 'half_home_score', 'half_away_score', 'full_home_score',\n",
       "       'full_away_score', 'kick_off', 'day', 'date', 'matchup_home_goals',\n",
       "       'matchup_away_goals', 'matchup_home_wins', 'matchup_draw',\n",
       "       'matchup_away_wins', 'home_total_att', 'away_total_att',\n",
       "       'home_open_att', 'away_open_att', 'home_set_att', 'away_set_att',\n",
       "       'home_counter_att', 'away_counter_att', 'home_pk_att', 'away_pk_att',\n",
       "       'home_own_att', 'away_own_att', 'home_total_passes',\n",
       "       'away_total_passes', 'home_crosses_passes', 'away_crosses_passes',\n",
       "       'home_long_balls', 'away_long_balls', 'home_short_passes',\n",
       "       'away_short_passes', 'date_no', 'home_last_5_points',\n",
       "       'away_last_5_points', 'home_last_5_goals', 'away_last_5_goals',\n",
       "       'home_last_5_possession', 'away_last_5_possession',\n",
       "       'home_last_5_conceded', 'away_last_5_conceded', 'home_last_5_passes',\n",
       "       'away_last_5_passes', 'home_last_5_shot', 'away_last_5_shot', 'season',\n",
       "       'home_uefa', 'away_uefa', 'result'],\n",
       "      dtype='object')"
      ]
     },
     "execution_count": 403,
     "metadata": {},
     "output_type": "execute_result"
    }
   ],
   "source": [
    "df.columns"
   ]
  },
  {
   "cell_type": "code",
   "execution_count": 404,
   "metadata": {},
   "outputs": [],
   "source": [
    "df = df[['day','home_missing_player','away_missing_player','matchup_home_wins','matchup_draw',\n",
    "    'matchup_away_wins', 'home_last_5_points', 'away_last_5_points', 'home_last_5_goals',\n",
    "   'away_last_5_goals', 'home_last_5_conceded','away_last_5_conceded','home_last_5_passes',\n",
    "   'away_last_5_passes', 'home_last_5_shot', 'away_last_5_shot','home_uefa','away_uefa','result']]"
   ]
  },
  {
   "cell_type": "code",
   "execution_count": 405,
   "metadata": {},
   "outputs": [],
   "source": [
    "df['day'] = ['weekend' if i in ['Sat', 'Sun'] else 'week' for i in df['day']]"
   ]
  },
  {
   "cell_type": "code",
   "execution_count": 406,
   "metadata": {},
   "outputs": [],
   "source": [
    "df['result'] = df['result']+1"
   ]
  },
  {
   "cell_type": "code",
   "execution_count": 407,
   "metadata": {},
   "outputs": [
    {
     "data": {
      "text/html": [
       "<div>\n",
       "<style scoped>\n",
       "    .dataframe tbody tr th:only-of-type {\n",
       "        vertical-align: middle;\n",
       "    }\n",
       "\n",
       "    .dataframe tbody tr th {\n",
       "        vertical-align: top;\n",
       "    }\n",
       "\n",
       "    .dataframe thead th {\n",
       "        text-align: right;\n",
       "    }\n",
       "</style>\n",
       "<table border=\"1\" class=\"dataframe\">\n",
       "  <thead>\n",
       "    <tr style=\"text-align: right;\">\n",
       "      <th></th>\n",
       "      <th>day</th>\n",
       "      <th>home_missing_player</th>\n",
       "      <th>away_missing_player</th>\n",
       "      <th>matchup_home_wins</th>\n",
       "      <th>matchup_draw</th>\n",
       "      <th>matchup_away_wins</th>\n",
       "      <th>home_last_5_points</th>\n",
       "      <th>away_last_5_points</th>\n",
       "      <th>home_last_5_goals</th>\n",
       "      <th>away_last_5_goals</th>\n",
       "      <th>home_last_5_conceded</th>\n",
       "      <th>away_last_5_conceded</th>\n",
       "      <th>home_last_5_passes</th>\n",
       "      <th>away_last_5_passes</th>\n",
       "      <th>home_last_5_shot</th>\n",
       "      <th>away_last_5_shot</th>\n",
       "      <th>home_uefa</th>\n",
       "      <th>away_uefa</th>\n",
       "      <th>result</th>\n",
       "    </tr>\n",
       "  </thead>\n",
       "  <tbody>\n",
       "    <tr>\n",
       "      <th>49</th>\n",
       "      <td>weekend</td>\n",
       "      <td>1</td>\n",
       "      <td>7</td>\n",
       "      <td>33</td>\n",
       "      <td>17</td>\n",
       "      <td>50</td>\n",
       "      <td>3.0</td>\n",
       "      <td>3.0</td>\n",
       "      <td>3.0</td>\n",
       "      <td>4.0</td>\n",
       "      <td>8.0</td>\n",
       "      <td>7.0</td>\n",
       "      <td>2116.0</td>\n",
       "      <td>2255.0</td>\n",
       "      <td>68.0</td>\n",
       "      <td>73.0</td>\n",
       "      <td>17.157</td>\n",
       "      <td>40.157</td>\n",
       "      <td>1</td>\n",
       "    </tr>\n",
       "    <tr>\n",
       "      <th>50</th>\n",
       "      <td>weekend</td>\n",
       "      <td>2</td>\n",
       "      <td>3</td>\n",
       "      <td>50</td>\n",
       "      <td>33</td>\n",
       "      <td>17</td>\n",
       "      <td>7.0</td>\n",
       "      <td>7.0</td>\n",
       "      <td>6.0</td>\n",
       "      <td>4.0</td>\n",
       "      <td>7.0</td>\n",
       "      <td>6.0</td>\n",
       "      <td>2565.0</td>\n",
       "      <td>2087.0</td>\n",
       "      <td>75.0</td>\n",
       "      <td>67.0</td>\n",
       "      <td>115.157</td>\n",
       "      <td>17.157</td>\n",
       "      <td>2</td>\n",
       "    </tr>\n",
       "    <tr>\n",
       "      <th>51</th>\n",
       "      <td>weekend</td>\n",
       "      <td>4</td>\n",
       "      <td>5</td>\n",
       "      <td>0</td>\n",
       "      <td>17</td>\n",
       "      <td>83</td>\n",
       "      <td>9.0</td>\n",
       "      <td>4.0</td>\n",
       "      <td>4.0</td>\n",
       "      <td>7.0</td>\n",
       "      <td>2.0</td>\n",
       "      <td>10.0</td>\n",
       "      <td>1919.0</td>\n",
       "      <td>1715.0</td>\n",
       "      <td>63.0</td>\n",
       "      <td>69.0</td>\n",
       "      <td>34.157</td>\n",
       "      <td>30.157</td>\n",
       "      <td>2</td>\n",
       "    </tr>\n",
       "    <tr>\n",
       "      <th>52</th>\n",
       "      <td>weekend</td>\n",
       "      <td>6</td>\n",
       "      <td>5</td>\n",
       "      <td>83</td>\n",
       "      <td>0</td>\n",
       "      <td>17</td>\n",
       "      <td>4.0</td>\n",
       "      <td>3.0</td>\n",
       "      <td>6.0</td>\n",
       "      <td>8.0</td>\n",
       "      <td>14.0</td>\n",
       "      <td>13.0</td>\n",
       "      <td>2677.0</td>\n",
       "      <td>2112.0</td>\n",
       "      <td>85.0</td>\n",
       "      <td>66.0</td>\n",
       "      <td>108.157</td>\n",
       "      <td>29.157</td>\n",
       "      <td>2</td>\n",
       "    </tr>\n",
       "    <tr>\n",
       "      <th>55</th>\n",
       "      <td>weekend</td>\n",
       "      <td>4</td>\n",
       "      <td>7</td>\n",
       "      <td>0</td>\n",
       "      <td>0</td>\n",
       "      <td>100</td>\n",
       "      <td>8.0</td>\n",
       "      <td>15.0</td>\n",
       "      <td>3.0</td>\n",
       "      <td>21.0</td>\n",
       "      <td>5.0</td>\n",
       "      <td>4.0</td>\n",
       "      <td>1582.0</td>\n",
       "      <td>2752.0</td>\n",
       "      <td>42.0</td>\n",
       "      <td>92.0</td>\n",
       "      <td>17.157</td>\n",
       "      <td>151.157</td>\n",
       "      <td>1</td>\n",
       "    </tr>\n",
       "  </tbody>\n",
       "</table>\n",
       "</div>"
      ],
      "text/plain": [
       "        day  home_missing_player  away_missing_player  matchup_home_wins  \\\n",
       "49  weekend                    1                    7                 33   \n",
       "50  weekend                    2                    3                 50   \n",
       "51  weekend                    4                    5                  0   \n",
       "52  weekend                    6                    5                 83   \n",
       "55  weekend                    4                    7                  0   \n",
       "\n",
       "    matchup_draw  matchup_away_wins  home_last_5_points  away_last_5_points  \\\n",
       "49            17                 50                 3.0                 3.0   \n",
       "50            33                 17                 7.0                 7.0   \n",
       "51            17                 83                 9.0                 4.0   \n",
       "52             0                 17                 4.0                 3.0   \n",
       "55             0                100                 8.0                15.0   \n",
       "\n",
       "    home_last_5_goals  away_last_5_goals  home_last_5_conceded  \\\n",
       "49                3.0                4.0                   8.0   \n",
       "50                6.0                4.0                   7.0   \n",
       "51                4.0                7.0                   2.0   \n",
       "52                6.0                8.0                  14.0   \n",
       "55                3.0               21.0                   5.0   \n",
       "\n",
       "    away_last_5_conceded  home_last_5_passes  away_last_5_passes  \\\n",
       "49                   7.0              2116.0              2255.0   \n",
       "50                   6.0              2565.0              2087.0   \n",
       "51                  10.0              1919.0              1715.0   \n",
       "52                  13.0              2677.0              2112.0   \n",
       "55                   4.0              1582.0              2752.0   \n",
       "\n",
       "    home_last_5_shot  away_last_5_shot  home_uefa  away_uefa  result  \n",
       "49              68.0              73.0     17.157     40.157       1  \n",
       "50              75.0              67.0    115.157     17.157       2  \n",
       "51              63.0              69.0     34.157     30.157       2  \n",
       "52              85.0              66.0    108.157     29.157       2  \n",
       "55              42.0              92.0     17.157    151.157       1  "
      ]
     },
     "execution_count": 407,
     "metadata": {},
     "output_type": "execute_result"
    }
   ],
   "source": [
    "df.head()"
   ]
  },
  {
   "cell_type": "code",
   "execution_count": 408,
   "metadata": {},
   "outputs": [],
   "source": [
    "df[['week','weekend']] = pd.get_dummies(df['day'])"
   ]
  },
  {
   "cell_type": "code",
   "execution_count": 409,
   "metadata": {},
   "outputs": [],
   "source": [
    "df = df.drop(['day'], axis=1)"
   ]
  },
  {
   "cell_type": "code",
   "execution_count": 410,
   "metadata": {},
   "outputs": [
    {
     "data": {
      "text/html": [
       "<div>\n",
       "<style scoped>\n",
       "    .dataframe tbody tr th:only-of-type {\n",
       "        vertical-align: middle;\n",
       "    }\n",
       "\n",
       "    .dataframe tbody tr th {\n",
       "        vertical-align: top;\n",
       "    }\n",
       "\n",
       "    .dataframe thead th {\n",
       "        text-align: right;\n",
       "    }\n",
       "</style>\n",
       "<table border=\"1\" class=\"dataframe\">\n",
       "  <thead>\n",
       "    <tr style=\"text-align: right;\">\n",
       "      <th></th>\n",
       "      <th>home_missing_player</th>\n",
       "      <th>away_missing_player</th>\n",
       "      <th>matchup_home_wins</th>\n",
       "      <th>matchup_draw</th>\n",
       "      <th>matchup_away_wins</th>\n",
       "      <th>home_last_5_points</th>\n",
       "      <th>away_last_5_points</th>\n",
       "      <th>home_last_5_goals</th>\n",
       "      <th>away_last_5_goals</th>\n",
       "      <th>home_last_5_conceded</th>\n",
       "      <th>away_last_5_conceded</th>\n",
       "      <th>home_last_5_passes</th>\n",
       "      <th>away_last_5_passes</th>\n",
       "      <th>home_last_5_shot</th>\n",
       "      <th>away_last_5_shot</th>\n",
       "      <th>home_uefa</th>\n",
       "      <th>away_uefa</th>\n",
       "      <th>result</th>\n",
       "      <th>week</th>\n",
       "      <th>weekend</th>\n",
       "    </tr>\n",
       "  </thead>\n",
       "  <tbody>\n",
       "    <tr>\n",
       "      <th>49</th>\n",
       "      <td>1</td>\n",
       "      <td>7</td>\n",
       "      <td>33</td>\n",
       "      <td>17</td>\n",
       "      <td>50</td>\n",
       "      <td>3.0</td>\n",
       "      <td>3.0</td>\n",
       "      <td>3.0</td>\n",
       "      <td>4.0</td>\n",
       "      <td>8.0</td>\n",
       "      <td>7.0</td>\n",
       "      <td>2116.0</td>\n",
       "      <td>2255.0</td>\n",
       "      <td>68.0</td>\n",
       "      <td>73.0</td>\n",
       "      <td>17.157</td>\n",
       "      <td>40.157</td>\n",
       "      <td>1</td>\n",
       "      <td>0</td>\n",
       "      <td>1</td>\n",
       "    </tr>\n",
       "    <tr>\n",
       "      <th>50</th>\n",
       "      <td>2</td>\n",
       "      <td>3</td>\n",
       "      <td>50</td>\n",
       "      <td>33</td>\n",
       "      <td>17</td>\n",
       "      <td>7.0</td>\n",
       "      <td>7.0</td>\n",
       "      <td>6.0</td>\n",
       "      <td>4.0</td>\n",
       "      <td>7.0</td>\n",
       "      <td>6.0</td>\n",
       "      <td>2565.0</td>\n",
       "      <td>2087.0</td>\n",
       "      <td>75.0</td>\n",
       "      <td>67.0</td>\n",
       "      <td>115.157</td>\n",
       "      <td>17.157</td>\n",
       "      <td>2</td>\n",
       "      <td>0</td>\n",
       "      <td>1</td>\n",
       "    </tr>\n",
       "    <tr>\n",
       "      <th>51</th>\n",
       "      <td>4</td>\n",
       "      <td>5</td>\n",
       "      <td>0</td>\n",
       "      <td>17</td>\n",
       "      <td>83</td>\n",
       "      <td>9.0</td>\n",
       "      <td>4.0</td>\n",
       "      <td>4.0</td>\n",
       "      <td>7.0</td>\n",
       "      <td>2.0</td>\n",
       "      <td>10.0</td>\n",
       "      <td>1919.0</td>\n",
       "      <td>1715.0</td>\n",
       "      <td>63.0</td>\n",
       "      <td>69.0</td>\n",
       "      <td>34.157</td>\n",
       "      <td>30.157</td>\n",
       "      <td>2</td>\n",
       "      <td>0</td>\n",
       "      <td>1</td>\n",
       "    </tr>\n",
       "    <tr>\n",
       "      <th>52</th>\n",
       "      <td>6</td>\n",
       "      <td>5</td>\n",
       "      <td>83</td>\n",
       "      <td>0</td>\n",
       "      <td>17</td>\n",
       "      <td>4.0</td>\n",
       "      <td>3.0</td>\n",
       "      <td>6.0</td>\n",
       "      <td>8.0</td>\n",
       "      <td>14.0</td>\n",
       "      <td>13.0</td>\n",
       "      <td>2677.0</td>\n",
       "      <td>2112.0</td>\n",
       "      <td>85.0</td>\n",
       "      <td>66.0</td>\n",
       "      <td>108.157</td>\n",
       "      <td>29.157</td>\n",
       "      <td>2</td>\n",
       "      <td>0</td>\n",
       "      <td>1</td>\n",
       "    </tr>\n",
       "    <tr>\n",
       "      <th>55</th>\n",
       "      <td>4</td>\n",
       "      <td>7</td>\n",
       "      <td>0</td>\n",
       "      <td>0</td>\n",
       "      <td>100</td>\n",
       "      <td>8.0</td>\n",
       "      <td>15.0</td>\n",
       "      <td>3.0</td>\n",
       "      <td>21.0</td>\n",
       "      <td>5.0</td>\n",
       "      <td>4.0</td>\n",
       "      <td>1582.0</td>\n",
       "      <td>2752.0</td>\n",
       "      <td>42.0</td>\n",
       "      <td>92.0</td>\n",
       "      <td>17.157</td>\n",
       "      <td>151.157</td>\n",
       "      <td>1</td>\n",
       "      <td>0</td>\n",
       "      <td>1</td>\n",
       "    </tr>\n",
       "    <tr>\n",
       "      <th>...</th>\n",
       "      <td>...</td>\n",
       "      <td>...</td>\n",
       "      <td>...</td>\n",
       "      <td>...</td>\n",
       "      <td>...</td>\n",
       "      <td>...</td>\n",
       "      <td>...</td>\n",
       "      <td>...</td>\n",
       "      <td>...</td>\n",
       "      <td>...</td>\n",
       "      <td>...</td>\n",
       "      <td>...</td>\n",
       "      <td>...</td>\n",
       "      <td>...</td>\n",
       "      <td>...</td>\n",
       "      <td>...</td>\n",
       "      <td>...</td>\n",
       "      <td>...</td>\n",
       "      <td>...</td>\n",
       "      <td>...</td>\n",
       "    </tr>\n",
       "    <tr>\n",
       "      <th>3414</th>\n",
       "      <td>5</td>\n",
       "      <td>4</td>\n",
       "      <td>0</td>\n",
       "      <td>0</td>\n",
       "      <td>100</td>\n",
       "      <td>6.0</td>\n",
       "      <td>6.0</td>\n",
       "      <td>9.0</td>\n",
       "      <td>8.0</td>\n",
       "      <td>10.0</td>\n",
       "      <td>10.0</td>\n",
       "      <td>2546.0</td>\n",
       "      <td>2176.0</td>\n",
       "      <td>83.0</td>\n",
       "      <td>65.0</td>\n",
       "      <td>14.945</td>\n",
       "      <td>14.945</td>\n",
       "      <td>0</td>\n",
       "      <td>0</td>\n",
       "      <td>1</td>\n",
       "    </tr>\n",
       "    <tr>\n",
       "      <th>3415</th>\n",
       "      <td>3</td>\n",
       "      <td>3</td>\n",
       "      <td>0</td>\n",
       "      <td>40</td>\n",
       "      <td>60</td>\n",
       "      <td>1.0</td>\n",
       "      <td>10.0</td>\n",
       "      <td>3.0</td>\n",
       "      <td>10.0</td>\n",
       "      <td>16.0</td>\n",
       "      <td>3.0</td>\n",
       "      <td>2124.0</td>\n",
       "      <td>2103.0</td>\n",
       "      <td>59.0</td>\n",
       "      <td>63.0</td>\n",
       "      <td>14.945</td>\n",
       "      <td>53.945</td>\n",
       "      <td>0</td>\n",
       "      <td>0</td>\n",
       "      <td>1</td>\n",
       "    </tr>\n",
       "    <tr>\n",
       "      <th>3416</th>\n",
       "      <td>6</td>\n",
       "      <td>3</td>\n",
       "      <td>33</td>\n",
       "      <td>33</td>\n",
       "      <td>33</td>\n",
       "      <td>5.0</td>\n",
       "      <td>7.0</td>\n",
       "      <td>10.0</td>\n",
       "      <td>5.0</td>\n",
       "      <td>8.0</td>\n",
       "      <td>5.0</td>\n",
       "      <td>2943.0</td>\n",
       "      <td>2176.0</td>\n",
       "      <td>70.0</td>\n",
       "      <td>54.0</td>\n",
       "      <td>18.945</td>\n",
       "      <td>14.945</td>\n",
       "      <td>0</td>\n",
       "      <td>0</td>\n",
       "      <td>1</td>\n",
       "    </tr>\n",
       "    <tr>\n",
       "      <th>3417</th>\n",
       "      <td>4</td>\n",
       "      <td>2</td>\n",
       "      <td>67</td>\n",
       "      <td>17</td>\n",
       "      <td>17</td>\n",
       "      <td>6.0</td>\n",
       "      <td>5.0</td>\n",
       "      <td>4.0</td>\n",
       "      <td>7.0</td>\n",
       "      <td>13.0</td>\n",
       "      <td>9.0</td>\n",
       "      <td>2324.0</td>\n",
       "      <td>2478.0</td>\n",
       "      <td>53.0</td>\n",
       "      <td>66.0</td>\n",
       "      <td>14.945</td>\n",
       "      <td>14.945</td>\n",
       "      <td>2</td>\n",
       "      <td>0</td>\n",
       "      <td>1</td>\n",
       "    </tr>\n",
       "    <tr>\n",
       "      <th>3418</th>\n",
       "      <td>3</td>\n",
       "      <td>5</td>\n",
       "      <td>33</td>\n",
       "      <td>33</td>\n",
       "      <td>33</td>\n",
       "      <td>4.0</td>\n",
       "      <td>5.0</td>\n",
       "      <td>5.0</td>\n",
       "      <td>7.0</td>\n",
       "      <td>13.0</td>\n",
       "      <td>7.0</td>\n",
       "      <td>2561.0</td>\n",
       "      <td>2184.0</td>\n",
       "      <td>71.0</td>\n",
       "      <td>57.0</td>\n",
       "      <td>14.945</td>\n",
       "      <td>27.945</td>\n",
       "      <td>1</td>\n",
       "      <td>0</td>\n",
       "      <td>1</td>\n",
       "    </tr>\n",
       "  </tbody>\n",
       "</table>\n",
       "<p>11250 rows × 20 columns</p>\n",
       "</div>"
      ],
      "text/plain": [
       "      home_missing_player  away_missing_player  matchup_home_wins  \\\n",
       "49                      1                    7                 33   \n",
       "50                      2                    3                 50   \n",
       "51                      4                    5                  0   \n",
       "52                      6                    5                 83   \n",
       "55                      4                    7                  0   \n",
       "...                   ...                  ...                ...   \n",
       "3414                    5                    4                  0   \n",
       "3415                    3                    3                  0   \n",
       "3416                    6                    3                 33   \n",
       "3417                    4                    2                 67   \n",
       "3418                    3                    5                 33   \n",
       "\n",
       "      matchup_draw  matchup_away_wins  home_last_5_points  away_last_5_points  \\\n",
       "49              17                 50                 3.0                 3.0   \n",
       "50              33                 17                 7.0                 7.0   \n",
       "51              17                 83                 9.0                 4.0   \n",
       "52               0                 17                 4.0                 3.0   \n",
       "55               0                100                 8.0                15.0   \n",
       "...            ...                ...                 ...                 ...   \n",
       "3414             0                100                 6.0                 6.0   \n",
       "3415            40                 60                 1.0                10.0   \n",
       "3416            33                 33                 5.0                 7.0   \n",
       "3417            17                 17                 6.0                 5.0   \n",
       "3418            33                 33                 4.0                 5.0   \n",
       "\n",
       "      home_last_5_goals  away_last_5_goals  home_last_5_conceded  \\\n",
       "49                  3.0                4.0                   8.0   \n",
       "50                  6.0                4.0                   7.0   \n",
       "51                  4.0                7.0                   2.0   \n",
       "52                  6.0                8.0                  14.0   \n",
       "55                  3.0               21.0                   5.0   \n",
       "...                 ...                ...                   ...   \n",
       "3414                9.0                8.0                  10.0   \n",
       "3415                3.0               10.0                  16.0   \n",
       "3416               10.0                5.0                   8.0   \n",
       "3417                4.0                7.0                  13.0   \n",
       "3418                5.0                7.0                  13.0   \n",
       "\n",
       "      away_last_5_conceded  home_last_5_passes  away_last_5_passes  \\\n",
       "49                     7.0              2116.0              2255.0   \n",
       "50                     6.0              2565.0              2087.0   \n",
       "51                    10.0              1919.0              1715.0   \n",
       "52                    13.0              2677.0              2112.0   \n",
       "55                     4.0              1582.0              2752.0   \n",
       "...                    ...                 ...                 ...   \n",
       "3414                  10.0              2546.0              2176.0   \n",
       "3415                   3.0              2124.0              2103.0   \n",
       "3416                   5.0              2943.0              2176.0   \n",
       "3417                   9.0              2324.0              2478.0   \n",
       "3418                   7.0              2561.0              2184.0   \n",
       "\n",
       "      home_last_5_shot  away_last_5_shot  home_uefa  away_uefa  result  week  \\\n",
       "49                68.0              73.0     17.157     40.157       1     0   \n",
       "50                75.0              67.0    115.157     17.157       2     0   \n",
       "51                63.0              69.0     34.157     30.157       2     0   \n",
       "52                85.0              66.0    108.157     29.157       2     0   \n",
       "55                42.0              92.0     17.157    151.157       1     0   \n",
       "...                ...               ...        ...        ...     ...   ...   \n",
       "3414              83.0              65.0     14.945     14.945       0     0   \n",
       "3415              59.0              63.0     14.945     53.945       0     0   \n",
       "3416              70.0              54.0     18.945     14.945       0     0   \n",
       "3417              53.0              66.0     14.945     14.945       2     0   \n",
       "3418              71.0              57.0     14.945     27.945       1     0   \n",
       "\n",
       "      weekend  \n",
       "49          1  \n",
       "50          1  \n",
       "51          1  \n",
       "52          1  \n",
       "55          1  \n",
       "...       ...  \n",
       "3414        1  \n",
       "3415        1  \n",
       "3416        1  \n",
       "3417        1  \n",
       "3418        1  \n",
       "\n",
       "[11250 rows x 20 columns]"
      ]
     },
     "execution_count": 410,
     "metadata": {},
     "output_type": "execute_result"
    }
   ],
   "source": [
    "df"
   ]
  },
  {
   "cell_type": "code",
   "execution_count": 411,
   "metadata": {},
   "outputs": [],
   "source": [
    "min_max_scaler = preprocessing.MinMaxScaler()\n",
    "x_scaled = min_max_scaler.fit_transform(df.values)"
   ]
  },
  {
   "cell_type": "code",
   "execution_count": 412,
   "metadata": {},
   "outputs": [],
   "source": [
    "df = pd.DataFrame(x_scaled)"
   ]
  },
  {
   "cell_type": "code",
   "execution_count": 413,
   "metadata": {},
   "outputs": [],
   "source": [
    "df[17] = df[17].astype(np.str)"
   ]
  },
  {
   "cell_type": "code",
   "execution_count": 414,
   "metadata": {
    "scrolled": true
   },
   "outputs": [],
   "source": [
    "X = df.drop([17],axis=1)"
   ]
  },
  {
   "cell_type": "code",
   "execution_count": 415,
   "metadata": {},
   "outputs": [],
   "source": [
    "y = np.array(result)"
   ]
  },
  {
   "cell_type": "code",
   "execution_count": 416,
   "metadata": {},
   "outputs": [],
   "source": [
    "X_train, X_test, y_train, y_test = train_test_split(X, y, test_size = 0.3, random_state=1)"
   ]
  },
  {
   "cell_type": "code",
   "execution_count": 417,
   "metadata": {},
   "outputs": [
    {
     "data": {
      "text/plain": [
       "LogisticRegression(C=0.1, multi_class='ovr', solver='liblinear')"
      ]
     },
     "execution_count": 417,
     "metadata": {},
     "output_type": "execute_result"
    }
   ],
   "source": [
    "lm = linear_model.LogisticRegression(multi_class='ovr', solver='liblinear', C=0.1)\n",
    "lm.fit(X_train, y_train)"
   ]
  },
  {
   "cell_type": "code",
   "execution_count": 418,
   "metadata": {},
   "outputs": [
    {
     "data": {
      "text/plain": [
       "LogisticRegression(C=0.1, multi_class='ovr', solver='liblinear')"
      ]
     },
     "execution_count": 418,
     "metadata": {},
     "output_type": "execute_result"
    }
   ],
   "source": [
    "lm"
   ]
  },
  {
   "cell_type": "code",
   "execution_count": 419,
   "metadata": {},
   "outputs": [
    {
     "data": {
      "text/plain": [
       "0.5214814814814814"
      ]
     },
     "execution_count": 419,
     "metadata": {},
     "output_type": "execute_result"
    }
   ],
   "source": [
    "lm.score(X_test, y_test)"
   ]
  },
  {
   "cell_type": "code",
   "execution_count": 357,
   "metadata": {},
   "outputs": [],
   "source": [
    "clf = MLPClassifier(solver='lbfgs', alpha=1e-5,\n",
    "                     hidden_layer_sizes=(2, 2), random_state=1, max_iter = 1000)"
   ]
  },
  {
   "cell_type": "code",
   "execution_count": 358,
   "metadata": {},
   "outputs": [
    {
     "data": {
      "text/plain": [
       "MLPClassifier(alpha=1e-05, hidden_layer_sizes=(2, 2), max_iter=1000,\n",
       "              random_state=1, solver='lbfgs')"
      ]
     },
     "execution_count": 358,
     "metadata": {},
     "output_type": "execute_result"
    }
   ],
   "source": [
    "clf.fit(np.array(X_train), np.array(y_train))"
   ]
  },
  {
   "cell_type": "code",
   "execution_count": 359,
   "metadata": {},
   "outputs": [
    {
     "data": {
      "text/plain": [
       "array([ 1,  1, -1, ..., -1,  1, -1])"
      ]
     },
     "execution_count": 359,
     "metadata": {},
     "output_type": "execute_result"
    }
   ],
   "source": [
    "clf.predict(X_test)"
   ]
  },
  {
   "cell_type": "code",
   "execution_count": 360,
   "metadata": {},
   "outputs": [
    {
     "data": {
      "text/plain": [
       "0.5214814814814814"
      ]
     },
     "execution_count": 360,
     "metadata": {},
     "output_type": "execute_result"
    }
   ],
   "source": [
    "clf.score(X_test,y_test)"
   ]
  },
  {
   "cell_type": "code",
   "execution_count": 352,
   "metadata": {},
   "outputs": [
    {
     "data": {
      "text/plain": [
       "array([[0.25620075, 0.2897787 , 0.45402055],\n",
       "       [0.20591698, 0.26240664, 0.53167638],\n",
       "       [0.48390742, 0.25464273, 0.26144985],\n",
       "       ...,\n",
       "       [0.48345293, 0.25476557, 0.2617815 ],\n",
       "       [0.09556793, 0.17192272, 0.73250935],\n",
       "       [0.71045725, 0.16734733, 0.12219541]])"
      ]
     },
     "execution_count": 352,
     "metadata": {},
     "output_type": "execute_result"
    }
   ],
   "source": [
    "clf.predict_proba(X_test)"
   ]
  },
  {
   "cell_type": "code",
   "execution_count": 278,
   "metadata": {},
   "outputs": [
    {
     "data": {
      "text/plain": [
       "array([[0.46666667, 0.1875    , 0.17      , ..., 0.50984522, 0.        ,\n",
       "        1.        ],\n",
       "       [0.2       , 0.3125    , 0.5       , ..., 0.20419713, 0.        ,\n",
       "        1.        ],\n",
       "       [0.26666667, 0.9375    , 0.33      , ..., 0.11132827, 0.        ,\n",
       "        1.        ],\n",
       "       ...,\n",
       "       [0.26666667, 0.375     , 0.5       , ..., 0.59273175, 0.        ,\n",
       "        1.        ],\n",
       "       [0.33333333, 0.25      , 0.67      , ..., 0.05252534, 0.        ,\n",
       "        1.        ],\n",
       "       [0.33333333, 0.125     , 0.5       , ..., 0.03011032, 1.        ,\n",
       "        0.        ]])"
      ]
     },
     "execution_count": 278,
     "metadata": {},
     "output_type": "execute_result"
    }
   ],
   "source": [
    "np.array(X_train)"
   ]
  },
  {
   "cell_type": "code",
   "execution_count": 281,
   "metadata": {},
   "outputs": [
    {
     "data": {
      "text/plain": [
       "array([-1,  0,  1, ...,  1,  1,  0])"
      ]
     },
     "execution_count": 281,
     "metadata": {},
     "output_type": "execute_result"
    }
   ],
   "source": [
    "np.array(y_train)"
   ]
  },
  {
   "cell_type": "code",
   "execution_count": 387,
   "metadata": {},
   "outputs": [
    {
     "data": {
      "text/plain": [
       "array([[ 1.44331303, -0.42313392, -0.78285026, ...,  1.44099909,\n",
       "        -0.50614347,  0.50614347],\n",
       "       [-0.4232699 ,  0.50920509,  0.50460203, ...,  0.10189669,\n",
       "        -0.50614347,  0.50614347],\n",
       "       [ 0.04337583,  5.17090012, -0.15863097, ..., -0.30497941,\n",
       "        -0.50614347,  0.50614347],\n",
       "       ...,\n",
       "       [ 0.04337583,  0.97537459,  0.50460203, ...,  1.80414074,\n",
       "        -0.50614347,  0.50614347],\n",
       "       [ 0.51002156,  0.04303558,  1.16783503, ..., -0.56260626,\n",
       "        -0.50614347,  0.50614347],\n",
       "       [ 0.51002156, -0.88930342,  0.50460203, ..., -0.66081068,\n",
       "         1.9757244 , -1.9757244 ]])"
      ]
     },
     "execution_count": 387,
     "metadata": {},
     "output_type": "execute_result"
    }
   ],
   "source": [
    "X_train"
   ]
  },
  {
   "cell_type": "code",
   "execution_count": 304,
   "metadata": {},
   "outputs": [],
   "source": [
    "scaler = StandardScaler()"
   ]
  },
  {
   "cell_type": "code",
   "execution_count": 307,
   "metadata": {},
   "outputs": [
    {
     "data": {
      "text/plain": [
       "StandardScaler()"
      ]
     },
     "execution_count": 307,
     "metadata": {},
     "output_type": "execute_result"
    }
   ],
   "source": [
    "scaler.fit(X_train.values)"
   ]
  },
  {
   "cell_type": "code",
   "execution_count": 309,
   "metadata": {},
   "outputs": [],
   "source": [
    "X_train = scaler.transform(X_train.values)\n",
    "X_test = scaler.transform(X_test.values)"
   ]
  },
  {
   "cell_type": "code",
   "execution_count": 447,
   "metadata": {},
   "outputs": [
    {
     "data": {
      "text/plain": [
       "RandomForestClassifier(max_features=2, n_estimators=300)"
      ]
     },
     "execution_count": 447,
     "metadata": {},
     "output_type": "execute_result"
    }
   ],
   "source": [
    "rf = RandomForestClassifier(n_estimators=300, max_features=2)\n",
    "rf.fit(X_train, y_train)"
   ]
  },
  {
   "cell_type": "code",
   "execution_count": 475,
   "metadata": {},
   "outputs": [
    {
     "data": {
      "text/plain": [
       "array([0, 1, 2, ..., 2, 2, 1])"
      ]
     },
     "execution_count": 475,
     "metadata": {},
     "output_type": "execute_result"
    }
   ],
   "source": [
    "y_train+1"
   ]
  },
  {
   "cell_type": "code",
   "execution_count": 472,
   "metadata": {},
   "outputs": [
    {
     "data": {
      "text/plain": [
       "(7875, 3)"
      ]
     },
     "execution_count": 472,
     "metadata": {},
     "output_type": "execute_result"
    }
   ],
   "source": [
    "(pd.get_dummies(y_train)).shape"
   ]
  },
  {
   "cell_type": "code",
   "execution_count": 476,
   "metadata": {},
   "outputs": [],
   "source": [
    "dtrain = xgb.DMatrix(data=X_train, label = y_train+1)\n",
    "dtest = xgb.DMatrix(data=X_test, label = y_test+1)"
   ]
  },
  {
   "cell_type": "code",
   "execution_count": 590,
   "metadata": {},
   "outputs": [],
   "source": [
    "params = {'n_estimators' : 200,\n",
    "          'subsample' : 0.5,\n",
    "          'colsample_bytree' : 0.5,\n",
    "          'num_class' : 3,\n",
    "         'objective' : 'multi:softprob',\n",
    "         'eval_metric' : 'mlogloss',\n",
    "         'early_stoppings' : 100 }\n",
    "\n",
    "num_rounds = 10"
   ]
  },
  {
   "cell_type": "code",
   "execution_count": 591,
   "metadata": {},
   "outputs": [
    {
     "name": "stdout",
     "output_type": "stream",
     "text": [
      "[15:35:52] WARNING: C:/Users/Administrator/workspace/xgboost-win64_release_1.3.0/src/learner.cc:541: \n",
      "Parameters: { early_stoppings, n_estimators } might not be used.\n",
      "\n",
      "  This may not be accurate due to some parameters are only used in language bindings but\n",
      "  passed down to XGBoost core.  Or some parameters are not used but slip through this\n",
      "  verification. Please open an issue if you find above cases.\n",
      "\n",
      "\n",
      "[0]\ttrain-mlogloss:1.04042\teval-mlogloss:1.05583\n",
      "[1]\ttrain-mlogloss:1.00311\teval-mlogloss:1.03384\n",
      "[2]\ttrain-mlogloss:0.97396\teval-mlogloss:1.01851\n",
      "[3]\ttrain-mlogloss:0.95132\teval-mlogloss:1.01088\n",
      "[4]\ttrain-mlogloss:0.93511\teval-mlogloss:1.00512\n",
      "[5]\ttrain-mlogloss:0.92320\teval-mlogloss:1.00240\n",
      "[6]\ttrain-mlogloss:0.91204\teval-mlogloss:1.00112\n",
      "[7]\ttrain-mlogloss:0.90179\teval-mlogloss:1.00011\n",
      "[8]\ttrain-mlogloss:0.89257\teval-mlogloss:1.00035\n",
      "[9]\ttrain-mlogloss:0.88341\teval-mlogloss:0.99960\n"
     ]
    }
   ],
   "source": [
    "wlist = [(dtrain, 'train'), (dtest,'eval')]\n",
    "xgb_model = xgb.train(params = params, dtrain=dtrain, num_boost_round=num_rounds, evals=wlist)"
   ]
  },
  {
   "cell_type": "code",
   "execution_count": 592,
   "metadata": {},
   "outputs": [],
   "source": [
    "pred_probs = xgb_model.predict(dtest)"
   ]
  },
  {
   "cell_type": "code",
   "execution_count": 593,
   "metadata": {},
   "outputs": [],
   "source": [
    "y_pred = np.argmax(pred_probs, axis=1)"
   ]
  },
  {
   "cell_type": "code",
   "execution_count": 594,
   "metadata": {},
   "outputs": [],
   "source": [
    "def get_clf_eval(y_test, y_pred):\n",
    "    confusion = confusion_matrix(y_test, y_pred)\n",
    "    accuracy = accuracy_score(y_test, y_pred)\n",
    "\n",
    "    print('오차행렬:\\n', confusion)\n",
    "    print('\\n정확도: {:.4f}'.format(accuracy))"
   ]
  },
  {
   "cell_type": "code",
   "execution_count": 595,
   "metadata": {},
   "outputs": [
    {
     "name": "stdout",
     "output_type": "stream",
     "text": [
      "오차행렬:\n",
      " [[ 448   25  509]\n",
      " [ 200   30  611]\n",
      " [ 236   39 1277]]\n",
      "\n",
      "정확도: 0.5200\n"
     ]
    }
   ],
   "source": [
    "get_clf_eval(y_test+1,y_pred)"
   ]
  },
  {
   "cell_type": "code",
   "execution_count": null,
   "metadata": {},
   "outputs": [],
   "source": []
  },
  {
   "cell_type": "code",
   "execution_count": null,
   "metadata": {},
   "outputs": [],
   "source": []
  }
 ],
 "metadata": {
  "kernelspec": {
   "display_name": "Python 3",
   "language": "python",
   "name": "python3"
  },
  "language_info": {
   "codemirror_mode": {
    "name": "ipython",
    "version": 3
   },
   "file_extension": ".py",
   "mimetype": "text/x-python",
   "name": "python",
   "nbconvert_exporter": "python",
   "pygments_lexer": "ipython3",
   "version": "3.8.5"
  }
 },
 "nbformat": 4,
 "nbformat_minor": 4
}
