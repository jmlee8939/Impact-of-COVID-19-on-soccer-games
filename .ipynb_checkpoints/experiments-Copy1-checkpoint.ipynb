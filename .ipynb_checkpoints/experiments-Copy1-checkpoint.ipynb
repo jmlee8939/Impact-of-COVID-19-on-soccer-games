{
 "cells": [
  {
   "cell_type": "code",
   "execution_count": 237,
   "metadata": {},
   "outputs": [],
   "source": [
    "import numpy as np\n",
    "import pandas as pd\n",
    "import matplotlib.pyplot as plt\n",
    "import time\n",
    "import os\n",
    "import random\n",
    "from sklearn import preprocessing\n",
    "from sklearn.model_selection import train_test_split\n",
    "from sklearn.preprocessing import StandardScaler, OneHotEncoder\n",
    "from sklearn import linear_model\n",
    "from sklearn import metrics\n",
    "from sklearn.metrics import confusion_matrix, accuracy_score, precision_score, recall_score\n",
    "from sklearn.metrics import confusion_matrix, f1_score, roc_auc_score\n",
    "from sklearn.neural_network import MLPClassifier\n",
    "from sklearn.ensemble import RandomForestClassifier\n",
    "import xgboost as xgb\n",
    "from xgboost import plot_importance\n",
    "from sklearn import svm\n",
    "from sklearn.naive_bayes import GaussianNB, MultinomialNB"
   ]
  },
  {
   "cell_type": "code",
   "execution_count": 2,
   "metadata": {},
   "outputs": [],
   "source": [
    "path = os.getcwd()"
   ]
  },
  {
   "cell_type": "code",
   "execution_count": 3,
   "metadata": {},
   "outputs": [],
   "source": [
    "train_PL = pd.read_csv('PL_preprocessed.csv')\n",
    "train_LIGA = pd.read_csv('LIGA_preprocessed.csv')\n",
    "train_SE = pd.read_csv('SE_preprocessed.csv')\n",
    "train_BL = pd.read_csv('BL_preprocessed.csv')\n",
    "test_PL = pd.read_csv('PL_test_pp_new.csv')\n",
    "test_LIGA = pd.read_csv('LIGA_test_pp_new.csv')\n",
    "test_SE = pd.read_csv('SE_test_pp_new.csv')\n",
    "test_BL = pd.read_csv('BL_test_pp_new.csv')"
   ]
  },
  {
   "cell_type": "code",
   "execution_count": 4,
   "metadata": {},
   "outputs": [],
   "source": [
    "train_df = pd.concat([train_PL, train_LIGA, train_SE, train_BL], axis=0)\n",
    "test_df = pd.concat([test_PL, test_LIGA, test_SE, test_BL], axis=0)"
   ]
  },
  {
   "cell_type": "code",
   "execution_count": 5,
   "metadata": {
    "scrolled": false
   },
   "outputs": [
    {
     "data": {
      "text/plain": [
       "Index(['season', 'home', 'away', 'full_home_score', 'full_away_score',\n",
       "       'result', 'home_team', 'P_h', 'W_h', 'D_h', 'L_h', 'GF_h', 'GA_h',\n",
       "       'GD_h', 'Pts_h', 'raised_h', 'home_bs', 'away_bs', 'h_skill', 'HA',\n",
       "       'away_team', 'P_a', 'W_a', 'D_a', 'L_a', 'GF_a', 'GA_a', 'GD_a',\n",
       "       'Pts_a', 'raised_a', 'a_skill', 'home_team_fixed', 'home_bs_fixed',\n",
       "       'away_bs_fixed', 'h_skill_fixed', 'HA_fixed', 'away_team_fixed',\n",
       "       'a_skill_fixed'],\n",
       "      dtype='object')"
      ]
     },
     "execution_count": 5,
     "metadata": {},
     "output_type": "execute_result"
    }
   ],
   "source": [
    "train_df.columns"
   ]
  },
  {
   "cell_type": "code",
   "execution_count": 6,
   "metadata": {},
   "outputs": [],
   "source": [
    "############ lamba 추가 set\n",
    "train_df['h_lambda'] = np.exp(train_df['home_bs'] + train_df['h_skill'] - train_df['a_skill'])\n",
    "train_df['a_lambda'] = np.exp(train_df['away_bs'] + train_df['a_skill'] - train_df['h_skill'])\n",
    "train_df['h_lambda_fixed'] = np.exp(train_df['home_bs_fixed'] + \n",
    "                                    train_df['h_skill_fixed'] - train_df['a_skill_fixed'])\n",
    "train_df['a_lambda_fixed'] = np.exp(train_df['away_bs_fixed'] +\n",
    "                                    train_df['a_skill_fixed'] - train_df['h_skill_fixed'])\n",
    "test_df['h_lambda'] = np.exp(test_df['home_bs'] + test_df['h_skill'] - test_df['a_skill'])\n",
    "test_df['a_lambda'] = np.exp(test_df['away_bs'] + test_df['a_skill'] - test_df['h_skill'])\n",
    "test_df['h_lambda_fixed'] = np.exp(test_df['home_bs_fixed'] + \n",
    "                                    test_df['h_skill_fixed'] - test_df['a_skill_fixed'])\n",
    "test_df['a_lambda_fixed'] = np.exp(test_df['away_bs_fixed'] +\n",
    "                                    test_df['a_skill_fixed'] - test_df['h_skill_fixed'])\n",
    "\n",
    "# set1 : 이전 시즌의 팀별 스텟\n",
    "# set2 : 동일한 HA 적용한 model에서 얻은 parameter 추가\n",
    "# set3 : 코로나 이후 변화한 HA 를 적용한 model에서 얻은 parameter 추가\n",
    "set1 = ['W_h', 'D_h', 'L_h', 'GF_h', 'GA_h', 'GD_h', 'Pts_h', 'raised_h',\n",
    "        'W_a', 'D_a', 'L_a', 'GF_a', 'GA_a', 'GD_a', 'Pts_h', 'raised_a']\n",
    "set2 = set1 + ['home_bs_fixed', 'away_bs_fixed', 'h_skill_fixed', 'a_skill_fixed', \n",
    "               'HA_fixed', 'h_lambda_fixed', 'a_lambda_fixed']\n",
    "set3 = set1 + ['home_bs', 'away_bs', 'h_skill', 'a_skill', 'HA', 'h_lambda', 'a_lambda']"
   ]
  },
  {
   "cell_type": "markdown",
   "metadata": {},
   "source": [
    "### Train/test set"
   ]
  },
  {
   "cell_type": "code",
   "execution_count": 7,
   "metadata": {},
   "outputs": [],
   "source": [
    "# set1 : 이전 시즌의 팀별 스텟\n",
    "# set2 : 동일한 HA 적용한 model에서 얻은 parameter 추가\n",
    "# set3 : 코로나 이후 변화한 HA 를 적용한 model에서 얻은 parameter 추가\n",
    "set1 = ['W_h', 'D_h', 'L_h', 'GF_h', 'GA_h', 'GD_h', 'Pts_h', 'raised_h',\n",
    "        'W_a', 'D_a', 'L_a', 'GF_a', 'GA_a', 'GD_a', 'Pts_h', 'raised_a']\n",
    "set2 = set1 + ['home_bs_fixed', 'away_bs_fixed', 'h_skill_fixed', 'a_skill_fixed', \n",
    "               'HA_fixed']\n",
    "set3 = set1 + ['home_bs', 'away_bs', 'h_skill', 'a_skill', 'HA']"
   ]
  },
  {
   "cell_type": "code",
   "execution_count": 8,
   "metadata": {},
   "outputs": [],
   "source": [
    "train_x_1, train_y_1 = train_df[set1], train_df['result']\n",
    "X_test_1, y_test_1 = test_df[set1], test_df['result']\n",
    "train_x_2, train_y_2 = train_df[set2], train_df['result']\n",
    "X_test_2, y_test_2 = test_df[set2], test_df['result']\n",
    "train_x_3, train_y_3 = train_df[set3], train_df['result']\n",
    "X_test_3, y_test_3 = test_df[set3], test_df['result']"
   ]
  },
  {
   "cell_type": "code",
   "execution_count": 244,
   "metadata": {},
   "outputs": [],
   "source": [
    "X_train, X_val, y_train, y_val = train_test_split(train_x, train_y, test_size = 0.3, random_state=1)"
   ]
  },
  {
   "cell_type": "markdown",
   "metadata": {},
   "source": [
    "### logistic Regression"
   ]
  },
  {
   "cell_type": "code",
   "execution_count": 265,
   "metadata": {
    "scrolled": true
   },
   "outputs": [
    {
     "data": {
      "text/plain": [
       "0.5062326869806094"
      ]
     },
     "execution_count": 265,
     "metadata": {},
     "output_type": "execute_result"
    }
   ],
   "source": [
    "lm = linear_model.LogisticRegression(multi_class='ovr', solver='liblinear', C=10)\n",
    "lm.fit(train_x_1, train_y_1)\n",
    "lm.score(X_test_1, y_test_1)"
   ]
  },
  {
   "cell_type": "code",
   "execution_count": 266,
   "metadata": {},
   "outputs": [
    {
     "data": {
      "text/plain": [
       "0.2011134079806868"
      ]
     },
     "execution_count": 266,
     "metadata": {},
     "output_type": "execute_result"
    }
   ],
   "source": [
    "RPS(lm.predict_proba(X_test_1), enc.fit_transform(np.array(y_test_1).reshape(-1,1)).toarray())"
   ]
  },
  {
   "cell_type": "code",
   "execution_count": 172,
   "metadata": {},
   "outputs": [],
   "source": [
    "def softmax(x):\n",
    "    \"\"\"Compute softmax values for each sets of scores in x.\"\"\"\n",
    "    e_x = np.exp(x - np.max(x))\n",
    "    return e_x / e_x.sum()"
   ]
  },
  {
   "cell_type": "code",
   "execution_count": 174,
   "metadata": {},
   "outputs": [],
   "source": [
    "a = np.array([0.6, 0.2, 0.2])"
   ]
  },
  {
   "cell_type": "code",
   "execution_count": 80,
   "metadata": {},
   "outputs": [],
   "source": [
    "enc = OneHotEncoder()"
   ]
  },
  {
   "cell_type": "code",
   "execution_count": 94,
   "metadata": {},
   "outputs": [],
   "source": [
    "y_test_1_enc = enc.fit_transform(np.array(y_test_1).reshape(-1,1)).toarray()"
   ]
  },
  {
   "cell_type": "code",
   "execution_count": 103,
   "metadata": {},
   "outputs": [],
   "source": [
    "def RMS(p_proba, target_y) :\n",
    "    output = ((p_proba - target_y)**2).sum()/(target_y.shape[0])\n",
    "    return(output)"
   ]
  },
  {
   "cell_type": "code",
   "execution_count": 325,
   "metadata": {},
   "outputs": [],
   "source": [
    "def RPS(p_proba, target_y) :\n",
    "    output = ((p_proba - target_y)**2)[:, 2]\n",
    "    output2 = np.sum((p_proba - target_y)[:,1:2], axis=1)**2\n",
    "    output3 = np.sum((p_proba - target_y), axis=1)**2\n",
    "    output = output + output2 + output3\n",
    "    output /= 2\n",
    "    output = np.mean(output)\n",
    "    return(output)"
   ]
  },
  {
   "cell_type": "code",
   "execution_count": 279,
   "metadata": {},
   "outputs": [
    {
     "data": {
      "text/plain": [
       "0.5207756232686981"
      ]
     },
     "execution_count": 279,
     "metadata": {},
     "output_type": "execute_result"
    }
   ],
   "source": [
    "lm = linear_model.LogisticRegression(multi_class='ovr', solver='liblinear', C=10)\n",
    "lm.fit(train_x_2, train_y_2)\n",
    "lm.score(X_test_2, y_test_2)"
   ]
  },
  {
   "cell_type": "code",
   "execution_count": 280,
   "metadata": {
    "scrolled": false
   },
   "outputs": [
    {
     "data": {
      "text/plain": [
       "0.2000821013422271"
      ]
     },
     "execution_count": 280,
     "metadata": {},
     "output_type": "execute_result"
    }
   ],
   "source": [
    "RPS(lm.predict_proba(X_test_2), enc.fit_transform(np.array(y_test_2).reshape(-1,1)).toarray())"
   ]
  },
  {
   "cell_type": "code",
   "execution_count": 281,
   "metadata": {},
   "outputs": [
    {
     "data": {
      "text/plain": [
       "0.5228531855955678"
      ]
     },
     "execution_count": 281,
     "metadata": {},
     "output_type": "execute_result"
    }
   ],
   "source": [
    "lm = linear_model.LogisticRegression(multi_class='ovr', solver='liblinear', C=10)\n",
    "lm.fit(train_x_3, train_y_3)\n",
    "lm.score(X_test_3, y_test_3)"
   ]
  },
  {
   "cell_type": "code",
   "execution_count": 282,
   "metadata": {},
   "outputs": [
    {
     "data": {
      "text/plain": [
       "0.19985719764598608"
      ]
     },
     "execution_count": 282,
     "metadata": {},
     "output_type": "execute_result"
    }
   ],
   "source": [
    "RPS(lm.predict_proba(X_test_3), enc.fit_transform(np.array(y_test_3).reshape(-1,1)).toarray())"
   ]
  },
  {
   "cell_type": "code",
   "execution_count": 102,
   "metadata": {},
   "outputs": [
    {
     "data": {
      "text/plain": [
       "0.75"
      ]
     },
     "execution_count": 102,
     "metadata": {},
     "output_type": "execute_result"
    }
   ],
   "source": [
    "0.5**2 + 0.5**2 + 0.5**2"
   ]
  },
  {
   "cell_type": "markdown",
   "metadata": {},
   "source": [
    "## MLP"
   ]
  },
  {
   "cell_type": "code",
   "execution_count": 283,
   "metadata": {},
   "outputs": [],
   "source": [
    "train_x, train_y = train_df[set3], train_df['result']\n",
    "X_test, y_test = test_df[set3], test_df['result']"
   ]
  },
  {
   "cell_type": "code",
   "execution_count": 284,
   "metadata": {
    "scrolled": true
   },
   "outputs": [],
   "source": [
    "scaler1 = StandardScaler()\n",
    "scaler2 = StandardScaler()\n",
    "scaler3 = StandardScaler()\n",
    "scaler1.fit(pd.concat([train_x_1, X_test_1], axis=0).values)\n",
    "scaler2.fit(pd.concat([train_x_2, X_test_2], axis=0).values)\n",
    "scaler3.fit(pd.concat([train_x_3, X_test_3], axis=0).values)\n",
    "train_x_no_1 = scaler1.transform(train_x_1.values)\n",
    "train_x_no_2 = scaler2.transform(train_x_2.values)\n",
    "train_x_no_3 = scaler3.transform(train_x_3.values)\n",
    "X_test_no_1 = scaler1.transform(X_test_1.values)\n",
    "X_test_no_2 = scaler2.transform(X_test_2.values)\n",
    "X_test_no_3 = scaler3.transform(X_test_3.values)"
   ]
  },
  {
   "cell_type": "code",
   "execution_count": 336,
   "metadata": {},
   "outputs": [],
   "source": [
    "clf = MLPClassifier(solver='lbfgs', alpha=1e-1,\n",
    "                     hidden_layer_sizes=(3,3), random_state=15, max_iter = 1000)"
   ]
  },
  {
   "cell_type": "code",
   "execution_count": 337,
   "metadata": {
    "scrolled": true
   },
   "outputs": [
    {
     "data": {
      "text/plain": [
       "0.5083102493074793"
      ]
     },
     "execution_count": 337,
     "metadata": {},
     "output_type": "execute_result"
    }
   ],
   "source": [
    "clf.fit(train_x_no_1, train_y)\n",
    "clf.score(X_test_no_1, y_test)"
   ]
  },
  {
   "cell_type": "code",
   "execution_count": 338,
   "metadata": {},
   "outputs": [
    {
     "data": {
      "text/plain": [
       "0.20033708254571317"
      ]
     },
     "execution_count": 338,
     "metadata": {},
     "output_type": "execute_result"
    }
   ],
   "source": [
    "RPS(clf.predict_proba(X_test_no_1), enc.fit_transform(np.array(y_test).reshape(-1,1)).toarray())"
   ]
  },
  {
   "cell_type": "code",
   "execution_count": 339,
   "metadata": {
    "scrolled": true
   },
   "outputs": [
    {
     "data": {
      "text/plain": [
       "0.5186980609418282"
      ]
     },
     "execution_count": 339,
     "metadata": {},
     "output_type": "execute_result"
    }
   ],
   "source": [
    "clf.fit(train_x_no_2, train_y)\n",
    "clf.score(X_test_no_2, y_test)"
   ]
  },
  {
   "cell_type": "code",
   "execution_count": 340,
   "metadata": {},
   "outputs": [
    {
     "data": {
      "text/plain": [
       "0.20098307946137636"
      ]
     },
     "execution_count": 340,
     "metadata": {},
     "output_type": "execute_result"
    }
   ],
   "source": [
    "RPS(clf.predict_proba(X_test_no_2), enc.fit_transform(np.array(y_test).reshape(-1,1)).toarray())"
   ]
  },
  {
   "cell_type": "code",
   "execution_count": 341,
   "metadata": {
    "scrolled": true
   },
   "outputs": [
    {
     "data": {
      "text/plain": [
       "0.5186980609418282"
      ]
     },
     "execution_count": 341,
     "metadata": {},
     "output_type": "execute_result"
    }
   ],
   "source": [
    "clf.fit(train_x_no_3, train_y)\n",
    "clf.score(X_test_no_3, y_test)"
   ]
  },
  {
   "cell_type": "code",
   "execution_count": 342,
   "metadata": {},
   "outputs": [
    {
     "data": {
      "text/plain": [
       "0.20089599135517072"
      ]
     },
     "execution_count": 342,
     "metadata": {},
     "output_type": "execute_result"
    }
   ],
   "source": [
    "RPS(clf.predict_proba(X_test_no_3), enc.fit_transform(np.array(y_test).reshape(-1,1)).toarray())"
   ]
  },
  {
   "cell_type": "code",
   "execution_count": 96,
   "metadata": {},
   "outputs": [],
   "source": [
    "#################### RANDOM FOREST CLASSIFIER\n",
    "####################"
   ]
  },
  {
   "cell_type": "code",
   "execution_count": 164,
   "metadata": {},
   "outputs": [],
   "source": [
    "rf = RandomForestClassifier(n_estimators=100, max_features=5, random_state=10)"
   ]
  },
  {
   "cell_type": "code",
   "execution_count": 297,
   "metadata": {},
   "outputs": [
    {
     "data": {
      "text/plain": [
       "0.471606648199446"
      ]
     },
     "execution_count": 297,
     "metadata": {},
     "output_type": "execute_result"
    }
   ],
   "source": [
    "rf.fit(train_x_1, train_y)\n",
    "rf.score(X_test_1,y_test)"
   ]
  },
  {
   "cell_type": "code",
   "execution_count": 298,
   "metadata": {},
   "outputs": [
    {
     "data": {
      "text/plain": [
       "0.21231617036011083"
      ]
     },
     "execution_count": 298,
     "metadata": {},
     "output_type": "execute_result"
    }
   ],
   "source": [
    "RPS(rf.predict_proba(X_test_1), enc.fit_transform(np.array(y_test).reshape(-1,1)).toarray())"
   ]
  },
  {
   "cell_type": "code",
   "execution_count": 299,
   "metadata": {
    "scrolled": false
   },
   "outputs": [
    {
     "data": {
      "text/plain": [
       "0.4937673130193906"
      ]
     },
     "execution_count": 299,
     "metadata": {},
     "output_type": "execute_result"
    }
   ],
   "source": [
    "rf.fit(train_x_2, train_y)\n",
    "rf.score(X_test_2,y_test)"
   ]
  },
  {
   "cell_type": "code",
   "execution_count": 300,
   "metadata": {},
   "outputs": [
    {
     "data": {
      "text/plain": [
       "0.21003795013850415"
      ]
     },
     "execution_count": 300,
     "metadata": {},
     "output_type": "execute_result"
    }
   ],
   "source": [
    "RPS(rf.predict_proba(X_test_2), enc.fit_transform(np.array(y_test).reshape(-1,1)).toarray())"
   ]
  },
  {
   "cell_type": "code",
   "execution_count": 301,
   "metadata": {},
   "outputs": [
    {
     "data": {
      "text/plain": [
       "0.49584487534626037"
      ]
     },
     "execution_count": 301,
     "metadata": {},
     "output_type": "execute_result"
    }
   ],
   "source": [
    "rf.fit(train_x_3, train_y)\n",
    "rf.score(X_test_3,y_test)"
   ]
  },
  {
   "cell_type": "code",
   "execution_count": 302,
   "metadata": {},
   "outputs": [
    {
     "data": {
      "text/plain": [
       "0.20733840027700834"
      ]
     },
     "execution_count": 302,
     "metadata": {},
     "output_type": "execute_result"
    }
   ],
   "source": [
    "RPS(rf.predict_proba(X_test_3), enc.fit_transform(np.array(y_test).reshape(-1,1)).toarray())"
   ]
  },
  {
   "cell_type": "code",
   "execution_count": 171,
   "metadata": {},
   "outputs": [],
   "source": [
    "################### SVM 까지 비교 score 예측\n",
    "###################"
   ]
  },
  {
   "cell_type": "code",
   "execution_count": 303,
   "metadata": {},
   "outputs": [],
   "source": [
    "clf = svm.SVC(kernel='linear', verbose = 1, tol = 1e-4, C=1, \n",
    "              decision_function_shape='ovr', probability=True)"
   ]
  },
  {
   "cell_type": "code",
   "execution_count": 304,
   "metadata": {},
   "outputs": [
    {
     "name": "stdout",
     "output_type": "stream",
     "text": [
      "[LibSVM]"
     ]
    },
    {
     "data": {
      "text/plain": [
       "0.4951523545706371"
      ]
     },
     "execution_count": 304,
     "metadata": {},
     "output_type": "execute_result"
    }
   ],
   "source": [
    "clf.fit(train_x_1, train_y)\n",
    "clf.score(X_test_1,y_test)"
   ]
  },
  {
   "cell_type": "code",
   "execution_count": 305,
   "metadata": {},
   "outputs": [
    {
     "data": {
      "text/plain": [
       "0.20501532205002634"
      ]
     },
     "execution_count": 305,
     "metadata": {},
     "output_type": "execute_result"
    }
   ],
   "source": [
    "RPS(clf.predict_proba(X_test_1), enc.fit_transform(np.array(y_test).reshape(-1,1)).toarray())"
   ]
  },
  {
   "cell_type": "code",
   "execution_count": 306,
   "metadata": {},
   "outputs": [
    {
     "name": "stdout",
     "output_type": "stream",
     "text": [
      "[LibSVM]"
     ]
    },
    {
     "data": {
      "text/plain": [
       "0.5159279778393352"
      ]
     },
     "execution_count": 306,
     "metadata": {},
     "output_type": "execute_result"
    }
   ],
   "source": [
    "clf.fit(train_x_2, train_y)\n",
    "clf.score(X_test_2,y_test)"
   ]
  },
  {
   "cell_type": "code",
   "execution_count": 307,
   "metadata": {},
   "outputs": [
    {
     "data": {
      "text/plain": [
       "0.20234669815442152"
      ]
     },
     "execution_count": 307,
     "metadata": {},
     "output_type": "execute_result"
    }
   ],
   "source": [
    "RPS(clf.predict_proba(X_test_2), enc.fit_transform(np.array(y_test).reshape(-1,1)).toarray())"
   ]
  },
  {
   "cell_type": "code",
   "execution_count": 308,
   "metadata": {},
   "outputs": [
    {
     "name": "stdout",
     "output_type": "stream",
     "text": [
      "[LibSVM]"
     ]
    },
    {
     "data": {
      "text/plain": [
       "0.5193905817174516"
      ]
     },
     "execution_count": 308,
     "metadata": {},
     "output_type": "execute_result"
    }
   ],
   "source": [
    "clf.fit(train_x_3, train_y)\n",
    "clf.score(X_test_3,y_test)"
   ]
  },
  {
   "cell_type": "code",
   "execution_count": 309,
   "metadata": {},
   "outputs": [
    {
     "data": {
      "text/plain": [
       "0.20153335609341885"
      ]
     },
     "execution_count": 309,
     "metadata": {},
     "output_type": "execute_result"
    }
   ],
   "source": [
    "RPS(clf.predict_proba(X_test_3), enc.fit_transform(np.array(y_test).reshape(-1,1)).toarray())"
   ]
  },
  {
   "cell_type": "code",
   "execution_count": null,
   "metadata": {},
   "outputs": [],
   "source": [
    "######################### naive_bayes"
   ]
  },
  {
   "cell_type": "code",
   "execution_count": 329,
   "metadata": {},
   "outputs": [
    {
     "data": {
      "text/plain": [
       "0.4792243767313019"
      ]
     },
     "execution_count": 329,
     "metadata": {},
     "output_type": "execute_result"
    }
   ],
   "source": [
    "clf = GaussianNB()\n",
    "clf.fit(train_x_1, train_y)\n",
    "clf.score(X_test_1, y_test)"
   ]
  },
  {
   "cell_type": "code",
   "execution_count": 330,
   "metadata": {},
   "outputs": [
    {
     "data": {
      "text/plain": [
       "0.11651770520811668"
      ]
     },
     "execution_count": 330,
     "metadata": {},
     "output_type": "execute_result"
    }
   ],
   "source": [
    "RPS(clf.predict_proba(X_test_1), enc.fit_transform(np.array(y_test).reshape(-1,1)).toarray())/2"
   ]
  },
  {
   "cell_type": "code",
   "execution_count": 345,
   "metadata": {},
   "outputs": [
    {
     "data": {
      "text/plain": [
       "0.481994459833795"
      ]
     },
     "execution_count": 345,
     "metadata": {},
     "output_type": "execute_result"
    }
   ],
   "source": [
    "clf = GaussianNB()\n",
    "clf.fit(train_x_2, train_y)\n",
    "clf.score(X_test_2, y_test)"
   ]
  },
  {
   "cell_type": "code",
   "execution_count": 332,
   "metadata": {},
   "outputs": [
    {
     "data": {
      "text/plain": [
       "0.1175407121844732"
      ]
     },
     "execution_count": 332,
     "metadata": {},
     "output_type": "execute_result"
    }
   ],
   "source": [
    "RPS(clf.predict_proba(X_test_2), enc.fit_transform(np.array(y_test).reshape(-1,1)).toarray())/2"
   ]
  },
  {
   "cell_type": "code",
   "execution_count": 343,
   "metadata": {},
   "outputs": [
    {
     "data": {
      "text/plain": [
       "0.4778393351800554"
      ]
     },
     "execution_count": 343,
     "metadata": {},
     "output_type": "execute_result"
    }
   ],
   "source": [
    "clf = GaussianNB()\n",
    "clf.fit(train_x_3, train_y)\n",
    "clf.score(X_test_3, y_test)"
   ]
  },
  {
   "cell_type": "code",
   "execution_count": 334,
   "metadata": {},
   "outputs": [
    {
     "data": {
      "text/plain": [
       "0.11771561411320036"
      ]
     },
     "execution_count": 334,
     "metadata": {},
     "output_type": "execute_result"
    }
   ],
   "source": [
    "RPS(clf.predict_proba(X_test_3), enc.fit_transform(np.array(y_test).reshape(-1,1)).toarray())/2"
   ]
  },
  {
   "cell_type": "code",
   "execution_count": 335,
   "metadata": {
    "scrolled": true
   },
   "outputs": [
    {
     "data": {
      "text/plain": [
       "array([[2.35086520e-05, 2.44002937e-04, 9.99732488e-01],\n",
       "       [2.51073104e-01, 5.74532973e-01, 1.74393923e-01],\n",
       "       [3.18113990e-01, 5.11661344e-01, 1.70224666e-01],\n",
       "       ...,\n",
       "       [1.40094760e-01, 4.55437686e-01, 4.04467555e-01],\n",
       "       [9.03606643e-07, 7.95257000e-05, 9.99919571e-01],\n",
       "       [8.78975751e-01, 1.10878376e-01, 1.01458725e-02]])"
      ]
     },
     "execution_count": 335,
     "metadata": {},
     "output_type": "execute_result"
    }
   ],
   "source": [
    "clf.predict_proba(X_test_3)"
   ]
  },
  {
   "cell_type": "code",
   "execution_count": null,
   "metadata": {},
   "outputs": [],
   "source": []
  },
  {
   "cell_type": "code",
   "execution_count": 347,
   "metadata": {},
   "outputs": [
    {
     "data": {
      "text/plain": [
       "array([0.29779548, 0.24462764, 0.45757688])"
      ]
     },
     "execution_count": 347,
     "metadata": {},
     "output_type": "execute_result"
    }
   ],
   "source": [
    "clf.class_prior_"
   ]
  },
  {
   "cell_type": "code",
   "execution_count": 366,
   "metadata": {},
   "outputs": [
    {
     "data": {
      "text/plain": [
       "0.29779547980733606"
      ]
     },
     "execution_count": 366,
     "metadata": {},
     "output_type": "execute_result"
    }
   ],
   "source": [
    "len(train_y[train_y==-1])/len(train_y)"
   ]
  },
  {
   "cell_type": "code",
   "execution_count": 361,
   "metadata": {},
   "outputs": [
    {
     "data": {
      "text/plain": [
       "1444"
      ]
     },
     "execution_count": 361,
     "metadata": {},
     "output_type": "execute_result"
    }
   ],
   "source": [
    "len(y_test)"
   ]
  },
  {
   "cell_type": "code",
   "execution_count": 358,
   "metadata": {},
   "outputs": [
    {
     "data": {
      "text/plain": [
       "0.25554016620498615"
      ]
     },
     "execution_count": 358,
     "metadata": {},
     "output_type": "execute_result"
    }
   ],
   "source": [
    "369/1444"
   ]
  },
  {
   "cell_type": "code",
   "execution_count": 364,
   "metadata": {},
   "outputs": [
    {
     "data": {
      "text/html": [
       "<div>\n",
       "<style scoped>\n",
       "    .dataframe tbody tr th:only-of-type {\n",
       "        vertical-align: middle;\n",
       "    }\n",
       "\n",
       "    .dataframe tbody tr th {\n",
       "        vertical-align: top;\n",
       "    }\n",
       "\n",
       "    .dataframe thead th {\n",
       "        text-align: right;\n",
       "    }\n",
       "</style>\n",
       "<table border=\"1\" class=\"dataframe\">\n",
       "  <thead>\n",
       "    <tr style=\"text-align: right;\">\n",
       "      <th></th>\n",
       "      <th>W_h</th>\n",
       "      <th>D_h</th>\n",
       "      <th>L_h</th>\n",
       "      <th>GF_h</th>\n",
       "      <th>GA_h</th>\n",
       "      <th>GD_h</th>\n",
       "      <th>Pts_h</th>\n",
       "      <th>raised_h</th>\n",
       "      <th>W_a</th>\n",
       "      <th>D_a</th>\n",
       "      <th>L_a</th>\n",
       "      <th>GF_a</th>\n",
       "      <th>GA_a</th>\n",
       "      <th>GD_a</th>\n",
       "      <th>Pts_h</th>\n",
       "      <th>raised_a</th>\n",
       "    </tr>\n",
       "  </thead>\n",
       "  <tbody>\n",
       "    <tr>\n",
       "      <th>0</th>\n",
       "      <td>False</td>\n",
       "      <td>False</td>\n",
       "      <td>False</td>\n",
       "      <td>False</td>\n",
       "      <td>False</td>\n",
       "      <td>False</td>\n",
       "      <td>False</td>\n",
       "      <td>False</td>\n",
       "      <td>False</td>\n",
       "      <td>False</td>\n",
       "      <td>False</td>\n",
       "      <td>False</td>\n",
       "      <td>False</td>\n",
       "      <td>False</td>\n",
       "      <td>False</td>\n",
       "      <td>False</td>\n",
       "    </tr>\n",
       "    <tr>\n",
       "      <th>1</th>\n",
       "      <td>False</td>\n",
       "      <td>False</td>\n",
       "      <td>False</td>\n",
       "      <td>False</td>\n",
       "      <td>False</td>\n",
       "      <td>False</td>\n",
       "      <td>False</td>\n",
       "      <td>False</td>\n",
       "      <td>False</td>\n",
       "      <td>False</td>\n",
       "      <td>False</td>\n",
       "      <td>False</td>\n",
       "      <td>False</td>\n",
       "      <td>False</td>\n",
       "      <td>False</td>\n",
       "      <td>False</td>\n",
       "    </tr>\n",
       "    <tr>\n",
       "      <th>2</th>\n",
       "      <td>False</td>\n",
       "      <td>False</td>\n",
       "      <td>False</td>\n",
       "      <td>False</td>\n",
       "      <td>False</td>\n",
       "      <td>False</td>\n",
       "      <td>False</td>\n",
       "      <td>False</td>\n",
       "      <td>False</td>\n",
       "      <td>False</td>\n",
       "      <td>False</td>\n",
       "      <td>False</td>\n",
       "      <td>False</td>\n",
       "      <td>False</td>\n",
       "      <td>False</td>\n",
       "      <td>False</td>\n",
       "    </tr>\n",
       "    <tr>\n",
       "      <th>3</th>\n",
       "      <td>False</td>\n",
       "      <td>False</td>\n",
       "      <td>False</td>\n",
       "      <td>False</td>\n",
       "      <td>False</td>\n",
       "      <td>False</td>\n",
       "      <td>False</td>\n",
       "      <td>False</td>\n",
       "      <td>False</td>\n",
       "      <td>False</td>\n",
       "      <td>False</td>\n",
       "      <td>False</td>\n",
       "      <td>False</td>\n",
       "      <td>False</td>\n",
       "      <td>False</td>\n",
       "      <td>False</td>\n",
       "    </tr>\n",
       "    <tr>\n",
       "      <th>4</th>\n",
       "      <td>False</td>\n",
       "      <td>False</td>\n",
       "      <td>False</td>\n",
       "      <td>False</td>\n",
       "      <td>False</td>\n",
       "      <td>False</td>\n",
       "      <td>False</td>\n",
       "      <td>False</td>\n",
       "      <td>False</td>\n",
       "      <td>False</td>\n",
       "      <td>False</td>\n",
       "      <td>False</td>\n",
       "      <td>False</td>\n",
       "      <td>False</td>\n",
       "      <td>False</td>\n",
       "      <td>False</td>\n",
       "    </tr>\n",
       "    <tr>\n",
       "      <th>...</th>\n",
       "      <td>...</td>\n",
       "      <td>...</td>\n",
       "      <td>...</td>\n",
       "      <td>...</td>\n",
       "      <td>...</td>\n",
       "      <td>...</td>\n",
       "      <td>...</td>\n",
       "      <td>...</td>\n",
       "      <td>...</td>\n",
       "      <td>...</td>\n",
       "      <td>...</td>\n",
       "      <td>...</td>\n",
       "      <td>...</td>\n",
       "      <td>...</td>\n",
       "      <td>...</td>\n",
       "      <td>...</td>\n",
       "    </tr>\n",
       "    <tr>\n",
       "      <th>300</th>\n",
       "      <td>False</td>\n",
       "      <td>False</td>\n",
       "      <td>False</td>\n",
       "      <td>False</td>\n",
       "      <td>False</td>\n",
       "      <td>False</td>\n",
       "      <td>False</td>\n",
       "      <td>False</td>\n",
       "      <td>False</td>\n",
       "      <td>False</td>\n",
       "      <td>False</td>\n",
       "      <td>False</td>\n",
       "      <td>False</td>\n",
       "      <td>False</td>\n",
       "      <td>False</td>\n",
       "      <td>False</td>\n",
       "    </tr>\n",
       "    <tr>\n",
       "      <th>301</th>\n",
       "      <td>False</td>\n",
       "      <td>False</td>\n",
       "      <td>False</td>\n",
       "      <td>False</td>\n",
       "      <td>False</td>\n",
       "      <td>True</td>\n",
       "      <td>False</td>\n",
       "      <td>False</td>\n",
       "      <td>False</td>\n",
       "      <td>False</td>\n",
       "      <td>False</td>\n",
       "      <td>False</td>\n",
       "      <td>False</td>\n",
       "      <td>False</td>\n",
       "      <td>False</td>\n",
       "      <td>False</td>\n",
       "    </tr>\n",
       "    <tr>\n",
       "      <th>302</th>\n",
       "      <td>False</td>\n",
       "      <td>False</td>\n",
       "      <td>False</td>\n",
       "      <td>False</td>\n",
       "      <td>False</td>\n",
       "      <td>False</td>\n",
       "      <td>False</td>\n",
       "      <td>False</td>\n",
       "      <td>False</td>\n",
       "      <td>False</td>\n",
       "      <td>False</td>\n",
       "      <td>False</td>\n",
       "      <td>False</td>\n",
       "      <td>False</td>\n",
       "      <td>False</td>\n",
       "      <td>False</td>\n",
       "    </tr>\n",
       "    <tr>\n",
       "      <th>303</th>\n",
       "      <td>False</td>\n",
       "      <td>False</td>\n",
       "      <td>False</td>\n",
       "      <td>False</td>\n",
       "      <td>False</td>\n",
       "      <td>False</td>\n",
       "      <td>False</td>\n",
       "      <td>False</td>\n",
       "      <td>False</td>\n",
       "      <td>False</td>\n",
       "      <td>False</td>\n",
       "      <td>False</td>\n",
       "      <td>False</td>\n",
       "      <td>False</td>\n",
       "      <td>False</td>\n",
       "      <td>False</td>\n",
       "    </tr>\n",
       "    <tr>\n",
       "      <th>304</th>\n",
       "      <td>False</td>\n",
       "      <td>False</td>\n",
       "      <td>False</td>\n",
       "      <td>False</td>\n",
       "      <td>False</td>\n",
       "      <td>False</td>\n",
       "      <td>False</td>\n",
       "      <td>False</td>\n",
       "      <td>False</td>\n",
       "      <td>False</td>\n",
       "      <td>False</td>\n",
       "      <td>False</td>\n",
       "      <td>False</td>\n",
       "      <td>False</td>\n",
       "      <td>False</td>\n",
       "      <td>False</td>\n",
       "    </tr>\n",
       "  </tbody>\n",
       "</table>\n",
       "<p>1444 rows × 16 columns</p>\n",
       "</div>"
      ],
      "text/plain": [
       "       W_h    D_h    L_h   GF_h   GA_h   GD_h  Pts_h  raised_h    W_a    D_a  \\\n",
       "0    False  False  False  False  False  False  False     False  False  False   \n",
       "1    False  False  False  False  False  False  False     False  False  False   \n",
       "2    False  False  False  False  False  False  False     False  False  False   \n",
       "3    False  False  False  False  False  False  False     False  False  False   \n",
       "4    False  False  False  False  False  False  False     False  False  False   \n",
       "..     ...    ...    ...    ...    ...    ...    ...       ...    ...    ...   \n",
       "300  False  False  False  False  False  False  False     False  False  False   \n",
       "301  False  False  False  False  False   True  False     False  False  False   \n",
       "302  False  False  False  False  False  False  False     False  False  False   \n",
       "303  False  False  False  False  False  False  False     False  False  False   \n",
       "304  False  False  False  False  False  False  False     False  False  False   \n",
       "\n",
       "       L_a   GF_a   GA_a   GD_a  Pts_h  raised_a  \n",
       "0    False  False  False  False  False     False  \n",
       "1    False  False  False  False  False     False  \n",
       "2    False  False  False  False  False     False  \n",
       "3    False  False  False  False  False     False  \n",
       "4    False  False  False  False  False     False  \n",
       "..     ...    ...    ...    ...    ...       ...  \n",
       "300  False  False  False  False  False     False  \n",
       "301  False  False  False  False  False     False  \n",
       "302  False  False  False  False  False     False  \n",
       "303  False  False  False  False  False     False  \n",
       "304  False  False  False  False  False     False  \n",
       "\n",
       "[1444 rows x 16 columns]"
      ]
     },
     "execution_count": 364,
     "metadata": {},
     "output_type": "execute_result"
    }
   ],
   "source": [
    "X_test_1==-1"
   ]
  }
 ],
 "metadata": {
  "kernelspec": {
   "display_name": "Python 3",
   "language": "python",
   "name": "python3"
  },
  "language_info": {
   "codemirror_mode": {
    "name": "ipython",
    "version": 3
   },
   "file_extension": ".py",
   "mimetype": "text/x-python",
   "name": "python",
   "nbconvert_exporter": "python",
   "pygments_lexer": "ipython3",
   "version": "3.8.5"
  }
 },
 "nbformat": 4,
 "nbformat_minor": 4
}
