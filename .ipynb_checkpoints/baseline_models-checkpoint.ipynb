{
 "cells": [
  {
   "cell_type": "code",
   "execution_count": 4,
   "metadata": {},
   "outputs": [],
   "source": [
    "import numpy as np\n",
    "import pandas as pd\n",
    "import matplotlib.pyplot as plt\n",
    "import time\n",
    "import os\n",
    "import random\n",
    "from sklearn import preprocessing\n",
    "from sklearn.model_selection import train_test_split\n",
    "from sklearn.preprocessing import StandardScaler  \n",
    "from sklearn import linear_model\n",
    "from sklearn import metrics\n",
    "from sklearn.metrics import confusion_matrix, accuracy_score, precision_score, recall_score\n",
    "from sklearn.metrics import confusion_matrix, f1_score, roc_auc_score\n",
    "from sklearn.neural_network import MLPClassifier\n",
    "from sklearn.ensemble import RandomForestClassifier\n",
    "import xgboost as xgb\n",
    "from xgboost import plot_importance"
   ]
  },
  {
   "cell_type": "code",
   "execution_count": 3,
   "metadata": {},
   "outputs": [
    {
     "name": "stdout",
     "output_type": "stream",
     "text": [
      "Collecting xgboost\n",
      "  Downloading xgboost-1.4.1-py3-none-win_amd64.whl (97.8 MB)\n",
      "Requirement already satisfied: numpy in c:\\users\\jaemini_man\\anaconda3\\lib\\site-packages (from xgboost) (1.19.2)\n",
      "Requirement already satisfied: scipy in c:\\users\\jaemini_man\\anaconda3\\lib\\site-packages (from xgboost) (1.5.2)\n",
      "Installing collected packages: xgboost\n",
      "Successfully installed xgboost-1.4.1\n",
      "Note: you may need to restart the kernel to use updated packages.\n"
     ]
    }
   ],
   "source": [
    "pip install xgboost"
   ]
  },
  {
   "cell_type": "code",
   "execution_count": null,
   "metadata": {},
   "outputs": [],
   "source": [
    "path = os.getcwd()"
   ]
  },
  {
   "cell_type": "code",
   "execution_count": null,
   "metadata": {},
   "outputs": [],
   "source": [
    "os.listdir(path)"
   ]
  },
  {
   "cell_type": "code",
   "execution_count": 391,
   "metadata": {},
   "outputs": [],
   "source": [
    "########### read csv files"
   ]
  },
  {
   "cell_type": "code",
   "execution_count": 65,
   "metadata": {},
   "outputs": [],
   "source": [
    "PL = pd.read_csv('PL.csv').iloc[:,1:]\n",
    "BL = pd.read_csv('BL.csv').iloc[:,1:]\n",
    "LIGA = pd.read_csv('LIGA.csv').iloc[:,1:]\n",
    "SE = pd.read_csv('SE.csv').iloc[:,1:]\n",
    "df = pd.concat([PL,LIGA,BL,SE], axis=0)"
   ]
  },
  {
   "cell_type": "code",
   "execution_count": 82,
   "metadata": {},
   "outputs": [
    {
     "data": {
      "text/html": [
       "<div>\n",
       "<style scoped>\n",
       "    .dataframe tbody tr th:only-of-type {\n",
       "        vertical-align: middle;\n",
       "    }\n",
       "\n",
       "    .dataframe tbody tr th {\n",
       "        vertical-align: top;\n",
       "    }\n",
       "\n",
       "    .dataframe thead th {\n",
       "        text-align: right;\n",
       "    }\n",
       "</style>\n",
       "<table border=\"1\" class=\"dataframe\">\n",
       "  <thead>\n",
       "    <tr style=\"text-align: right;\">\n",
       "      <th></th>\n",
       "      <th>Unnamed: 0</th>\n",
       "      <th>home_shot</th>\n",
       "      <th>away_shot</th>\n",
       "      <th>home_possession</th>\n",
       "      <th>away_possession</th>\n",
       "      <th>home_pass_success</th>\n",
       "      <th>away_pass_success</th>\n",
       "      <th>home_dribbles</th>\n",
       "      <th>away_dribbles</th>\n",
       "      <th>home_aerials_won</th>\n",
       "      <th>...</th>\n",
       "      <th>away_last_5_possession</th>\n",
       "      <th>home_last_5_conceded</th>\n",
       "      <th>away_last_5_conceded</th>\n",
       "      <th>home_last_5_passes</th>\n",
       "      <th>away_last_5_passes</th>\n",
       "      <th>home_last_5_shot</th>\n",
       "      <th>away_last_5_shot</th>\n",
       "      <th>season</th>\n",
       "      <th>home_uefa</th>\n",
       "      <th>away_uefa</th>\n",
       "    </tr>\n",
       "  </thead>\n",
       "  <tbody>\n",
       "    <tr>\n",
       "      <th>0</th>\n",
       "      <td>0</td>\n",
       "      <td>16</td>\n",
       "      <td>8</td>\n",
       "      <td>0.0</td>\n",
       "      <td>0.0</td>\n",
       "      <td>83</td>\n",
       "      <td>73</td>\n",
       "      <td>21</td>\n",
       "      <td>20</td>\n",
       "      <td>11</td>\n",
       "      <td>...</td>\n",
       "      <td>NaN</td>\n",
       "      <td>NaN</td>\n",
       "      <td>NaN</td>\n",
       "      <td>NaN</td>\n",
       "      <td>NaN</td>\n",
       "      <td>NaN</td>\n",
       "      <td>NaN</td>\n",
       "      <td>BL1112</td>\n",
       "      <td>22.887</td>\n",
       "      <td>74.887</td>\n",
       "    </tr>\n",
       "    <tr>\n",
       "      <th>1</th>\n",
       "      <td>1</td>\n",
       "      <td>7</td>\n",
       "      <td>12</td>\n",
       "      <td>0.0</td>\n",
       "      <td>0.0</td>\n",
       "      <td>65</td>\n",
       "      <td>78</td>\n",
       "      <td>8</td>\n",
       "      <td>19</td>\n",
       "      <td>12</td>\n",
       "      <td>...</td>\n",
       "      <td>NaN</td>\n",
       "      <td>NaN</td>\n",
       "      <td>NaN</td>\n",
       "      <td>NaN</td>\n",
       "      <td>NaN</td>\n",
       "      <td>NaN</td>\n",
       "      <td>NaN</td>\n",
       "      <td>BL1112</td>\n",
       "      <td>13.887</td>\n",
       "      <td>13.887</td>\n",
       "    </tr>\n",
       "    <tr>\n",
       "      <th>2</th>\n",
       "      <td>2</td>\n",
       "      <td>12</td>\n",
       "      <td>16</td>\n",
       "      <td>0.0</td>\n",
       "      <td>0.0</td>\n",
       "      <td>71</td>\n",
       "      <td>78</td>\n",
       "      <td>8</td>\n",
       "      <td>10</td>\n",
       "      <td>6</td>\n",
       "      <td>...</td>\n",
       "      <td>NaN</td>\n",
       "      <td>NaN</td>\n",
       "      <td>NaN</td>\n",
       "      <td>NaN</td>\n",
       "      <td>NaN</td>\n",
       "      <td>NaN</td>\n",
       "      <td>NaN</td>\n",
       "      <td>BL1112</td>\n",
       "      <td>53.887</td>\n",
       "      <td>61.887</td>\n",
       "    </tr>\n",
       "    <tr>\n",
       "      <th>3</th>\n",
       "      <td>3</td>\n",
       "      <td>19</td>\n",
       "      <td>9</td>\n",
       "      <td>0.0</td>\n",
       "      <td>0.0</td>\n",
       "      <td>80</td>\n",
       "      <td>74</td>\n",
       "      <td>17</td>\n",
       "      <td>11</td>\n",
       "      <td>13</td>\n",
       "      <td>...</td>\n",
       "      <td>NaN</td>\n",
       "      <td>NaN</td>\n",
       "      <td>NaN</td>\n",
       "      <td>NaN</td>\n",
       "      <td>NaN</td>\n",
       "      <td>NaN</td>\n",
       "      <td>NaN</td>\n",
       "      <td>BL1112</td>\n",
       "      <td>92.887</td>\n",
       "      <td>13.887</td>\n",
       "    </tr>\n",
       "    <tr>\n",
       "      <th>4</th>\n",
       "      <td>4</td>\n",
       "      <td>7</td>\n",
       "      <td>18</td>\n",
       "      <td>0.0</td>\n",
       "      <td>0.0</td>\n",
       "      <td>76</td>\n",
       "      <td>72</td>\n",
       "      <td>11</td>\n",
       "      <td>5</td>\n",
       "      <td>10</td>\n",
       "      <td>...</td>\n",
       "      <td>NaN</td>\n",
       "      <td>NaN</td>\n",
       "      <td>NaN</td>\n",
       "      <td>NaN</td>\n",
       "      <td>NaN</td>\n",
       "      <td>NaN</td>\n",
       "      <td>NaN</td>\n",
       "      <td>BL1112</td>\n",
       "      <td>13.887</td>\n",
       "      <td>39.887</td>\n",
       "    </tr>\n",
       "    <tr>\n",
       "      <th>...</th>\n",
       "      <td>...</td>\n",
       "      <td>...</td>\n",
       "      <td>...</td>\n",
       "      <td>...</td>\n",
       "      <td>...</td>\n",
       "      <td>...</td>\n",
       "      <td>...</td>\n",
       "      <td>...</td>\n",
       "      <td>...</td>\n",
       "      <td>...</td>\n",
       "      <td>...</td>\n",
       "      <td>...</td>\n",
       "      <td>...</td>\n",
       "      <td>...</td>\n",
       "      <td>...</td>\n",
       "      <td>...</td>\n",
       "      <td>...</td>\n",
       "      <td>...</td>\n",
       "      <td>...</td>\n",
       "      <td>...</td>\n",
       "      <td>...</td>\n",
       "    </tr>\n",
       "    <tr>\n",
       "      <th>2983</th>\n",
       "      <td>2983</td>\n",
       "      <td>4</td>\n",
       "      <td>21</td>\n",
       "      <td>29.5</td>\n",
       "      <td>70.5</td>\n",
       "      <td>78</td>\n",
       "      <td>90</td>\n",
       "      <td>9</td>\n",
       "      <td>12</td>\n",
       "      <td>11</td>\n",
       "      <td>...</td>\n",
       "      <td>51.04</td>\n",
       "      <td>14.0</td>\n",
       "      <td>9.0</td>\n",
       "      <td>2243.0</td>\n",
       "      <td>2615.0</td>\n",
       "      <td>35.0</td>\n",
       "      <td>62.0</td>\n",
       "      <td>BL2021</td>\n",
       "      <td>60.956</td>\n",
       "      <td>40.956</td>\n",
       "    </tr>\n",
       "    <tr>\n",
       "      <th>2984</th>\n",
       "      <td>2984</td>\n",
       "      <td>10</td>\n",
       "      <td>13</td>\n",
       "      <td>43.2</td>\n",
       "      <td>56.8</td>\n",
       "      <td>82</td>\n",
       "      <td>87</td>\n",
       "      <td>11</td>\n",
       "      <td>10</td>\n",
       "      <td>7</td>\n",
       "      <td>...</td>\n",
       "      <td>56.82</td>\n",
       "      <td>11.0</td>\n",
       "      <td>6.0</td>\n",
       "      <td>2778.0</td>\n",
       "      <td>2980.0</td>\n",
       "      <td>46.0</td>\n",
       "      <td>53.0</td>\n",
       "      <td>BL2021</td>\n",
       "      <td>18.956</td>\n",
       "      <td>99.956</td>\n",
       "    </tr>\n",
       "    <tr>\n",
       "      <th>2985</th>\n",
       "      <td>2985</td>\n",
       "      <td>8</td>\n",
       "      <td>15</td>\n",
       "      <td>63.4</td>\n",
       "      <td>36.6</td>\n",
       "      <td>83</td>\n",
       "      <td>66</td>\n",
       "      <td>9</td>\n",
       "      <td>9</td>\n",
       "      <td>19</td>\n",
       "      <td>...</td>\n",
       "      <td>44.50</td>\n",
       "      <td>6.0</td>\n",
       "      <td>4.0</td>\n",
       "      <td>2520.0</td>\n",
       "      <td>2017.0</td>\n",
       "      <td>64.0</td>\n",
       "      <td>68.0</td>\n",
       "      <td>BL2021</td>\n",
       "      <td>25.956</td>\n",
       "      <td>21.956</td>\n",
       "    </tr>\n",
       "    <tr>\n",
       "      <th>2986</th>\n",
       "      <td>2986</td>\n",
       "      <td>13</td>\n",
       "      <td>12</td>\n",
       "      <td>28.9</td>\n",
       "      <td>71.1</td>\n",
       "      <td>64</td>\n",
       "      <td>88</td>\n",
       "      <td>10</td>\n",
       "      <td>12</td>\n",
       "      <td>18</td>\n",
       "      <td>...</td>\n",
       "      <td>68.44</td>\n",
       "      <td>9.0</td>\n",
       "      <td>7.0</td>\n",
       "      <td>2184.0</td>\n",
       "      <td>3458.0</td>\n",
       "      <td>48.0</td>\n",
       "      <td>76.0</td>\n",
       "      <td>BL2021</td>\n",
       "      <td>19.956</td>\n",
       "      <td>75.956</td>\n",
       "    </tr>\n",
       "    <tr>\n",
       "      <th>2987</th>\n",
       "      <td>2987</td>\n",
       "      <td>13</td>\n",
       "      <td>20</td>\n",
       "      <td>56.9</td>\n",
       "      <td>43.1</td>\n",
       "      <td>78</td>\n",
       "      <td>73</td>\n",
       "      <td>5</td>\n",
       "      <td>9</td>\n",
       "      <td>27</td>\n",
       "      <td>...</td>\n",
       "      <td>34.98</td>\n",
       "      <td>6.0</td>\n",
       "      <td>6.0</td>\n",
       "      <td>2398.0</td>\n",
       "      <td>1647.0</td>\n",
       "      <td>41.0</td>\n",
       "      <td>37.0</td>\n",
       "      <td>BL2021</td>\n",
       "      <td>15.956</td>\n",
       "      <td>21.956</td>\n",
       "    </tr>\n",
       "  </tbody>\n",
       "</table>\n",
       "<p>2988 rows × 69 columns</p>\n",
       "</div>"
      ],
      "text/plain": [
       "      Unnamed: 0  home_shot  away_shot  home_possession  away_possession  \\\n",
       "0              0         16          8              0.0              0.0   \n",
       "1              1          7         12              0.0              0.0   \n",
       "2              2         12         16              0.0              0.0   \n",
       "3              3         19          9              0.0              0.0   \n",
       "4              4          7         18              0.0              0.0   \n",
       "...          ...        ...        ...              ...              ...   \n",
       "2983        2983          4         21             29.5             70.5   \n",
       "2984        2984         10         13             43.2             56.8   \n",
       "2985        2985          8         15             63.4             36.6   \n",
       "2986        2986         13         12             28.9             71.1   \n",
       "2987        2987         13         20             56.9             43.1   \n",
       "\n",
       "      home_pass_success  away_pass_success  home_dribbles  away_dribbles  \\\n",
       "0                    83                 73             21             20   \n",
       "1                    65                 78              8             19   \n",
       "2                    71                 78              8             10   \n",
       "3                    80                 74             17             11   \n",
       "4                    76                 72             11              5   \n",
       "...                 ...                ...            ...            ...   \n",
       "2983                 78                 90              9             12   \n",
       "2984                 82                 87             11             10   \n",
       "2985                 83                 66              9              9   \n",
       "2986                 64                 88             10             12   \n",
       "2987                 78                 73              5              9   \n",
       "\n",
       "      home_aerials_won  ...  away_last_5_possession  home_last_5_conceded  \\\n",
       "0                   11  ...                     NaN                   NaN   \n",
       "1                   12  ...                     NaN                   NaN   \n",
       "2                    6  ...                     NaN                   NaN   \n",
       "3                   13  ...                     NaN                   NaN   \n",
       "4                   10  ...                     NaN                   NaN   \n",
       "...                ...  ...                     ...                   ...   \n",
       "2983                11  ...                   51.04                  14.0   \n",
       "2984                 7  ...                   56.82                  11.0   \n",
       "2985                19  ...                   44.50                   6.0   \n",
       "2986                18  ...                   68.44                   9.0   \n",
       "2987                27  ...                   34.98                   6.0   \n",
       "\n",
       "      away_last_5_conceded  home_last_5_passes  away_last_5_passes  \\\n",
       "0                      NaN                 NaN                 NaN   \n",
       "1                      NaN                 NaN                 NaN   \n",
       "2                      NaN                 NaN                 NaN   \n",
       "3                      NaN                 NaN                 NaN   \n",
       "4                      NaN                 NaN                 NaN   \n",
       "...                    ...                 ...                 ...   \n",
       "2983                   9.0              2243.0              2615.0   \n",
       "2984                   6.0              2778.0              2980.0   \n",
       "2985                   4.0              2520.0              2017.0   \n",
       "2986                   7.0              2184.0              3458.0   \n",
       "2987                   6.0              2398.0              1647.0   \n",
       "\n",
       "      home_last_5_shot  away_last_5_shot  season  home_uefa away_uefa  \n",
       "0                  NaN               NaN  BL1112     22.887    74.887  \n",
       "1                  NaN               NaN  BL1112     13.887    13.887  \n",
       "2                  NaN               NaN  BL1112     53.887    61.887  \n",
       "3                  NaN               NaN  BL1112     92.887    13.887  \n",
       "4                  NaN               NaN  BL1112     13.887    39.887  \n",
       "...                ...               ...     ...        ...       ...  \n",
       "2983              35.0              62.0  BL2021     60.956    40.956  \n",
       "2984              46.0              53.0  BL2021     18.956    99.956  \n",
       "2985              64.0              68.0  BL2021     25.956    21.956  \n",
       "2986              48.0              76.0  BL2021     19.956    75.956  \n",
       "2987              41.0              37.0  BL2021     15.956    21.956  \n",
       "\n",
       "[2988 rows x 69 columns]"
      ]
     },
     "execution_count": 82,
     "metadata": {},
     "output_type": "execute_result"
    }
   ],
   "source": [
    "BL"
   ]
  },
  {
   "cell_type": "code",
   "execution_count": 75,
   "metadata": {},
   "outputs": [],
   "source": [
    "PL.to_csv('PL.csv')\n",
    "LIGA.to_csv('LIGA.csv')\n",
    "SE.to_csv('SE.csv')\n",
    "BL.to_csv('BL.csv')"
   ]
  },
  {
   "cell_type": "code",
   "execution_count": 66,
   "metadata": {},
   "outputs": [],
   "source": [
    "df = df.dropna()"
   ]
  },
  {
   "cell_type": "code",
   "execution_count": 32,
   "metadata": {},
   "outputs": [],
   "source": [
    "def win(x):\n",
    "    if x > 0:\n",
    "        return 1\n",
    "    if x == 0:\n",
    "        return 0\n",
    "    else :\n",
    "        return -1"
   ]
  },
  {
   "cell_type": "code",
   "execution_count": 33,
   "metadata": {},
   "outputs": [
    {
     "data": {
      "text/plain": [
       "11903"
      ]
     },
     "execution_count": 33,
     "metadata": {},
     "output_type": "execute_result"
    }
   ],
   "source": [
    "result = list(map(win, (df['full_home_score'] - df['full_away_score'])))\n",
    "len(result)"
   ]
  },
  {
   "cell_type": "code",
   "execution_count": 34,
   "metadata": {},
   "outputs": [],
   "source": [
    "df['result'] = result"
   ]
  },
  {
   "cell_type": "code",
   "execution_count": 35,
   "metadata": {},
   "outputs": [
    {
     "data": {
      "text/plain": [
       "0.26097777777777775"
      ]
     },
     "execution_count": 35,
     "metadata": {},
     "output_type": "execute_result"
    }
   ],
   "source": [
    "df[df['result']==0].shape[0]/11250"
   ]
  },
  {
   "cell_type": "code",
   "execution_count": 36,
   "metadata": {},
   "outputs": [
    {
     "data": {
      "text/plain": [
       "0"
      ]
     },
     "execution_count": 36,
     "metadata": {},
     "output_type": "execute_result"
    }
   ],
   "source": [
    "result[result == 0]"
   ]
  },
  {
   "cell_type": "code",
   "execution_count": 37,
   "metadata": {},
   "outputs": [
    {
     "data": {
      "text/plain": [
       "0.48346666666666666"
      ]
     },
     "execution_count": 37,
     "metadata": {},
     "output_type": "execute_result"
    }
   ],
   "source": [
    "df[df['result']>0].shape[0]/11250"
   ]
  },
  {
   "cell_type": "code",
   "execution_count": 38,
   "metadata": {},
   "outputs": [
    {
     "data": {
      "text/plain": [
       "0.3136"
      ]
     },
     "execution_count": 38,
     "metadata": {},
     "output_type": "execute_result"
    }
   ],
   "source": [
    "df[df['result']<0].shape[0]/11250"
   ]
  },
  {
   "cell_type": "code",
   "execution_count": 39,
   "metadata": {},
   "outputs": [],
   "source": [
    "def null_classifier(n_games):\n",
    "    random_list = np.random.rand(n_games)\n",
    "    def classifier(x):\n",
    "        if x < 0.460:\n",
    "            return 1\n",
    "        elif x < 0.705:\n",
    "            return 0\n",
    "        else :\n",
    "            return -1\n",
    "    return(np.array(list(map(classifier, random_list))))    "
   ]
  },
  {
   "cell_type": "code",
   "execution_count": 40,
   "metadata": {},
   "outputs": [],
   "source": [
    "aa = null_classifier(11903)"
   ]
  },
  {
   "cell_type": "code",
   "execution_count": 41,
   "metadata": {},
   "outputs": [
    {
     "data": {
      "text/plain": [
       "0.35654876921784423"
      ]
     },
     "execution_count": 41,
     "metadata": {},
     "output_type": "execute_result"
    }
   ],
   "source": [
    "aa[aa == df['result']].shape[0]/11903"
   ]
  },
  {
   "cell_type": "code",
   "execution_count": 42,
   "metadata": {},
   "outputs": [
    {
     "data": {
      "text/plain": [
       "Index(['home_shot', 'away_shot', 'home_possession', 'away_possession',\n",
       "       'home_pass_success', 'away_pass_success', 'home_dribbles',\n",
       "       'away_dribbles', 'home_aerials_won', 'away_aerials_won', 'home_tackles',\n",
       "       'away_tackles', 'home_corners', 'away_corners', 'home_dispossessed',\n",
       "       'away_dispossessed', 'home_missing_player', 'away_missing_player',\n",
       "       'home', 'away', 'half_home_score', 'half_away_score', 'full_home_score',\n",
       "       'full_away_score', 'kick_off', 'day', 'date', 'matchup_home_goals',\n",
       "       'matchup_away_goals', 'matchup_home_wins', 'matchup_draw',\n",
       "       'matchup_away_wins', 'home_total_att', 'away_total_att',\n",
       "       'home_open_att', 'away_open_att', 'home_set_att', 'away_set_att',\n",
       "       'home_counter_att', 'away_counter_att', 'home_pk_att', 'away_pk_att',\n",
       "       'home_own_att', 'away_own_att', 'home_total_passes',\n",
       "       'away_total_passes', 'home_crosses_passes', 'away_crosses_passes',\n",
       "       'home_long_balls', 'away_long_balls', 'home_short_passes',\n",
       "       'away_short_passes', 'date_no', 'home_last_5_points',\n",
       "       'away_last_5_points', 'home_last_5_goals', 'away_last_5_goals',\n",
       "       'home_last_5_possession', 'away_last_5_possession',\n",
       "       'home_last_5_conceded', 'away_last_5_conceded', 'home_last_5_passes',\n",
       "       'away_last_5_passes', 'home_last_5_shot', 'away_last_5_shot', 'season',\n",
       "       'home_uefa', 'away_uefa', 'result'],\n",
       "      dtype='object')"
      ]
     },
     "execution_count": 42,
     "metadata": {},
     "output_type": "execute_result"
    }
   ],
   "source": [
    "df.columns"
   ]
  },
  {
   "cell_type": "code",
   "execution_count": 17,
   "metadata": {},
   "outputs": [],
   "source": [
    "df = df[['day','home_missing_player','away_missing_player','matchup_home_wins','matchup_draw',\n",
    "    'matchup_away_wins', 'home_last_5_points', 'away_last_5_points', 'home_last_5_goals',\n",
    "   'away_last_5_goals', 'home_last_5_conceded','away_last_5_conceded','home_last_5_passes',\n",
    "   'away_last_5_passes', 'home_last_5_shot', 'away_last_5_shot','home_uefa','away_uefa','result']]"
   ]
  },
  {
   "cell_type": "code",
   "execution_count": 18,
   "metadata": {},
   "outputs": [],
   "source": [
    "df['day'] = ['weekend' if i in ['Sat', 'Sun'] else 'week' for i in df['day']]"
   ]
  },
  {
   "cell_type": "code",
   "execution_count": 19,
   "metadata": {},
   "outputs": [],
   "source": [
    "df['result'] = df['result']+1"
   ]
  },
  {
   "cell_type": "code",
   "execution_count": 20,
   "metadata": {},
   "outputs": [
    {
     "data": {
      "text/html": [
       "<div>\n",
       "<style scoped>\n",
       "    .dataframe tbody tr th:only-of-type {\n",
       "        vertical-align: middle;\n",
       "    }\n",
       "\n",
       "    .dataframe tbody tr th {\n",
       "        vertical-align: top;\n",
       "    }\n",
       "\n",
       "    .dataframe thead th {\n",
       "        text-align: right;\n",
       "    }\n",
       "</style>\n",
       "<table border=\"1\" class=\"dataframe\">\n",
       "  <thead>\n",
       "    <tr style=\"text-align: right;\">\n",
       "      <th></th>\n",
       "      <th>day</th>\n",
       "      <th>home_missing_player</th>\n",
       "      <th>away_missing_player</th>\n",
       "      <th>matchup_home_wins</th>\n",
       "      <th>matchup_draw</th>\n",
       "      <th>matchup_away_wins</th>\n",
       "      <th>home_last_5_points</th>\n",
       "      <th>away_last_5_points</th>\n",
       "      <th>home_last_5_goals</th>\n",
       "      <th>away_last_5_goals</th>\n",
       "      <th>home_last_5_conceded</th>\n",
       "      <th>away_last_5_conceded</th>\n",
       "      <th>home_last_5_passes</th>\n",
       "      <th>away_last_5_passes</th>\n",
       "      <th>home_last_5_shot</th>\n",
       "      <th>away_last_5_shot</th>\n",
       "      <th>home_uefa</th>\n",
       "      <th>away_uefa</th>\n",
       "      <th>result</th>\n",
       "    </tr>\n",
       "  </thead>\n",
       "  <tbody>\n",
       "    <tr>\n",
       "      <th>49</th>\n",
       "      <td>weekend</td>\n",
       "      <td>1</td>\n",
       "      <td>7</td>\n",
       "      <td>33</td>\n",
       "      <td>17</td>\n",
       "      <td>50</td>\n",
       "      <td>3.0</td>\n",
       "      <td>3.0</td>\n",
       "      <td>3.0</td>\n",
       "      <td>4.0</td>\n",
       "      <td>8.0</td>\n",
       "      <td>7.0</td>\n",
       "      <td>2116.0</td>\n",
       "      <td>2255.0</td>\n",
       "      <td>68.0</td>\n",
       "      <td>73.0</td>\n",
       "      <td>17.157</td>\n",
       "      <td>40.157</td>\n",
       "      <td>1</td>\n",
       "    </tr>\n",
       "    <tr>\n",
       "      <th>50</th>\n",
       "      <td>weekend</td>\n",
       "      <td>2</td>\n",
       "      <td>3</td>\n",
       "      <td>50</td>\n",
       "      <td>33</td>\n",
       "      <td>17</td>\n",
       "      <td>7.0</td>\n",
       "      <td>7.0</td>\n",
       "      <td>6.0</td>\n",
       "      <td>4.0</td>\n",
       "      <td>7.0</td>\n",
       "      <td>6.0</td>\n",
       "      <td>2565.0</td>\n",
       "      <td>2087.0</td>\n",
       "      <td>75.0</td>\n",
       "      <td>67.0</td>\n",
       "      <td>115.157</td>\n",
       "      <td>17.157</td>\n",
       "      <td>2</td>\n",
       "    </tr>\n",
       "    <tr>\n",
       "      <th>51</th>\n",
       "      <td>weekend</td>\n",
       "      <td>4</td>\n",
       "      <td>5</td>\n",
       "      <td>0</td>\n",
       "      <td>17</td>\n",
       "      <td>83</td>\n",
       "      <td>9.0</td>\n",
       "      <td>4.0</td>\n",
       "      <td>4.0</td>\n",
       "      <td>7.0</td>\n",
       "      <td>2.0</td>\n",
       "      <td>10.0</td>\n",
       "      <td>1919.0</td>\n",
       "      <td>1715.0</td>\n",
       "      <td>63.0</td>\n",
       "      <td>69.0</td>\n",
       "      <td>34.157</td>\n",
       "      <td>30.157</td>\n",
       "      <td>2</td>\n",
       "    </tr>\n",
       "    <tr>\n",
       "      <th>52</th>\n",
       "      <td>weekend</td>\n",
       "      <td>6</td>\n",
       "      <td>5</td>\n",
       "      <td>83</td>\n",
       "      <td>0</td>\n",
       "      <td>17</td>\n",
       "      <td>4.0</td>\n",
       "      <td>3.0</td>\n",
       "      <td>6.0</td>\n",
       "      <td>8.0</td>\n",
       "      <td>14.0</td>\n",
       "      <td>13.0</td>\n",
       "      <td>2677.0</td>\n",
       "      <td>2112.0</td>\n",
       "      <td>85.0</td>\n",
       "      <td>66.0</td>\n",
       "      <td>108.157</td>\n",
       "      <td>29.157</td>\n",
       "      <td>2</td>\n",
       "    </tr>\n",
       "    <tr>\n",
       "      <th>55</th>\n",
       "      <td>weekend</td>\n",
       "      <td>4</td>\n",
       "      <td>7</td>\n",
       "      <td>0</td>\n",
       "      <td>0</td>\n",
       "      <td>100</td>\n",
       "      <td>8.0</td>\n",
       "      <td>15.0</td>\n",
       "      <td>3.0</td>\n",
       "      <td>21.0</td>\n",
       "      <td>5.0</td>\n",
       "      <td>4.0</td>\n",
       "      <td>1582.0</td>\n",
       "      <td>2752.0</td>\n",
       "      <td>42.0</td>\n",
       "      <td>92.0</td>\n",
       "      <td>17.157</td>\n",
       "      <td>151.157</td>\n",
       "      <td>1</td>\n",
       "    </tr>\n",
       "  </tbody>\n",
       "</table>\n",
       "</div>"
      ],
      "text/plain": [
       "        day  home_missing_player  away_missing_player  matchup_home_wins  \\\n",
       "49  weekend                    1                    7                 33   \n",
       "50  weekend                    2                    3                 50   \n",
       "51  weekend                    4                    5                  0   \n",
       "52  weekend                    6                    5                 83   \n",
       "55  weekend                    4                    7                  0   \n",
       "\n",
       "    matchup_draw  matchup_away_wins  home_last_5_points  away_last_5_points  \\\n",
       "49            17                 50                 3.0                 3.0   \n",
       "50            33                 17                 7.0                 7.0   \n",
       "51            17                 83                 9.0                 4.0   \n",
       "52             0                 17                 4.0                 3.0   \n",
       "55             0                100                 8.0                15.0   \n",
       "\n",
       "    home_last_5_goals  away_last_5_goals  home_last_5_conceded  \\\n",
       "49                3.0                4.0                   8.0   \n",
       "50                6.0                4.0                   7.0   \n",
       "51                4.0                7.0                   2.0   \n",
       "52                6.0                8.0                  14.0   \n",
       "55                3.0               21.0                   5.0   \n",
       "\n",
       "    away_last_5_conceded  home_last_5_passes  away_last_5_passes  \\\n",
       "49                   7.0              2116.0              2255.0   \n",
       "50                   6.0              2565.0              2087.0   \n",
       "51                  10.0              1919.0              1715.0   \n",
       "52                  13.0              2677.0              2112.0   \n",
       "55                   4.0              1582.0              2752.0   \n",
       "\n",
       "    home_last_5_shot  away_last_5_shot  home_uefa  away_uefa  result  \n",
       "49              68.0              73.0     17.157     40.157       1  \n",
       "50              75.0              67.0    115.157     17.157       2  \n",
       "51              63.0              69.0     34.157     30.157       2  \n",
       "52              85.0              66.0    108.157     29.157       2  \n",
       "55              42.0              92.0     17.157    151.157       1  "
      ]
     },
     "execution_count": 20,
     "metadata": {},
     "output_type": "execute_result"
    }
   ],
   "source": [
    "df.head()"
   ]
  },
  {
   "cell_type": "code",
   "execution_count": 21,
   "metadata": {},
   "outputs": [],
   "source": [
    "df[['week','weekend']] = pd.get_dummies(df['day'])"
   ]
  },
  {
   "cell_type": "code",
   "execution_count": 22,
   "metadata": {},
   "outputs": [],
   "source": [
    "df = df.drop(['day'], axis=1)"
   ]
  },
  {
   "cell_type": "code",
   "execution_count": 23,
   "metadata": {},
   "outputs": [
    {
     "data": {
      "text/html": [
       "<div>\n",
       "<style scoped>\n",
       "    .dataframe tbody tr th:only-of-type {\n",
       "        vertical-align: middle;\n",
       "    }\n",
       "\n",
       "    .dataframe tbody tr th {\n",
       "        vertical-align: top;\n",
       "    }\n",
       "\n",
       "    .dataframe thead th {\n",
       "        text-align: right;\n",
       "    }\n",
       "</style>\n",
       "<table border=\"1\" class=\"dataframe\">\n",
       "  <thead>\n",
       "    <tr style=\"text-align: right;\">\n",
       "      <th></th>\n",
       "      <th>home_missing_player</th>\n",
       "      <th>away_missing_player</th>\n",
       "      <th>matchup_home_wins</th>\n",
       "      <th>matchup_draw</th>\n",
       "      <th>matchup_away_wins</th>\n",
       "      <th>home_last_5_points</th>\n",
       "      <th>away_last_5_points</th>\n",
       "      <th>home_last_5_goals</th>\n",
       "      <th>away_last_5_goals</th>\n",
       "      <th>home_last_5_conceded</th>\n",
       "      <th>away_last_5_conceded</th>\n",
       "      <th>home_last_5_passes</th>\n",
       "      <th>away_last_5_passes</th>\n",
       "      <th>home_last_5_shot</th>\n",
       "      <th>away_last_5_shot</th>\n",
       "      <th>home_uefa</th>\n",
       "      <th>away_uefa</th>\n",
       "      <th>result</th>\n",
       "      <th>week</th>\n",
       "      <th>weekend</th>\n",
       "    </tr>\n",
       "  </thead>\n",
       "  <tbody>\n",
       "    <tr>\n",
       "      <th>49</th>\n",
       "      <td>1</td>\n",
       "      <td>7</td>\n",
       "      <td>33</td>\n",
       "      <td>17</td>\n",
       "      <td>50</td>\n",
       "      <td>3.0</td>\n",
       "      <td>3.0</td>\n",
       "      <td>3.0</td>\n",
       "      <td>4.0</td>\n",
       "      <td>8.0</td>\n",
       "      <td>7.0</td>\n",
       "      <td>2116.0</td>\n",
       "      <td>2255.0</td>\n",
       "      <td>68.0</td>\n",
       "      <td>73.0</td>\n",
       "      <td>17.157</td>\n",
       "      <td>40.157</td>\n",
       "      <td>1</td>\n",
       "      <td>0</td>\n",
       "      <td>1</td>\n",
       "    </tr>\n",
       "    <tr>\n",
       "      <th>50</th>\n",
       "      <td>2</td>\n",
       "      <td>3</td>\n",
       "      <td>50</td>\n",
       "      <td>33</td>\n",
       "      <td>17</td>\n",
       "      <td>7.0</td>\n",
       "      <td>7.0</td>\n",
       "      <td>6.0</td>\n",
       "      <td>4.0</td>\n",
       "      <td>7.0</td>\n",
       "      <td>6.0</td>\n",
       "      <td>2565.0</td>\n",
       "      <td>2087.0</td>\n",
       "      <td>75.0</td>\n",
       "      <td>67.0</td>\n",
       "      <td>115.157</td>\n",
       "      <td>17.157</td>\n",
       "      <td>2</td>\n",
       "      <td>0</td>\n",
       "      <td>1</td>\n",
       "    </tr>\n",
       "    <tr>\n",
       "      <th>51</th>\n",
       "      <td>4</td>\n",
       "      <td>5</td>\n",
       "      <td>0</td>\n",
       "      <td>17</td>\n",
       "      <td>83</td>\n",
       "      <td>9.0</td>\n",
       "      <td>4.0</td>\n",
       "      <td>4.0</td>\n",
       "      <td>7.0</td>\n",
       "      <td>2.0</td>\n",
       "      <td>10.0</td>\n",
       "      <td>1919.0</td>\n",
       "      <td>1715.0</td>\n",
       "      <td>63.0</td>\n",
       "      <td>69.0</td>\n",
       "      <td>34.157</td>\n",
       "      <td>30.157</td>\n",
       "      <td>2</td>\n",
       "      <td>0</td>\n",
       "      <td>1</td>\n",
       "    </tr>\n",
       "    <tr>\n",
       "      <th>52</th>\n",
       "      <td>6</td>\n",
       "      <td>5</td>\n",
       "      <td>83</td>\n",
       "      <td>0</td>\n",
       "      <td>17</td>\n",
       "      <td>4.0</td>\n",
       "      <td>3.0</td>\n",
       "      <td>6.0</td>\n",
       "      <td>8.0</td>\n",
       "      <td>14.0</td>\n",
       "      <td>13.0</td>\n",
       "      <td>2677.0</td>\n",
       "      <td>2112.0</td>\n",
       "      <td>85.0</td>\n",
       "      <td>66.0</td>\n",
       "      <td>108.157</td>\n",
       "      <td>29.157</td>\n",
       "      <td>2</td>\n",
       "      <td>0</td>\n",
       "      <td>1</td>\n",
       "    </tr>\n",
       "    <tr>\n",
       "      <th>55</th>\n",
       "      <td>4</td>\n",
       "      <td>7</td>\n",
       "      <td>0</td>\n",
       "      <td>0</td>\n",
       "      <td>100</td>\n",
       "      <td>8.0</td>\n",
       "      <td>15.0</td>\n",
       "      <td>3.0</td>\n",
       "      <td>21.0</td>\n",
       "      <td>5.0</td>\n",
       "      <td>4.0</td>\n",
       "      <td>1582.0</td>\n",
       "      <td>2752.0</td>\n",
       "      <td>42.0</td>\n",
       "      <td>92.0</td>\n",
       "      <td>17.157</td>\n",
       "      <td>151.157</td>\n",
       "      <td>1</td>\n",
       "      <td>0</td>\n",
       "      <td>1</td>\n",
       "    </tr>\n",
       "    <tr>\n",
       "      <th>...</th>\n",
       "      <td>...</td>\n",
       "      <td>...</td>\n",
       "      <td>...</td>\n",
       "      <td>...</td>\n",
       "      <td>...</td>\n",
       "      <td>...</td>\n",
       "      <td>...</td>\n",
       "      <td>...</td>\n",
       "      <td>...</td>\n",
       "      <td>...</td>\n",
       "      <td>...</td>\n",
       "      <td>...</td>\n",
       "      <td>...</td>\n",
       "      <td>...</td>\n",
       "      <td>...</td>\n",
       "      <td>...</td>\n",
       "      <td>...</td>\n",
       "      <td>...</td>\n",
       "      <td>...</td>\n",
       "      <td>...</td>\n",
       "    </tr>\n",
       "    <tr>\n",
       "      <th>3414</th>\n",
       "      <td>5</td>\n",
       "      <td>4</td>\n",
       "      <td>0</td>\n",
       "      <td>0</td>\n",
       "      <td>100</td>\n",
       "      <td>6.0</td>\n",
       "      <td>6.0</td>\n",
       "      <td>9.0</td>\n",
       "      <td>8.0</td>\n",
       "      <td>10.0</td>\n",
       "      <td>10.0</td>\n",
       "      <td>2546.0</td>\n",
       "      <td>2176.0</td>\n",
       "      <td>83.0</td>\n",
       "      <td>65.0</td>\n",
       "      <td>14.945</td>\n",
       "      <td>14.945</td>\n",
       "      <td>0</td>\n",
       "      <td>0</td>\n",
       "      <td>1</td>\n",
       "    </tr>\n",
       "    <tr>\n",
       "      <th>3415</th>\n",
       "      <td>3</td>\n",
       "      <td>3</td>\n",
       "      <td>0</td>\n",
       "      <td>40</td>\n",
       "      <td>60</td>\n",
       "      <td>1.0</td>\n",
       "      <td>10.0</td>\n",
       "      <td>3.0</td>\n",
       "      <td>10.0</td>\n",
       "      <td>16.0</td>\n",
       "      <td>3.0</td>\n",
       "      <td>2124.0</td>\n",
       "      <td>2103.0</td>\n",
       "      <td>59.0</td>\n",
       "      <td>63.0</td>\n",
       "      <td>14.945</td>\n",
       "      <td>53.945</td>\n",
       "      <td>0</td>\n",
       "      <td>0</td>\n",
       "      <td>1</td>\n",
       "    </tr>\n",
       "    <tr>\n",
       "      <th>3416</th>\n",
       "      <td>6</td>\n",
       "      <td>3</td>\n",
       "      <td>33</td>\n",
       "      <td>33</td>\n",
       "      <td>33</td>\n",
       "      <td>5.0</td>\n",
       "      <td>7.0</td>\n",
       "      <td>10.0</td>\n",
       "      <td>5.0</td>\n",
       "      <td>8.0</td>\n",
       "      <td>5.0</td>\n",
       "      <td>2943.0</td>\n",
       "      <td>2176.0</td>\n",
       "      <td>70.0</td>\n",
       "      <td>54.0</td>\n",
       "      <td>18.945</td>\n",
       "      <td>14.945</td>\n",
       "      <td>0</td>\n",
       "      <td>0</td>\n",
       "      <td>1</td>\n",
       "    </tr>\n",
       "    <tr>\n",
       "      <th>3417</th>\n",
       "      <td>4</td>\n",
       "      <td>2</td>\n",
       "      <td>67</td>\n",
       "      <td>17</td>\n",
       "      <td>17</td>\n",
       "      <td>6.0</td>\n",
       "      <td>5.0</td>\n",
       "      <td>4.0</td>\n",
       "      <td>7.0</td>\n",
       "      <td>13.0</td>\n",
       "      <td>9.0</td>\n",
       "      <td>2324.0</td>\n",
       "      <td>2478.0</td>\n",
       "      <td>53.0</td>\n",
       "      <td>66.0</td>\n",
       "      <td>14.945</td>\n",
       "      <td>14.945</td>\n",
       "      <td>2</td>\n",
       "      <td>0</td>\n",
       "      <td>1</td>\n",
       "    </tr>\n",
       "    <tr>\n",
       "      <th>3418</th>\n",
       "      <td>3</td>\n",
       "      <td>5</td>\n",
       "      <td>33</td>\n",
       "      <td>33</td>\n",
       "      <td>33</td>\n",
       "      <td>4.0</td>\n",
       "      <td>5.0</td>\n",
       "      <td>5.0</td>\n",
       "      <td>7.0</td>\n",
       "      <td>13.0</td>\n",
       "      <td>7.0</td>\n",
       "      <td>2561.0</td>\n",
       "      <td>2184.0</td>\n",
       "      <td>71.0</td>\n",
       "      <td>57.0</td>\n",
       "      <td>14.945</td>\n",
       "      <td>27.945</td>\n",
       "      <td>1</td>\n",
       "      <td>0</td>\n",
       "      <td>1</td>\n",
       "    </tr>\n",
       "  </tbody>\n",
       "</table>\n",
       "<p>11903 rows × 20 columns</p>\n",
       "</div>"
      ],
      "text/plain": [
       "      home_missing_player  away_missing_player  matchup_home_wins  \\\n",
       "49                      1                    7                 33   \n",
       "50                      2                    3                 50   \n",
       "51                      4                    5                  0   \n",
       "52                      6                    5                 83   \n",
       "55                      4                    7                  0   \n",
       "...                   ...                  ...                ...   \n",
       "3414                    5                    4                  0   \n",
       "3415                    3                    3                  0   \n",
       "3416                    6                    3                 33   \n",
       "3417                    4                    2                 67   \n",
       "3418                    3                    5                 33   \n",
       "\n",
       "      matchup_draw  matchup_away_wins  home_last_5_points  away_last_5_points  \\\n",
       "49              17                 50                 3.0                 3.0   \n",
       "50              33                 17                 7.0                 7.0   \n",
       "51              17                 83                 9.0                 4.0   \n",
       "52               0                 17                 4.0                 3.0   \n",
       "55               0                100                 8.0                15.0   \n",
       "...            ...                ...                 ...                 ...   \n",
       "3414             0                100                 6.0                 6.0   \n",
       "3415            40                 60                 1.0                10.0   \n",
       "3416            33                 33                 5.0                 7.0   \n",
       "3417            17                 17                 6.0                 5.0   \n",
       "3418            33                 33                 4.0                 5.0   \n",
       "\n",
       "      home_last_5_goals  away_last_5_goals  home_last_5_conceded  \\\n",
       "49                  3.0                4.0                   8.0   \n",
       "50                  6.0                4.0                   7.0   \n",
       "51                  4.0                7.0                   2.0   \n",
       "52                  6.0                8.0                  14.0   \n",
       "55                  3.0               21.0                   5.0   \n",
       "...                 ...                ...                   ...   \n",
       "3414                9.0                8.0                  10.0   \n",
       "3415                3.0               10.0                  16.0   \n",
       "3416               10.0                5.0                   8.0   \n",
       "3417                4.0                7.0                  13.0   \n",
       "3418                5.0                7.0                  13.0   \n",
       "\n",
       "      away_last_5_conceded  home_last_5_passes  away_last_5_passes  \\\n",
       "49                     7.0              2116.0              2255.0   \n",
       "50                     6.0              2565.0              2087.0   \n",
       "51                    10.0              1919.0              1715.0   \n",
       "52                    13.0              2677.0              2112.0   \n",
       "55                     4.0              1582.0              2752.0   \n",
       "...                    ...                 ...                 ...   \n",
       "3414                  10.0              2546.0              2176.0   \n",
       "3415                   3.0              2124.0              2103.0   \n",
       "3416                   5.0              2943.0              2176.0   \n",
       "3417                   9.0              2324.0              2478.0   \n",
       "3418                   7.0              2561.0              2184.0   \n",
       "\n",
       "      home_last_5_shot  away_last_5_shot  home_uefa  away_uefa  result  week  \\\n",
       "49                68.0              73.0     17.157     40.157       1     0   \n",
       "50                75.0              67.0    115.157     17.157       2     0   \n",
       "51                63.0              69.0     34.157     30.157       2     0   \n",
       "52                85.0              66.0    108.157     29.157       2     0   \n",
       "55                42.0              92.0     17.157    151.157       1     0   \n",
       "...                ...               ...        ...        ...     ...   ...   \n",
       "3414              83.0              65.0     14.945     14.945       0     0   \n",
       "3415              59.0              63.0     14.945     53.945       0     0   \n",
       "3416              70.0              54.0     18.945     14.945       0     0   \n",
       "3417              53.0              66.0     14.945     14.945       2     0   \n",
       "3418              71.0              57.0     14.945     27.945       1     0   \n",
       "\n",
       "      weekend  \n",
       "49          1  \n",
       "50          1  \n",
       "51          1  \n",
       "52          1  \n",
       "55          1  \n",
       "...       ...  \n",
       "3414        1  \n",
       "3415        1  \n",
       "3416        1  \n",
       "3417        1  \n",
       "3418        1  \n",
       "\n",
       "[11903 rows x 20 columns]"
      ]
     },
     "execution_count": 23,
     "metadata": {},
     "output_type": "execute_result"
    }
   ],
   "source": [
    "df"
   ]
  },
  {
   "cell_type": "code",
   "execution_count": 24,
   "metadata": {},
   "outputs": [],
   "source": [
    "min_max_scaler = preprocessing.MinMaxScaler()\n",
    "x_scaled = min_max_scaler.fit_transform(df.values)"
   ]
  },
  {
   "cell_type": "code",
   "execution_count": 25,
   "metadata": {},
   "outputs": [],
   "source": [
    "df = pd.DataFrame(x_scaled)"
   ]
  },
  {
   "cell_type": "code",
   "execution_count": 26,
   "metadata": {},
   "outputs": [],
   "source": [
    "df[17] = df[17].astype(np.str)"
   ]
  },
  {
   "cell_type": "code",
   "execution_count": 27,
   "metadata": {
    "scrolled": true
   },
   "outputs": [],
   "source": [
    "X = df.drop([17],axis=1)"
   ]
  },
  {
   "cell_type": "code",
   "execution_count": 28,
   "metadata": {},
   "outputs": [],
   "source": [
    "y = np.array(result)"
   ]
  },
  {
   "cell_type": "code",
   "execution_count": 28,
   "metadata": {},
   "outputs": [],
   "source": [
    "X_train, X_test, y_train, y_test = train_test_split(X, y, test_size = 0.3, random_state=1)"
   ]
  },
  {
   "cell_type": "code",
   "execution_count": 29,
   "metadata": {},
   "outputs": [
    {
     "data": {
      "text/plain": [
       "LogisticRegression(C=0.1, multi_class='ovr', solver='liblinear')"
      ]
     },
     "execution_count": 29,
     "metadata": {},
     "output_type": "execute_result"
    }
   ],
   "source": [
    "lm = linear_model.LogisticRegression(multi_class='ovr', solver='liblinear', C=0.1)\n",
    "lm.fit(X_train, y_train)"
   ]
  },
  {
   "cell_type": "code",
   "execution_count": 30,
   "metadata": {},
   "outputs": [
    {
     "data": {
      "text/plain": [
       "LogisticRegression(C=0.1, multi_class='ovr', solver='liblinear')"
      ]
     },
     "execution_count": 30,
     "metadata": {},
     "output_type": "execute_result"
    }
   ],
   "source": [
    "lm"
   ]
  },
  {
   "cell_type": "code",
   "execution_count": 31,
   "metadata": {},
   "outputs": [
    {
     "data": {
      "text/plain": [
       "0.5110613273592831"
      ]
     },
     "execution_count": 31,
     "metadata": {},
     "output_type": "execute_result"
    }
   ],
   "source": [
    "lm.score(X_test, y_test)"
   ]
  },
  {
   "cell_type": "code",
   "execution_count": 32,
   "metadata": {},
   "outputs": [],
   "source": [
    "clf = MLPClassifier(solver='lbfgs', alpha=1e-5,\n",
    "                     hidden_layer_sizes=(2, 2), random_state=1, max_iter = 1000)"
   ]
  },
  {
   "cell_type": "code",
   "execution_count": 33,
   "metadata": {},
   "outputs": [
    {
     "data": {
      "text/plain": [
       "MLPClassifier(alpha=1e-05, hidden_layer_sizes=(2, 2), max_iter=1000,\n",
       "              random_state=1, solver='lbfgs')"
      ]
     },
     "execution_count": 33,
     "metadata": {},
     "output_type": "execute_result"
    }
   ],
   "source": [
    "clf.fit(np.array(X_train), np.array(y_train))"
   ]
  },
  {
   "cell_type": "code",
   "execution_count": 34,
   "metadata": {},
   "outputs": [
    {
     "data": {
      "text/plain": [
       "array([1, 1, 1, ..., 1, 1, 1])"
      ]
     },
     "execution_count": 34,
     "metadata": {},
     "output_type": "execute_result"
    }
   ],
   "source": [
    "clf.predict(X_test)"
   ]
  },
  {
   "cell_type": "code",
   "execution_count": 35,
   "metadata": {},
   "outputs": [
    {
     "data": {
      "text/plain": [
       "0.45365443853262394"
      ]
     },
     "execution_count": 35,
     "metadata": {},
     "output_type": "execute_result"
    }
   ],
   "source": [
    "clf.score(X_test,y_test)"
   ]
  },
  {
   "cell_type": "code",
   "execution_count": 36,
   "metadata": {},
   "outputs": [
    {
     "data": {
      "text/plain": [
       "array([[0.29765086, 0.24400376, 0.45834538],\n",
       "       [0.29765086, 0.24400376, 0.45834538],\n",
       "       [0.29765086, 0.24400376, 0.45834538],\n",
       "       ...,\n",
       "       [0.29765086, 0.24400376, 0.45834538],\n",
       "       [0.29765086, 0.24400376, 0.45834538],\n",
       "       [0.29765086, 0.24400376, 0.45834538]])"
      ]
     },
     "execution_count": 36,
     "metadata": {},
     "output_type": "execute_result"
    }
   ],
   "source": [
    "clf.predict_proba(X_test)"
   ]
  },
  {
   "cell_type": "code",
   "execution_count": 37,
   "metadata": {},
   "outputs": [
    {
     "data": {
      "text/plain": [
       "array([[0.00000000e+00, 1.25000000e-01, 5.00000000e-01, ...,\n",
       "        3.27240480e-02, 0.00000000e+00, 1.00000000e+00],\n",
       "       [2.00000000e-01, 2.50000000e-01, 1.00000000e+00, ...,\n",
       "        6.65099211e-04, 0.00000000e+00, 1.00000000e+00],\n",
       "       [2.66666667e-01, 2.50000000e-01, 6.70000000e-01, ...,\n",
       "        2.60730559e-02, 1.00000000e+00, 0.00000000e+00],\n",
       "       ...,\n",
       "       [2.66666667e-01, 3.75000000e-01, 5.00000000e-01, ...,\n",
       "        5.92731749e-01, 0.00000000e+00, 1.00000000e+00],\n",
       "       [1.33333333e-01, 3.12500000e-01, 3.30000000e-01, ...,\n",
       "        5.25253350e-02, 0.00000000e+00, 1.00000000e+00],\n",
       "       [3.33333333e-01, 1.25000000e-01, 5.00000000e-01, ...,\n",
       "        3.01103248e-02, 1.00000000e+00, 0.00000000e+00]])"
      ]
     },
     "execution_count": 37,
     "metadata": {},
     "output_type": "execute_result"
    }
   ],
   "source": [
    "np.array(X_train)"
   ]
  },
  {
   "cell_type": "code",
   "execution_count": 38,
   "metadata": {},
   "outputs": [
    {
     "data": {
      "text/plain": [
       "array([-1,  1,  1, ...,  1,  1,  0])"
      ]
     },
     "execution_count": 38,
     "metadata": {},
     "output_type": "execute_result"
    }
   ],
   "source": [
    "np.array(y_train)"
   ]
  },
  {
   "cell_type": "code",
   "execution_count": 39,
   "metadata": {},
   "outputs": [
    {
     "data": {
      "text/html": [
       "<div>\n",
       "<style scoped>\n",
       "    .dataframe tbody tr th:only-of-type {\n",
       "        vertical-align: middle;\n",
       "    }\n",
       "\n",
       "    .dataframe tbody tr th {\n",
       "        vertical-align: top;\n",
       "    }\n",
       "\n",
       "    .dataframe thead th {\n",
       "        text-align: right;\n",
       "    }\n",
       "</style>\n",
       "<table border=\"1\" class=\"dataframe\">\n",
       "  <thead>\n",
       "    <tr style=\"text-align: right;\">\n",
       "      <th></th>\n",
       "      <th>0</th>\n",
       "      <th>1</th>\n",
       "      <th>2</th>\n",
       "      <th>3</th>\n",
       "      <th>4</th>\n",
       "      <th>5</th>\n",
       "      <th>6</th>\n",
       "      <th>7</th>\n",
       "      <th>8</th>\n",
       "      <th>9</th>\n",
       "      <th>10</th>\n",
       "      <th>11</th>\n",
       "      <th>12</th>\n",
       "      <th>13</th>\n",
       "      <th>14</th>\n",
       "      <th>15</th>\n",
       "      <th>16</th>\n",
       "      <th>18</th>\n",
       "      <th>19</th>\n",
       "    </tr>\n",
       "  </thead>\n",
       "  <tbody>\n",
       "    <tr>\n",
       "      <th>3908</th>\n",
       "      <td>0.000000</td>\n",
       "      <td>0.1250</td>\n",
       "      <td>0.50</td>\n",
       "      <td>0.33</td>\n",
       "      <td>0.17</td>\n",
       "      <td>0.333333</td>\n",
       "      <td>0.066667</td>\n",
       "      <td>0.16</td>\n",
       "      <td>0.04</td>\n",
       "      <td>0.238095</td>\n",
       "      <td>0.285714</td>\n",
       "      <td>0.379685</td>\n",
       "      <td>0.475110</td>\n",
       "      <td>0.373832</td>\n",
       "      <td>0.216216</td>\n",
       "      <td>0.161077</td>\n",
       "      <td>0.032724</td>\n",
       "      <td>0.0</td>\n",
       "      <td>1.0</td>\n",
       "    </tr>\n",
       "    <tr>\n",
       "      <th>9050</th>\n",
       "      <td>0.200000</td>\n",
       "      <td>0.2500</td>\n",
       "      <td>1.00</td>\n",
       "      <td>0.00</td>\n",
       "      <td>0.00</td>\n",
       "      <td>0.733333</td>\n",
       "      <td>0.400000</td>\n",
       "      <td>0.28</td>\n",
       "      <td>0.16</td>\n",
       "      <td>0.142857</td>\n",
       "      <td>0.333333</td>\n",
       "      <td>0.361946</td>\n",
       "      <td>0.289249</td>\n",
       "      <td>0.392523</td>\n",
       "      <td>0.423423</td>\n",
       "      <td>0.088178</td>\n",
       "      <td>0.000665</td>\n",
       "      <td>0.0</td>\n",
       "      <td>1.0</td>\n",
       "    </tr>\n",
       "    <tr>\n",
       "      <th>3404</th>\n",
       "      <td>0.266667</td>\n",
       "      <td>0.2500</td>\n",
       "      <td>0.67</td>\n",
       "      <td>0.17</td>\n",
       "      <td>0.17</td>\n",
       "      <td>0.266667</td>\n",
       "      <td>0.466667</td>\n",
       "      <td>0.36</td>\n",
       "      <td>0.24</td>\n",
       "      <td>0.619048</td>\n",
       "      <td>0.238095</td>\n",
       "      <td>0.246924</td>\n",
       "      <td>0.453608</td>\n",
       "      <td>0.420561</td>\n",
       "      <td>0.486486</td>\n",
       "      <td>0.026073</td>\n",
       "      <td>0.026073</td>\n",
       "      <td>1.0</td>\n",
       "      <td>0.0</td>\n",
       "    </tr>\n",
       "    <tr>\n",
       "      <th>8648</th>\n",
       "      <td>0.200000</td>\n",
       "      <td>0.2500</td>\n",
       "      <td>0.67</td>\n",
       "      <td>0.17</td>\n",
       "      <td>0.17</td>\n",
       "      <td>0.333333</td>\n",
       "      <td>0.466667</td>\n",
       "      <td>0.20</td>\n",
       "      <td>0.20</td>\n",
       "      <td>0.428571</td>\n",
       "      <td>0.476190</td>\n",
       "      <td>0.335908</td>\n",
       "      <td>0.445950</td>\n",
       "      <td>0.299065</td>\n",
       "      <td>0.360360</td>\n",
       "      <td>0.013938</td>\n",
       "      <td>0.043109</td>\n",
       "      <td>1.0</td>\n",
       "      <td>0.0</td>\n",
       "    </tr>\n",
       "    <tr>\n",
       "      <th>1379</th>\n",
       "      <td>0.200000</td>\n",
       "      <td>0.4375</td>\n",
       "      <td>0.17</td>\n",
       "      <td>0.17</td>\n",
       "      <td>0.67</td>\n",
       "      <td>0.533333</td>\n",
       "      <td>0.466667</td>\n",
       "      <td>0.36</td>\n",
       "      <td>0.44</td>\n",
       "      <td>0.380952</td>\n",
       "      <td>0.476190</td>\n",
       "      <td>0.371960</td>\n",
       "      <td>0.475994</td>\n",
       "      <td>0.626168</td>\n",
       "      <td>0.423423</td>\n",
       "      <td>0.023815</td>\n",
       "      <td>0.105494</td>\n",
       "      <td>0.0</td>\n",
       "      <td>1.0</td>\n",
       "    </tr>\n",
       "    <tr>\n",
       "      <th>...</th>\n",
       "      <td>...</td>\n",
       "      <td>...</td>\n",
       "      <td>...</td>\n",
       "      <td>...</td>\n",
       "      <td>...</td>\n",
       "      <td>...</td>\n",
       "      <td>...</td>\n",
       "      <td>...</td>\n",
       "      <td>...</td>\n",
       "      <td>...</td>\n",
       "      <td>...</td>\n",
       "      <td>...</td>\n",
       "      <td>...</td>\n",
       "      <td>...</td>\n",
       "      <td>...</td>\n",
       "      <td>...</td>\n",
       "      <td>...</td>\n",
       "      <td>...</td>\n",
       "      <td>...</td>\n",
       "    </tr>\n",
       "    <tr>\n",
       "      <th>7813</th>\n",
       "      <td>0.266667</td>\n",
       "      <td>0.4375</td>\n",
       "      <td>0.33</td>\n",
       "      <td>0.17</td>\n",
       "      <td>0.50</td>\n",
       "      <td>0.533333</td>\n",
       "      <td>0.266667</td>\n",
       "      <td>0.28</td>\n",
       "      <td>0.12</td>\n",
       "      <td>0.238095</td>\n",
       "      <td>0.333333</td>\n",
       "      <td>0.599428</td>\n",
       "      <td>0.576141</td>\n",
       "      <td>0.476636</td>\n",
       "      <td>0.351351</td>\n",
       "      <td>0.449461</td>\n",
       "      <td>0.175254</td>\n",
       "      <td>0.0</td>\n",
       "      <td>1.0</td>\n",
       "    </tr>\n",
       "    <tr>\n",
       "      <th>10955</th>\n",
       "      <td>0.133333</td>\n",
       "      <td>0.0625</td>\n",
       "      <td>0.00</td>\n",
       "      <td>0.33</td>\n",
       "      <td>0.67</td>\n",
       "      <td>0.333333</td>\n",
       "      <td>0.866667</td>\n",
       "      <td>0.16</td>\n",
       "      <td>0.44</td>\n",
       "      <td>0.238095</td>\n",
       "      <td>0.142857</td>\n",
       "      <td>0.358512</td>\n",
       "      <td>0.847717</td>\n",
       "      <td>0.457944</td>\n",
       "      <td>0.684685</td>\n",
       "      <td>0.015577</td>\n",
       "      <td>0.447308</td>\n",
       "      <td>1.0</td>\n",
       "      <td>0.0</td>\n",
       "    </tr>\n",
       "    <tr>\n",
       "      <th>905</th>\n",
       "      <td>0.266667</td>\n",
       "      <td>0.3750</td>\n",
       "      <td>0.50</td>\n",
       "      <td>0.33</td>\n",
       "      <td>0.17</td>\n",
       "      <td>0.666667</td>\n",
       "      <td>0.466667</td>\n",
       "      <td>0.36</td>\n",
       "      <td>0.24</td>\n",
       "      <td>0.142857</td>\n",
       "      <td>0.333333</td>\n",
       "      <td>0.452933</td>\n",
       "      <td>0.550515</td>\n",
       "      <td>0.635514</td>\n",
       "      <td>0.369369</td>\n",
       "      <td>0.732753</td>\n",
       "      <td>0.592732</td>\n",
       "      <td>0.0</td>\n",
       "      <td>1.0</td>\n",
       "    </tr>\n",
       "    <tr>\n",
       "      <th>5192</th>\n",
       "      <td>0.133333</td>\n",
       "      <td>0.3125</td>\n",
       "      <td>0.33</td>\n",
       "      <td>0.50</td>\n",
       "      <td>0.17</td>\n",
       "      <td>0.333333</td>\n",
       "      <td>0.266667</td>\n",
       "      <td>0.12</td>\n",
       "      <td>0.24</td>\n",
       "      <td>0.380952</td>\n",
       "      <td>0.523810</td>\n",
       "      <td>0.284692</td>\n",
       "      <td>0.273343</td>\n",
       "      <td>0.336449</td>\n",
       "      <td>0.405405</td>\n",
       "      <td>0.052525</td>\n",
       "      <td>0.052525</td>\n",
       "      <td>0.0</td>\n",
       "      <td>1.0</td>\n",
       "    </tr>\n",
       "    <tr>\n",
       "      <th>235</th>\n",
       "      <td>0.333333</td>\n",
       "      <td>0.1250</td>\n",
       "      <td>0.50</td>\n",
       "      <td>0.00</td>\n",
       "      <td>0.50</td>\n",
       "      <td>0.266667</td>\n",
       "      <td>0.400000</td>\n",
       "      <td>0.32</td>\n",
       "      <td>0.16</td>\n",
       "      <td>0.428571</td>\n",
       "      <td>0.190476</td>\n",
       "      <td>0.513305</td>\n",
       "      <td>0.197349</td>\n",
       "      <td>0.607477</td>\n",
       "      <td>0.315315</td>\n",
       "      <td>0.385997</td>\n",
       "      <td>0.030110</td>\n",
       "      <td>1.0</td>\n",
       "      <td>0.0</td>\n",
       "    </tr>\n",
       "  </tbody>\n",
       "</table>\n",
       "<p>8332 rows × 19 columns</p>\n",
       "</div>"
      ],
      "text/plain": [
       "             0       1     2     3     4         5         6     7     8   \\\n",
       "3908   0.000000  0.1250  0.50  0.33  0.17  0.333333  0.066667  0.16  0.04   \n",
       "9050   0.200000  0.2500  1.00  0.00  0.00  0.733333  0.400000  0.28  0.16   \n",
       "3404   0.266667  0.2500  0.67  0.17  0.17  0.266667  0.466667  0.36  0.24   \n",
       "8648   0.200000  0.2500  0.67  0.17  0.17  0.333333  0.466667  0.20  0.20   \n",
       "1379   0.200000  0.4375  0.17  0.17  0.67  0.533333  0.466667  0.36  0.44   \n",
       "...         ...     ...   ...   ...   ...       ...       ...   ...   ...   \n",
       "7813   0.266667  0.4375  0.33  0.17  0.50  0.533333  0.266667  0.28  0.12   \n",
       "10955  0.133333  0.0625  0.00  0.33  0.67  0.333333  0.866667  0.16  0.44   \n",
       "905    0.266667  0.3750  0.50  0.33  0.17  0.666667  0.466667  0.36  0.24   \n",
       "5192   0.133333  0.3125  0.33  0.50  0.17  0.333333  0.266667  0.12  0.24   \n",
       "235    0.333333  0.1250  0.50  0.00  0.50  0.266667  0.400000  0.32  0.16   \n",
       "\n",
       "             9         10        11        12        13        14        15  \\\n",
       "3908   0.238095  0.285714  0.379685  0.475110  0.373832  0.216216  0.161077   \n",
       "9050   0.142857  0.333333  0.361946  0.289249  0.392523  0.423423  0.088178   \n",
       "3404   0.619048  0.238095  0.246924  0.453608  0.420561  0.486486  0.026073   \n",
       "8648   0.428571  0.476190  0.335908  0.445950  0.299065  0.360360  0.013938   \n",
       "1379   0.380952  0.476190  0.371960  0.475994  0.626168  0.423423  0.023815   \n",
       "...         ...       ...       ...       ...       ...       ...       ...   \n",
       "7813   0.238095  0.333333  0.599428  0.576141  0.476636  0.351351  0.449461   \n",
       "10955  0.238095  0.142857  0.358512  0.847717  0.457944  0.684685  0.015577   \n",
       "905    0.142857  0.333333  0.452933  0.550515  0.635514  0.369369  0.732753   \n",
       "5192   0.380952  0.523810  0.284692  0.273343  0.336449  0.405405  0.052525   \n",
       "235    0.428571  0.190476  0.513305  0.197349  0.607477  0.315315  0.385997   \n",
       "\n",
       "             16   18   19  \n",
       "3908   0.032724  0.0  1.0  \n",
       "9050   0.000665  0.0  1.0  \n",
       "3404   0.026073  1.0  0.0  \n",
       "8648   0.043109  1.0  0.0  \n",
       "1379   0.105494  0.0  1.0  \n",
       "...         ...  ...  ...  \n",
       "7813   0.175254  0.0  1.0  \n",
       "10955  0.447308  1.0  0.0  \n",
       "905    0.592732  0.0  1.0  \n",
       "5192   0.052525  0.0  1.0  \n",
       "235    0.030110  1.0  0.0  \n",
       "\n",
       "[8332 rows x 19 columns]"
      ]
     },
     "execution_count": 39,
     "metadata": {},
     "output_type": "execute_result"
    }
   ],
   "source": [
    "X_train"
   ]
  },
  {
   "cell_type": "code",
   "execution_count": 40,
   "metadata": {},
   "outputs": [],
   "source": [
    "scaler = StandardScaler()"
   ]
  },
  {
   "cell_type": "code",
   "execution_count": 41,
   "metadata": {},
   "outputs": [
    {
     "data": {
      "text/plain": [
       "StandardScaler()"
      ]
     },
     "execution_count": 41,
     "metadata": {},
     "output_type": "execute_result"
    }
   ],
   "source": [
    "scaler.fit(X_train.values)"
   ]
  },
  {
   "cell_type": "code",
   "execution_count": 42,
   "metadata": {},
   "outputs": [],
   "source": [
    "X_train = scaler.transform(X_train.values)\n",
    "X_test = scaler.transform(X_test.values)"
   ]
  },
  {
   "cell_type": "code",
   "execution_count": 43,
   "metadata": {},
   "outputs": [
    {
     "data": {
      "text/plain": [
       "RandomForestClassifier(max_features=2, n_estimators=300)"
      ]
     },
     "execution_count": 43,
     "metadata": {},
     "output_type": "execute_result"
    }
   ],
   "source": [
    "rf = RandomForestClassifier(n_estimators=300, max_features=2)\n",
    "rf.fit(X_train, y_train)"
   ]
  },
  {
   "cell_type": "code",
   "execution_count": 44,
   "metadata": {},
   "outputs": [
    {
     "data": {
      "text/plain": [
       "array([0, 2, 2, ..., 2, 2, 1])"
      ]
     },
     "execution_count": 44,
     "metadata": {},
     "output_type": "execute_result"
    }
   ],
   "source": [
    "y_train+1"
   ]
  },
  {
   "cell_type": "code",
   "execution_count": 48,
   "metadata": {},
   "outputs": [
    {
     "data": {
      "text/plain": [
       "array([ 0,  1, -1, ...,  1,  1,  1])"
      ]
     },
     "execution_count": 48,
     "metadata": {},
     "output_type": "execute_result"
    }
   ],
   "source": [
    "rf.predict(X_test)"
   ]
  },
  {
   "cell_type": "code",
   "execution_count": 50,
   "metadata": {},
   "outputs": [
    {
     "data": {
      "text/plain": [
       "0.5245029403528424"
      ]
     },
     "execution_count": 50,
     "metadata": {},
     "output_type": "execute_result"
    }
   ],
   "source": [
    "rf.score(X_test,y_test)"
   ]
  },
  {
   "cell_type": "code",
   "execution_count": 52,
   "metadata": {},
   "outputs": [],
   "source": [
    "scores = rf.feature_importances_"
   ]
  },
  {
   "cell_type": "code",
   "execution_count": 62,
   "metadata": {},
   "outputs": [
    {
     "data": {
      "text/html": [
       "<div>\n",
       "<style scoped>\n",
       "    .dataframe tbody tr th:only-of-type {\n",
       "        vertical-align: middle;\n",
       "    }\n",
       "\n",
       "    .dataframe tbody tr th {\n",
       "        vertical-align: top;\n",
       "    }\n",
       "\n",
       "    .dataframe thead th {\n",
       "        text-align: right;\n",
       "    }\n",
       "</style>\n",
       "<table border=\"1\" class=\"dataframe\">\n",
       "  <thead>\n",
       "    <tr style=\"text-align: right;\">\n",
       "      <th></th>\n",
       "      <th>0</th>\n",
       "      <th>1</th>\n",
       "      <th>2</th>\n",
       "      <th>3</th>\n",
       "      <th>4</th>\n",
       "      <th>5</th>\n",
       "      <th>6</th>\n",
       "      <th>7</th>\n",
       "      <th>8</th>\n",
       "      <th>9</th>\n",
       "      <th>10</th>\n",
       "      <th>11</th>\n",
       "      <th>12</th>\n",
       "      <th>13</th>\n",
       "      <th>14</th>\n",
       "      <th>15</th>\n",
       "      <th>16</th>\n",
       "      <th>18</th>\n",
       "      <th>19</th>\n",
       "    </tr>\n",
       "  </thead>\n",
       "  <tbody>\n",
       "    <tr>\n",
       "      <th>0</th>\n",
       "      <td>0.066667</td>\n",
       "      <td>0.4375</td>\n",
       "      <td>0.33</td>\n",
       "      <td>0.17</td>\n",
       "      <td>0.50</td>\n",
       "      <td>0.200000</td>\n",
       "      <td>0.200000</td>\n",
       "      <td>0.12</td>\n",
       "      <td>0.16</td>\n",
       "      <td>0.380952</td>\n",
       "      <td>0.333333</td>\n",
       "      <td>0.339628</td>\n",
       "      <td>0.392047</td>\n",
       "      <td>0.485981</td>\n",
       "      <td>0.513514</td>\n",
       "      <td>0.030110</td>\n",
       "      <td>0.164297</td>\n",
       "      <td>0.0</td>\n",
       "      <td>1.0</td>\n",
       "    </tr>\n",
       "    <tr>\n",
       "      <th>1</th>\n",
       "      <td>0.133333</td>\n",
       "      <td>0.1875</td>\n",
       "      <td>0.50</td>\n",
       "      <td>0.33</td>\n",
       "      <td>0.17</td>\n",
       "      <td>0.466667</td>\n",
       "      <td>0.466667</td>\n",
       "      <td>0.24</td>\n",
       "      <td>0.16</td>\n",
       "      <td>0.333333</td>\n",
       "      <td>0.285714</td>\n",
       "      <td>0.468097</td>\n",
       "      <td>0.342563</td>\n",
       "      <td>0.551402</td>\n",
       "      <td>0.459459</td>\n",
       "      <td>0.601862</td>\n",
       "      <td>0.030110</td>\n",
       "      <td>0.0</td>\n",
       "      <td>1.0</td>\n",
       "    </tr>\n",
       "    <tr>\n",
       "      <th>2</th>\n",
       "      <td>0.266667</td>\n",
       "      <td>0.3125</td>\n",
       "      <td>0.00</td>\n",
       "      <td>0.17</td>\n",
       "      <td>0.83</td>\n",
       "      <td>0.600000</td>\n",
       "      <td>0.266667</td>\n",
       "      <td>0.16</td>\n",
       "      <td>0.28</td>\n",
       "      <td>0.095238</td>\n",
       "      <td>0.476190</td>\n",
       "      <td>0.283262</td>\n",
       "      <td>0.232990</td>\n",
       "      <td>0.439252</td>\n",
       "      <td>0.477477</td>\n",
       "      <td>0.129292</td>\n",
       "      <td>0.105955</td>\n",
       "      <td>0.0</td>\n",
       "      <td>1.0</td>\n",
       "    </tr>\n",
       "    <tr>\n",
       "      <th>3</th>\n",
       "      <td>0.400000</td>\n",
       "      <td>0.3125</td>\n",
       "      <td>0.83</td>\n",
       "      <td>0.00</td>\n",
       "      <td>0.17</td>\n",
       "      <td>0.266667</td>\n",
       "      <td>0.200000</td>\n",
       "      <td>0.24</td>\n",
       "      <td>0.32</td>\n",
       "      <td>0.666667</td>\n",
       "      <td>0.619048</td>\n",
       "      <td>0.500143</td>\n",
       "      <td>0.349926</td>\n",
       "      <td>0.644860</td>\n",
       "      <td>0.450450</td>\n",
       "      <td>0.561023</td>\n",
       "      <td>0.100121</td>\n",
       "      <td>0.0</td>\n",
       "      <td>1.0</td>\n",
       "    </tr>\n",
       "    <tr>\n",
       "      <th>4</th>\n",
       "      <td>0.266667</td>\n",
       "      <td>0.4375</td>\n",
       "      <td>0.00</td>\n",
       "      <td>0.00</td>\n",
       "      <td>1.00</td>\n",
       "      <td>0.533333</td>\n",
       "      <td>1.000000</td>\n",
       "      <td>0.12</td>\n",
       "      <td>0.84</td>\n",
       "      <td>0.238095</td>\n",
       "      <td>0.190476</td>\n",
       "      <td>0.186838</td>\n",
       "      <td>0.538439</td>\n",
       "      <td>0.242991</td>\n",
       "      <td>0.684685</td>\n",
       "      <td>0.030110</td>\n",
       "      <td>0.811894</td>\n",
       "      <td>0.0</td>\n",
       "      <td>1.0</td>\n",
       "    </tr>\n",
       "  </tbody>\n",
       "</table>\n",
       "</div>"
      ],
      "text/plain": [
       "         0       1     2     3     4         5         6     7     8   \\\n",
       "0  0.066667  0.4375  0.33  0.17  0.50  0.200000  0.200000  0.12  0.16   \n",
       "1  0.133333  0.1875  0.50  0.33  0.17  0.466667  0.466667  0.24  0.16   \n",
       "2  0.266667  0.3125  0.00  0.17  0.83  0.600000  0.266667  0.16  0.28   \n",
       "3  0.400000  0.3125  0.83  0.00  0.17  0.266667  0.200000  0.24  0.32   \n",
       "4  0.266667  0.4375  0.00  0.00  1.00  0.533333  1.000000  0.12  0.84   \n",
       "\n",
       "         9         10        11        12        13        14        15  \\\n",
       "0  0.380952  0.333333  0.339628  0.392047  0.485981  0.513514  0.030110   \n",
       "1  0.333333  0.285714  0.468097  0.342563  0.551402  0.459459  0.601862   \n",
       "2  0.095238  0.476190  0.283262  0.232990  0.439252  0.477477  0.129292   \n",
       "3  0.666667  0.619048  0.500143  0.349926  0.644860  0.450450  0.561023   \n",
       "4  0.238095  0.190476  0.186838  0.538439  0.242991  0.684685  0.030110   \n",
       "\n",
       "         16   18   19  \n",
       "0  0.164297  0.0  1.0  \n",
       "1  0.030110  0.0  1.0  \n",
       "2  0.105955  0.0  1.0  \n",
       "3  0.100121  0.0  1.0  \n",
       "4  0.811894  0.0  1.0  "
      ]
     },
     "execution_count": 62,
     "metadata": {},
     "output_type": "execute_result"
    }
   ],
   "source": [
    "X.head()"
   ]
  },
  {
   "cell_type": "code",
   "execution_count": 53,
   "metadata": {},
   "outputs": [
    {
     "data": {
      "text/plain": [
       "array([0.04746265, 0.04748315, 0.0384274 , 0.03207084, 0.04111116,\n",
       "       0.05258415, 0.05144581, 0.05254152, 0.05240386, 0.05121923,\n",
       "       0.05042072, 0.07959419, 0.08120171, 0.06969013, 0.06943406,\n",
       "       0.08231562, 0.08158653, 0.00962824, 0.00937905])"
      ]
     },
     "execution_count": 53,
     "metadata": {},
     "output_type": "execute_result"
    }
   ],
   "source": [
    "scores"
   ]
  },
  {
   "cell_type": "code",
   "execution_count": 58,
   "metadata": {},
   "outputs": [
    {
     "data": {
      "text/plain": [
       "RangeIndex(start=0, stop=20, step=1)"
      ]
     },
     "execution_count": 58,
     "metadata": {},
     "output_type": "execute_result"
    }
   ],
   "source": [
    "['day','home_missing_player','away_missing_player','matchup_home_wins','matchup_draw',\n",
    "    'matchup_away_wins', 'home_last_5_points', 'away_last_5_points', 'home_last_5_goals',\n",
    "   'away_last_5_goals', 'home_last_5_conceded','away_last_5_conceded','home_last_5_passes',\n",
    "   'away_last_5_passes', 'home_last_5_shot', 'away_last_5_shot','home_uefa','away_uefa','result']"
   ]
  },
  {
   "cell_type": "code",
   "execution_count": 45,
   "metadata": {},
   "outputs": [
    {
     "data": {
      "text/plain": [
       "(8332, 3)"
      ]
     },
     "execution_count": 45,
     "metadata": {},
     "output_type": "execute_result"
    }
   ],
   "source": [
    "(pd.get_dummies(y_train)).shape"
   ]
  },
  {
   "cell_type": "code",
   "execution_count": 46,
   "metadata": {},
   "outputs": [],
   "source": [
    "dtrain = xgb.DMatrix(data=X_train, label = y_train+1)\n",
    "dtest = xgb.DMatrix(data=X_test, label = y_test+1)"
   ]
  },
  {
   "cell_type": "code",
   "execution_count": 590,
   "metadata": {},
   "outputs": [],
   "source": [
    "params = {'n_estimators' : 200,\n",
    "          'subsample' : 0.5,\n",
    "          'colsample_bytree' : 0.5,\n",
    "          'num_class' : 3,\n",
    "         'objective' : 'multi:softprob',\n",
    "         'eval_metric' : 'mlogloss',\n",
    "         'early_stoppings' : 100 }\n",
    "\n",
    "num_rounds = 10"
   ]
  },
  {
   "cell_type": "code",
   "execution_count": 591,
   "metadata": {},
   "outputs": [
    {
     "name": "stdout",
     "output_type": "stream",
     "text": [
      "[15:35:52] WARNING: C:/Users/Administrator/workspace/xgboost-win64_release_1.3.0/src/learner.cc:541: \n",
      "Parameters: { early_stoppings, n_estimators } might not be used.\n",
      "\n",
      "  This may not be accurate due to some parameters are only used in language bindings but\n",
      "  passed down to XGBoost core.  Or some parameters are not used but slip through this\n",
      "  verification. Please open an issue if you find above cases.\n",
      "\n",
      "\n",
      "[0]\ttrain-mlogloss:1.04042\teval-mlogloss:1.05583\n",
      "[1]\ttrain-mlogloss:1.00311\teval-mlogloss:1.03384\n",
      "[2]\ttrain-mlogloss:0.97396\teval-mlogloss:1.01851\n",
      "[3]\ttrain-mlogloss:0.95132\teval-mlogloss:1.01088\n",
      "[4]\ttrain-mlogloss:0.93511\teval-mlogloss:1.00512\n",
      "[5]\ttrain-mlogloss:0.92320\teval-mlogloss:1.00240\n",
      "[6]\ttrain-mlogloss:0.91204\teval-mlogloss:1.00112\n",
      "[7]\ttrain-mlogloss:0.90179\teval-mlogloss:1.00011\n",
      "[8]\ttrain-mlogloss:0.89257\teval-mlogloss:1.00035\n",
      "[9]\ttrain-mlogloss:0.88341\teval-mlogloss:0.99960\n"
     ]
    }
   ],
   "source": [
    "wlist = [(dtrain, 'train'), (dtest,'eval')]\n",
    "xgb_model = xgb.train(params = params, dtrain=dtrain, num_boost_round=num_rounds, evals=wlist)"
   ]
  },
  {
   "cell_type": "code",
   "execution_count": 592,
   "metadata": {},
   "outputs": [],
   "source": [
    "pred_probs = xgb_model.predict(dtest)"
   ]
  },
  {
   "cell_type": "code",
   "execution_count": 593,
   "metadata": {},
   "outputs": [],
   "source": [
    "y_pred = np.argmax(pred_probs, axis=1)"
   ]
  },
  {
   "cell_type": "code",
   "execution_count": 594,
   "metadata": {},
   "outputs": [],
   "source": [
    "def get_clf_eval(y_test, y_pred):\n",
    "    confusion = confusion_matrix(y_test, y_pred)\n",
    "    accuracy = accuracy_score(y_test, y_pred)\n",
    "\n",
    "    print('오차행렬:\\n', confusion)\n",
    "    print('\\n정확도: {:.4f}'.format(accuracy))"
   ]
  },
  {
   "cell_type": "code",
   "execution_count": 595,
   "metadata": {},
   "outputs": [
    {
     "name": "stdout",
     "output_type": "stream",
     "text": [
      "오차행렬:\n",
      " [[ 448   25  509]\n",
      " [ 200   30  611]\n",
      " [ 236   39 1277]]\n",
      "\n",
      "정확도: 0.5200\n"
     ]
    }
   ],
   "source": [
    "get_clf_eval(y_test+1,y_pred)"
   ]
  },
  {
   "cell_type": "code",
   "execution_count": null,
   "metadata": {},
   "outputs": [],
   "source": []
  }
 ],
 "metadata": {
  "kernelspec": {
   "display_name": "Python 3",
   "language": "python",
   "name": "python3"
  },
  "language_info": {
   "codemirror_mode": {
    "name": "ipython",
    "version": 3
   },
   "file_extension": ".py",
   "mimetype": "text/x-python",
   "name": "python",
   "nbconvert_exporter": "python",
   "pygments_lexer": "ipython3",
   "version": "3.8.5"
  }
 },
 "nbformat": 4,
 "nbformat_minor": 4
}
