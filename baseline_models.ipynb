{
 "cells": [
  {
   "cell_type": "code",
   "execution_count": 1,
   "metadata": {},
   "outputs": [],
   "source": [
    "import numpy as np\n",
    "import pandas as pd\n",
    "import matplotlib.pyplot as plt\n",
    "import time\n",
    "import os\n",
    "import random\n",
    "from sklearn import preprocessing\n",
    "from sklearn.model_selection import train_test_split\n",
    "from sklearn.preprocessing import StandardScaler\n",
    "from sklearn import linear_model\n",
    "from sklearn import metrics\n",
    "from sklearn.metrics import confusion_matrix, accuracy_score, precision_score, recall_score\n",
    "from sklearn.metrics import confusion_matrix, f1_score, roc_auc_score\n",
    "from sklearn.neural_network import MLPClassifier\n",
    "from sklearn.ensemble import RandomForestClassifier\n",
    "import xgboost as xgb\n",
    "from xgboost import plot_importance"
   ]
  },
  {
   "cell_type": "code",
   "execution_count": 2,
   "metadata": {},
   "outputs": [
    {
     "name": "stdout",
     "output_type": "stream",
     "text": [
      "Requirement already satisfied: xgboost in c:\\users\\jaemini_man\\anaconda3\\lib\\site-packages (1.4.1)\n",
      "Requirement already satisfied: numpy in c:\\users\\jaemini_man\\anaconda3\\lib\\site-packages (from xgboost) (1.19.2)\n",
      "Requirement already satisfied: scipy in c:\\users\\jaemini_man\\anaconda3\\lib\\site-packages (from xgboost) (1.5.2)\n",
      "Note: you may need to restart the kernel to use updated packages.\n"
     ]
    }
   ],
   "source": [
    "pip install xgboost"
   ]
  },
  {
   "cell_type": "code",
   "execution_count": 3,
   "metadata": {},
   "outputs": [],
   "source": [
    "path = os.getcwd()"
   ]
  },
  {
   "cell_type": "code",
   "execution_count": 4,
   "metadata": {},
   "outputs": [
    {
     "data": {
      "text/plain": [
       "['.ipynb_checkpoints',\n",
       " '.RData',\n",
       " '.Rhistory',\n",
       " '.Rproj.user',\n",
       " 'After_COVID_BL.csv',\n",
       " 'After_COVID_LIGA.csv',\n",
       " 'After_COVID_PL.csv',\n",
       " 'After_COVID_plot',\n",
       " 'After_COVID_SE.csv',\n",
       " 'attack numbers.png',\n",
       " 'baseline_models.ipynb',\n",
       " 'bases3.RData',\n",
       " 'bayesian_model.R',\n",
       " 'Before_COVID_BL.csv',\n",
       " 'Before_COVID_LIGA.csv',\n",
       " 'Before_COVID_PL.csv',\n",
       " 'Before_COVID_SE.csv',\n",
       " 'BL.csv',\n",
       " 'BL.RData',\n",
       " 'BL_fixed_samples.csv',\n",
       " 'BL_indep_samples.csv',\n",
       " 'BL_sample.RData',\n",
       " 'BL_sampling_fixed.RData',\n",
       " 'BL_sampling_indep.RData',\n",
       " 'BL_train_sample.RData',\n",
       " 'data',\n",
       " 'data_fixed.rdata',\n",
       " 'data_indep.rdata',\n",
       " 'experiments.R',\n",
       " 'full___.RData',\n",
       " 'home_win_before.csv',\n",
       " 'LIGA.csv',\n",
       " 'LIGA.RData',\n",
       " 'LIGA_fixed_samples.csv',\n",
       " 'LIGA_indep_samples.csv',\n",
       " 'LIGA_sample.RData',\n",
       " 'LIGA_sampling_fixed.RData',\n",
       " 'LIGA_sampling_indep.RData',\n",
       " 'LIGA_train_sample.RData',\n",
       " 'ms3.Rdata',\n",
       " 'note.R',\n",
       " 'PL.csv',\n",
       " 'PL.RData',\n",
       " 'plot',\n",
       " 'plot 그리기.R',\n",
       " 'plot.R',\n",
       " 'PL_fixed_samples.csv',\n",
       " 'PL_indep_samples.csv',\n",
       " 'PL_sampling.RData',\n",
       " 'PL_sampling_fixed.RData',\n",
       " 'PL_train_sample.RData',\n",
       " 'predict.R',\n",
       " 'predict_example.csv',\n",
       " 'predict_example2.csv',\n",
       " 'preprocessed.R',\n",
       " 'preprocessing_utils.R',\n",
       " 'sample_mean.rdata',\n",
       " 'sample_plot.ipynb',\n",
       " 'save_plot.R',\n",
       " 'scores.png',\n",
       " 'SE.csv',\n",
       " 'SE.RData',\n",
       " 'SE_fixed_samples.csv',\n",
       " 'SE_indep_samples.csv',\n",
       " 'SE_sample.RData',\n",
       " 'SE_sampling_fixed.RData',\n",
       " 'SE_sampling_indep.RData',\n",
       " 'SE_train_sample.RData',\n",
       " 'soccer.Rproj',\n",
       " 'team_name_list.RData',\n",
       " 'Untitled.ipynb',\n",
       " 'Untitled1.ipynb',\n",
       " 'win_rate.csv',\n",
       " 'win_rate_analysis.R',\n",
       " 'win_score.csv',\n",
       " '부상자적은팀승률.png',\n",
       " '홈팀승률.png']"
      ]
     },
     "execution_count": 4,
     "metadata": {},
     "output_type": "execute_result"
    }
   ],
   "source": [
    "os.listdir(path)"
   ]
  },
  {
   "cell_type": "code",
   "execution_count": 5,
   "metadata": {},
   "outputs": [],
   "source": [
    "########### read csv files"
   ]
  },
  {
   "cell_type": "code",
   "execution_count": 6,
   "metadata": {},
   "outputs": [],
   "source": [
    "PL = pd.read_csv('PL.csv').iloc[:,1:]\n",
    "BL = pd.read_csv('BL.csv').iloc[:,1:]\n",
    "LIGA = pd.read_csv('LIGA.csv').iloc[:,1:]\n",
    "SE = pd.read_csv('SE.csv').iloc[:,1:]\n",
    "df = pd.concat([PL,LIGA,BL,SE], axis=0)"
   ]
  },
  {
   "cell_type": "code",
   "execution_count": 7,
   "metadata": {},
   "outputs": [],
   "source": [
    "df = df.dropna()"
   ]
  },
  {
   "cell_type": "code",
   "execution_count": 56,
   "metadata": {},
   "outputs": [],
   "source": [
    "def win(x):\n",
    "    if x > 0:\n",
    "        return 1\n",
    "    if x == 0:\n",
    "        return 0\n",
    "    else :\n",
    "        return -1"
   ]
  },
  {
   "cell_type": "code",
   "execution_count": 57,
   "metadata": {
    "scrolled": true
   },
   "outputs": [
    {
     "data": {
      "text/plain": [
       "12144"
      ]
     },
     "execution_count": 57,
     "metadata": {},
     "output_type": "execute_result"
    }
   ],
   "source": [
    "result = list(map(win, (df['full_home_score'] - df['full_away_score'])))\n",
    "len(result)"
   ]
  },
  {
   "cell_type": "code",
   "execution_count": 58,
   "metadata": {},
   "outputs": [],
   "source": [
    "df['result'] = result"
   ]
  },
  {
   "cell_type": "code",
   "execution_count": 59,
   "metadata": {},
   "outputs": [
    {
     "data": {
      "text/plain": [
       "0.26622222222222225"
      ]
     },
     "execution_count": 59,
     "metadata": {},
     "output_type": "execute_result"
    }
   ],
   "source": [
    "df[df['result']==0].shape[0]/11250"
   ]
  },
  {
   "cell_type": "code",
   "execution_count": 60,
   "metadata": {
    "scrolled": true
   },
   "outputs": [
    {
     "data": {
      "text/plain": [
       "0"
      ]
     },
     "execution_count": 60,
     "metadata": {},
     "output_type": "execute_result"
    }
   ],
   "source": [
    "result[result == 0]"
   ]
  },
  {
   "cell_type": "code",
   "execution_count": 61,
   "metadata": {
    "scrolled": true
   },
   "outputs": [
    {
     "data": {
      "text/plain": [
       "0.49217777777777777"
      ]
     },
     "execution_count": 61,
     "metadata": {},
     "output_type": "execute_result"
    }
   ],
   "source": [
    "df[df['result']>0].shape[0]/11250"
   ]
  },
  {
   "cell_type": "code",
   "execution_count": 62,
   "metadata": {
    "scrolled": true
   },
   "outputs": [
    {
     "data": {
      "text/plain": [
       "0.32106666666666667"
      ]
     },
     "execution_count": 62,
     "metadata": {},
     "output_type": "execute_result"
    }
   ],
   "source": [
    "df[df['result']<0].shape[0]/11250"
   ]
  },
  {
   "cell_type": "code",
   "execution_count": 63,
   "metadata": {},
   "outputs": [],
   "source": [
    "def null_classifier(n_games):\n",
    "    random_list = np.random.rand(n_games)\n",
    "    def classifier(x):\n",
    "        if x < 0.460:\n",
    "            return 1\n",
    "        elif x < 0.705:\n",
    "            return 0\n",
    "        else :\n",
    "            return -1\n",
    "    return(np.array(list(map(classifier, random_list))))    "
   ]
  },
  {
   "cell_type": "code",
   "execution_count": 64,
   "metadata": {},
   "outputs": [],
   "source": [
    "aa = null_classifier(12144)"
   ]
  },
  {
   "cell_type": "code",
   "execution_count": 65,
   "metadata": {},
   "outputs": [
    {
     "data": {
      "text/plain": [
       "0.35778985507246375"
      ]
     },
     "execution_count": 65,
     "metadata": {},
     "output_type": "execute_result"
    }
   ],
   "source": [
    "aa[aa == df['result']].shape[0]/12144"
   ]
  },
  {
   "cell_type": "code",
   "execution_count": 66,
   "metadata": {
    "scrolled": true
   },
   "outputs": [
    {
     "data": {
      "text/plain": [
       "Index(['home_shot', 'away_shot', 'home_possession', 'away_possession',\n",
       "       'home_pass_success', 'away_pass_success', 'home_dribbles',\n",
       "       'away_dribbles', 'home_aerials_won', 'away_aerials_won', 'home_tackles',\n",
       "       'away_tackles', 'home_corners', 'away_corners', 'home_dispossessed',\n",
       "       'away_dispossessed', 'home_missing_player', 'away_missing_player',\n",
       "       'home', 'away', 'half_home_score', 'half_away_score', 'full_home_score',\n",
       "       'full_away_score', 'kick_off', 'day', 'date', 'matchup_home_goals',\n",
       "       'matchup_away_goals', 'matchup_home_wins', 'matchup_draw',\n",
       "       'matchup_away_wins', 'home_total_att', 'away_total_att',\n",
       "       'home_open_att', 'away_open_att', 'home_set_att', 'away_set_att',\n",
       "       'home_counter_att', 'away_counter_att', 'home_pk_att', 'away_pk_att',\n",
       "       'home_own_att', 'away_own_att', 'home_total_passes',\n",
       "       'away_total_passes', 'home_crosses_passes', 'away_crosses_passes',\n",
       "       'home_long_balls', 'away_long_balls', 'home_short_passes',\n",
       "       'away_short_passes', 'date_no', 'home_last_5_points',\n",
       "       'away_last_5_points', 'home_last_5_goals', 'away_last_5_goals',\n",
       "       'home_last_5_possession', 'away_last_5_possession',\n",
       "       'home_last_5_conceded', 'away_last_5_conceded', 'home_last_5_passes',\n",
       "       'away_last_5_passes', 'home_last_5_shot', 'away_last_5_shot', 'season',\n",
       "       'home_uefa', 'away_uefa', 'result'],\n",
       "      dtype='object')"
      ]
     },
     "execution_count": 66,
     "metadata": {},
     "output_type": "execute_result"
    }
   ],
   "source": [
    "df.columns"
   ]
  },
  {
   "cell_type": "code",
   "execution_count": 67,
   "metadata": {
    "scrolled": true
   },
   "outputs": [
    {
     "data": {
      "text/html": [
       "<div>\n",
       "<style scoped>\n",
       "    .dataframe tbody tr th:only-of-type {\n",
       "        vertical-align: middle;\n",
       "    }\n",
       "\n",
       "    .dataframe tbody tr th {\n",
       "        vertical-align: top;\n",
       "    }\n",
       "\n",
       "    .dataframe thead th {\n",
       "        text-align: right;\n",
       "    }\n",
       "</style>\n",
       "<table border=\"1\" class=\"dataframe\">\n",
       "  <thead>\n",
       "    <tr style=\"text-align: right;\">\n",
       "      <th></th>\n",
       "      <th>home_shot</th>\n",
       "      <th>away_shot</th>\n",
       "      <th>home_possession</th>\n",
       "      <th>away_possession</th>\n",
       "      <th>home_pass_success</th>\n",
       "      <th>away_pass_success</th>\n",
       "      <th>home_dribbles</th>\n",
       "      <th>away_dribbles</th>\n",
       "      <th>home_aerials_won</th>\n",
       "      <th>away_aerials_won</th>\n",
       "      <th>...</th>\n",
       "      <th>home_last_5_conceded</th>\n",
       "      <th>away_last_5_conceded</th>\n",
       "      <th>home_last_5_passes</th>\n",
       "      <th>away_last_5_passes</th>\n",
       "      <th>home_last_5_shot</th>\n",
       "      <th>away_last_5_shot</th>\n",
       "      <th>season</th>\n",
       "      <th>home_uefa</th>\n",
       "      <th>away_uefa</th>\n",
       "      <th>result</th>\n",
       "    </tr>\n",
       "  </thead>\n",
       "  <tbody>\n",
       "    <tr>\n",
       "      <th>0</th>\n",
       "      <td>14</td>\n",
       "      <td>5</td>\n",
       "      <td>45.1</td>\n",
       "      <td>54.9</td>\n",
       "      <td>79</td>\n",
       "      <td>80</td>\n",
       "      <td>11</td>\n",
       "      <td>5</td>\n",
       "      <td>28</td>\n",
       "      <td>33</td>\n",
       "      <td>...</td>\n",
       "      <td>12.0</td>\n",
       "      <td>3.0</td>\n",
       "      <td>2315.0</td>\n",
       "      <td>2141.0</td>\n",
       "      <td>59.0</td>\n",
       "      <td>53.0</td>\n",
       "      <td>PL1920</td>\n",
       "      <td>17.092</td>\n",
       "      <td>17.092</td>\n",
       "      <td>0</td>\n",
       "    </tr>\n",
       "    <tr>\n",
       "      <th>1</th>\n",
       "      <td>20</td>\n",
       "      <td>3</td>\n",
       "      <td>67.1</td>\n",
       "      <td>32.9</td>\n",
       "      <td>92</td>\n",
       "      <td>84</td>\n",
       "      <td>13</td>\n",
       "      <td>3</td>\n",
       "      <td>6</td>\n",
       "      <td>2</td>\n",
       "      <td>...</td>\n",
       "      <td>4.0</td>\n",
       "      <td>4.0</td>\n",
       "      <td>3789.0</td>\n",
       "      <td>2730.0</td>\n",
       "      <td>82.0</td>\n",
       "      <td>48.0</td>\n",
       "      <td>PL1920</td>\n",
       "      <td>123.092</td>\n",
       "      <td>118.092</td>\n",
       "      <td>1</td>\n",
       "    </tr>\n",
       "    <tr>\n",
       "      <th>2</th>\n",
       "      <td>10</td>\n",
       "      <td>12</td>\n",
       "      <td>38.8</td>\n",
       "      <td>61.2</td>\n",
       "      <td>75</td>\n",
       "      <td>83</td>\n",
       "      <td>10</td>\n",
       "      <td>14</td>\n",
       "      <td>14</td>\n",
       "      <td>19</td>\n",
       "      <td>...</td>\n",
       "      <td>8.0</td>\n",
       "      <td>1.0</td>\n",
       "      <td>2507.0</td>\n",
       "      <td>2433.0</td>\n",
       "      <td>57.0</td>\n",
       "      <td>72.0</td>\n",
       "      <td>PL1920</td>\n",
       "      <td>95.092</td>\n",
       "      <td>95.092</td>\n",
       "      <td>0</td>\n",
       "    </tr>\n",
       "    <tr>\n",
       "      <th>3</th>\n",
       "      <td>9</td>\n",
       "      <td>22</td>\n",
       "      <td>55.0</td>\n",
       "      <td>45.0</td>\n",
       "      <td>71</td>\n",
       "      <td>69</td>\n",
       "      <td>10</td>\n",
       "      <td>18</td>\n",
       "      <td>13</td>\n",
       "      <td>23</td>\n",
       "      <td>...</td>\n",
       "      <td>5.0</td>\n",
       "      <td>10.0</td>\n",
       "      <td>2420.0</td>\n",
       "      <td>2135.0</td>\n",
       "      <td>53.0</td>\n",
       "      <td>71.0</td>\n",
       "      <td>PL1920</td>\n",
       "      <td>17.092</td>\n",
       "      <td>24.592</td>\n",
       "      <td>-1</td>\n",
       "    </tr>\n",
       "    <tr>\n",
       "      <th>4</th>\n",
       "      <td>8</td>\n",
       "      <td>15</td>\n",
       "      <td>31.7</td>\n",
       "      <td>68.3</td>\n",
       "      <td>63</td>\n",
       "      <td>81</td>\n",
       "      <td>5</td>\n",
       "      <td>5</td>\n",
       "      <td>22</td>\n",
       "      <td>21</td>\n",
       "      <td>...</td>\n",
       "      <td>8.0</td>\n",
       "      <td>4.0</td>\n",
       "      <td>1951.0</td>\n",
       "      <td>2418.0</td>\n",
       "      <td>47.0</td>\n",
       "      <td>67.0</td>\n",
       "      <td>PL1920</td>\n",
       "      <td>17.092</td>\n",
       "      <td>39.092</td>\n",
       "      <td>0</td>\n",
       "    </tr>\n",
       "    <tr>\n",
       "      <th>...</th>\n",
       "      <td>...</td>\n",
       "      <td>...</td>\n",
       "      <td>...</td>\n",
       "      <td>...</td>\n",
       "      <td>...</td>\n",
       "      <td>...</td>\n",
       "      <td>...</td>\n",
       "      <td>...</td>\n",
       "      <td>...</td>\n",
       "      <td>...</td>\n",
       "      <td>...</td>\n",
       "      <td>...</td>\n",
       "      <td>...</td>\n",
       "      <td>...</td>\n",
       "      <td>...</td>\n",
       "      <td>...</td>\n",
       "      <td>...</td>\n",
       "      <td>...</td>\n",
       "      <td>...</td>\n",
       "      <td>...</td>\n",
       "      <td>...</td>\n",
       "    </tr>\n",
       "    <tr>\n",
       "      <th>3691</th>\n",
       "      <td>14</td>\n",
       "      <td>9</td>\n",
       "      <td>43.7</td>\n",
       "      <td>56.3</td>\n",
       "      <td>82</td>\n",
       "      <td>84</td>\n",
       "      <td>6</td>\n",
       "      <td>11</td>\n",
       "      <td>12</td>\n",
       "      <td>4</td>\n",
       "      <td>...</td>\n",
       "      <td>6.0</td>\n",
       "      <td>7.0</td>\n",
       "      <td>2232.0</td>\n",
       "      <td>1734.0</td>\n",
       "      <td>84.0</td>\n",
       "      <td>66.0</td>\n",
       "      <td>SE1920</td>\n",
       "      <td>14.945</td>\n",
       "      <td>53.945</td>\n",
       "      <td>0</td>\n",
       "    </tr>\n",
       "    <tr>\n",
       "      <th>3692</th>\n",
       "      <td>13</td>\n",
       "      <td>9</td>\n",
       "      <td>53.3</td>\n",
       "      <td>46.7</td>\n",
       "      <td>78</td>\n",
       "      <td>79</td>\n",
       "      <td>10</td>\n",
       "      <td>12</td>\n",
       "      <td>22</td>\n",
       "      <td>13</td>\n",
       "      <td>...</td>\n",
       "      <td>5.0</td>\n",
       "      <td>14.0</td>\n",
       "      <td>1904.0</td>\n",
       "      <td>2189.0</td>\n",
       "      <td>61.0</td>\n",
       "      <td>79.0</td>\n",
       "      <td>SE1920</td>\n",
       "      <td>14.945</td>\n",
       "      <td>14.945</td>\n",
       "      <td>-1</td>\n",
       "    </tr>\n",
       "    <tr>\n",
       "      <th>3693</th>\n",
       "      <td>13</td>\n",
       "      <td>8</td>\n",
       "      <td>48.0</td>\n",
       "      <td>52.0</td>\n",
       "      <td>80</td>\n",
       "      <td>79</td>\n",
       "      <td>5</td>\n",
       "      <td>11</td>\n",
       "      <td>22</td>\n",
       "      <td>21</td>\n",
       "      <td>...</td>\n",
       "      <td>15.0</td>\n",
       "      <td>2.0</td>\n",
       "      <td>2051.0</td>\n",
       "      <td>2271.0</td>\n",
       "      <td>80.0</td>\n",
       "      <td>57.0</td>\n",
       "      <td>SE1920</td>\n",
       "      <td>15.945</td>\n",
       "      <td>14.945</td>\n",
       "      <td>1</td>\n",
       "    </tr>\n",
       "    <tr>\n",
       "      <th>3694</th>\n",
       "      <td>17</td>\n",
       "      <td>13</td>\n",
       "      <td>53.9</td>\n",
       "      <td>46.1</td>\n",
       "      <td>91</td>\n",
       "      <td>86</td>\n",
       "      <td>10</td>\n",
       "      <td>7</td>\n",
       "      <td>7</td>\n",
       "      <td>4</td>\n",
       "      <td>...</td>\n",
       "      <td>5.0</td>\n",
       "      <td>6.0</td>\n",
       "      <td>3117.0</td>\n",
       "      <td>2672.0</td>\n",
       "      <td>85.0</td>\n",
       "      <td>86.0</td>\n",
       "      <td>SE1920</td>\n",
       "      <td>138.945</td>\n",
       "      <td>45.945</td>\n",
       "      <td>1</td>\n",
       "    </tr>\n",
       "    <tr>\n",
       "      <th>3695</th>\n",
       "      <td>20</td>\n",
       "      <td>10</td>\n",
       "      <td>70.4</td>\n",
       "      <td>29.6</td>\n",
       "      <td>92</td>\n",
       "      <td>81</td>\n",
       "      <td>15</td>\n",
       "      <td>7</td>\n",
       "      <td>6</td>\n",
       "      <td>6</td>\n",
       "      <td>...</td>\n",
       "      <td>5.0</td>\n",
       "      <td>8.0</td>\n",
       "      <td>2593.0</td>\n",
       "      <td>1812.0</td>\n",
       "      <td>75.0</td>\n",
       "      <td>44.0</td>\n",
       "      <td>SE1920</td>\n",
       "      <td>18.945</td>\n",
       "      <td>14.945</td>\n",
       "      <td>1</td>\n",
       "    </tr>\n",
       "  </tbody>\n",
       "</table>\n",
       "<p>12144 rows × 69 columns</p>\n",
       "</div>"
      ],
      "text/plain": [
       "      home_shot  away_shot  home_possession  away_possession  \\\n",
       "0            14          5             45.1             54.9   \n",
       "1            20          3             67.1             32.9   \n",
       "2            10         12             38.8             61.2   \n",
       "3             9         22             55.0             45.0   \n",
       "4             8         15             31.7             68.3   \n",
       "...         ...        ...              ...              ...   \n",
       "3691         14          9             43.7             56.3   \n",
       "3692         13          9             53.3             46.7   \n",
       "3693         13          8             48.0             52.0   \n",
       "3694         17         13             53.9             46.1   \n",
       "3695         20         10             70.4             29.6   \n",
       "\n",
       "      home_pass_success  away_pass_success  home_dribbles  away_dribbles  \\\n",
       "0                    79                 80             11              5   \n",
       "1                    92                 84             13              3   \n",
       "2                    75                 83             10             14   \n",
       "3                    71                 69             10             18   \n",
       "4                    63                 81              5              5   \n",
       "...                 ...                ...            ...            ...   \n",
       "3691                 82                 84              6             11   \n",
       "3692                 78                 79             10             12   \n",
       "3693                 80                 79              5             11   \n",
       "3694                 91                 86             10              7   \n",
       "3695                 92                 81             15              7   \n",
       "\n",
       "      home_aerials_won  away_aerials_won  ...  home_last_5_conceded  \\\n",
       "0                   28                33  ...                  12.0   \n",
       "1                    6                 2  ...                   4.0   \n",
       "2                   14                19  ...                   8.0   \n",
       "3                   13                23  ...                   5.0   \n",
       "4                   22                21  ...                   8.0   \n",
       "...                ...               ...  ...                   ...   \n",
       "3691                12                 4  ...                   6.0   \n",
       "3692                22                13  ...                   5.0   \n",
       "3693                22                21  ...                  15.0   \n",
       "3694                 7                 4  ...                   5.0   \n",
       "3695                 6                 6  ...                   5.0   \n",
       "\n",
       "      away_last_5_conceded  home_last_5_passes  away_last_5_passes  \\\n",
       "0                      3.0              2315.0              2141.0   \n",
       "1                      4.0              3789.0              2730.0   \n",
       "2                      1.0              2507.0              2433.0   \n",
       "3                     10.0              2420.0              2135.0   \n",
       "4                      4.0              1951.0              2418.0   \n",
       "...                    ...                 ...                 ...   \n",
       "3691                   7.0              2232.0              1734.0   \n",
       "3692                  14.0              1904.0              2189.0   \n",
       "3693                   2.0              2051.0              2271.0   \n",
       "3694                   6.0              3117.0              2672.0   \n",
       "3695                   8.0              2593.0              1812.0   \n",
       "\n",
       "      home_last_5_shot  away_last_5_shot  season  home_uefa away_uefa result  \n",
       "0                 59.0              53.0  PL1920     17.092    17.092      0  \n",
       "1                 82.0              48.0  PL1920    123.092   118.092      1  \n",
       "2                 57.0              72.0  PL1920     95.092    95.092      0  \n",
       "3                 53.0              71.0  PL1920     17.092    24.592     -1  \n",
       "4                 47.0              67.0  PL1920     17.092    39.092      0  \n",
       "...                ...               ...     ...        ...       ...    ...  \n",
       "3691              84.0              66.0  SE1920     14.945    53.945      0  \n",
       "3692              61.0              79.0  SE1920     14.945    14.945     -1  \n",
       "3693              80.0              57.0  SE1920     15.945    14.945      1  \n",
       "3694              85.0              86.0  SE1920    138.945    45.945      1  \n",
       "3695              75.0              44.0  SE1920     18.945    14.945      1  \n",
       "\n",
       "[12144 rows x 69 columns]"
      ]
     },
     "execution_count": 67,
     "metadata": {},
     "output_type": "execute_result"
    }
   ],
   "source": [
    "df"
   ]
  },
  {
   "cell_type": "code",
   "execution_count": 68,
   "metadata": {},
   "outputs": [],
   "source": [
    "date_no = df['date_no']"
   ]
  },
  {
   "cell_type": "code",
   "execution_count": 69,
   "metadata": {},
   "outputs": [],
   "source": [
    "df = df[['day','home_missing_player','away_missing_player','matchup_home_wins','matchup_draw',\n",
    "    'matchup_away_wins', 'home_last_5_points', 'away_last_5_points', 'home_last_5_goals',\n",
    "   'away_last_5_goals', 'home_last_5_conceded','away_last_5_conceded','home_last_5_passes',\n",
    "   'away_last_5_passes', 'home_last_5_shot', 'away_last_5_shot','home_uefa','away_uefa','result']]"
   ]
  },
  {
   "cell_type": "code",
   "execution_count": 70,
   "metadata": {},
   "outputs": [
    {
     "name": "stderr",
     "output_type": "stream",
     "text": [
      "<ipython-input-70-bec4574b6918>:1: SettingWithCopyWarning: \n",
      "A value is trying to be set on a copy of a slice from a DataFrame.\n",
      "Try using .loc[row_indexer,col_indexer] = value instead\n",
      "\n",
      "See the caveats in the documentation: https://pandas.pydata.org/pandas-docs/stable/user_guide/indexing.html#returning-a-view-versus-a-copy\n",
      "  df['day'] = ['weekend' if i in ['Sat', 'Sun'] else 'week' for i in df['day']]\n"
     ]
    }
   ],
   "source": [
    "df['day'] = ['weekend' if i in ['Sat', 'Sun'] else 'week' for i in df['day']]"
   ]
  },
  {
   "cell_type": "code",
   "execution_count": 71,
   "metadata": {},
   "outputs": [
    {
     "name": "stderr",
     "output_type": "stream",
     "text": [
      "<ipython-input-71-79a67650dfaf>:1: SettingWithCopyWarning: \n",
      "A value is trying to be set on a copy of a slice from a DataFrame.\n",
      "Try using .loc[row_indexer,col_indexer] = value instead\n",
      "\n",
      "See the caveats in the documentation: https://pandas.pydata.org/pandas-docs/stable/user_guide/indexing.html#returning-a-view-versus-a-copy\n",
      "  df['result'] = df['result']+1\n"
     ]
    }
   ],
   "source": [
    "df['result'] = df['result']+1"
   ]
  },
  {
   "cell_type": "code",
   "execution_count": 72,
   "metadata": {},
   "outputs": [
    {
     "data": {
      "text/html": [
       "<div>\n",
       "<style scoped>\n",
       "    .dataframe tbody tr th:only-of-type {\n",
       "        vertical-align: middle;\n",
       "    }\n",
       "\n",
       "    .dataframe tbody tr th {\n",
       "        vertical-align: top;\n",
       "    }\n",
       "\n",
       "    .dataframe thead th {\n",
       "        text-align: right;\n",
       "    }\n",
       "</style>\n",
       "<table border=\"1\" class=\"dataframe\">\n",
       "  <thead>\n",
       "    <tr style=\"text-align: right;\">\n",
       "      <th></th>\n",
       "      <th>day</th>\n",
       "      <th>home_missing_player</th>\n",
       "      <th>away_missing_player</th>\n",
       "      <th>matchup_home_wins</th>\n",
       "      <th>matchup_draw</th>\n",
       "      <th>matchup_away_wins</th>\n",
       "      <th>home_last_5_points</th>\n",
       "      <th>away_last_5_points</th>\n",
       "      <th>home_last_5_goals</th>\n",
       "      <th>away_last_5_goals</th>\n",
       "      <th>home_last_5_conceded</th>\n",
       "      <th>away_last_5_conceded</th>\n",
       "      <th>home_last_5_passes</th>\n",
       "      <th>away_last_5_passes</th>\n",
       "      <th>home_last_5_shot</th>\n",
       "      <th>away_last_5_shot</th>\n",
       "      <th>home_uefa</th>\n",
       "      <th>away_uefa</th>\n",
       "      <th>result</th>\n",
       "    </tr>\n",
       "  </thead>\n",
       "  <tbody>\n",
       "    <tr>\n",
       "      <th>0</th>\n",
       "      <td>week</td>\n",
       "      <td>2</td>\n",
       "      <td>2</td>\n",
       "      <td>17</td>\n",
       "      <td>33</td>\n",
       "      <td>50</td>\n",
       "      <td>3.0</td>\n",
       "      <td>10.0</td>\n",
       "      <td>5.0</td>\n",
       "      <td>5.0</td>\n",
       "      <td>12.0</td>\n",
       "      <td>3.0</td>\n",
       "      <td>2315.0</td>\n",
       "      <td>2141.0</td>\n",
       "      <td>59.0</td>\n",
       "      <td>53.0</td>\n",
       "      <td>17.092</td>\n",
       "      <td>17.092</td>\n",
       "      <td>1</td>\n",
       "    </tr>\n",
       "    <tr>\n",
       "      <th>1</th>\n",
       "      <td>week</td>\n",
       "      <td>0</td>\n",
       "      <td>3</td>\n",
       "      <td>100</td>\n",
       "      <td>0</td>\n",
       "      <td>0</td>\n",
       "      <td>9.0</td>\n",
       "      <td>11.0</td>\n",
       "      <td>4.0</td>\n",
       "      <td>10.0</td>\n",
       "      <td>4.0</td>\n",
       "      <td>4.0</td>\n",
       "      <td>3789.0</td>\n",
       "      <td>2730.0</td>\n",
       "      <td>82.0</td>\n",
       "      <td>48.0</td>\n",
       "      <td>123.092</td>\n",
       "      <td>118.092</td>\n",
       "      <td>2</td>\n",
       "    </tr>\n",
       "    <tr>\n",
       "      <th>2</th>\n",
       "      <td>week</td>\n",
       "      <td>5</td>\n",
       "      <td>1</td>\n",
       "      <td>33</td>\n",
       "      <td>0</td>\n",
       "      <td>67</td>\n",
       "      <td>7.0</td>\n",
       "      <td>11.0</td>\n",
       "      <td>9.0</td>\n",
       "      <td>8.0</td>\n",
       "      <td>8.0</td>\n",
       "      <td>1.0</td>\n",
       "      <td>2507.0</td>\n",
       "      <td>2433.0</td>\n",
       "      <td>57.0</td>\n",
       "      <td>72.0</td>\n",
       "      <td>95.092</td>\n",
       "      <td>95.092</td>\n",
       "      <td>1</td>\n",
       "    </tr>\n",
       "    <tr>\n",
       "      <th>3</th>\n",
       "      <td>week</td>\n",
       "      <td>2</td>\n",
       "      <td>1</td>\n",
       "      <td>17</td>\n",
       "      <td>17</td>\n",
       "      <td>67</td>\n",
       "      <td>4.0</td>\n",
       "      <td>3.0</td>\n",
       "      <td>1.0</td>\n",
       "      <td>4.0</td>\n",
       "      <td>5.0</td>\n",
       "      <td>10.0</td>\n",
       "      <td>2420.0</td>\n",
       "      <td>2135.0</td>\n",
       "      <td>53.0</td>\n",
       "      <td>71.0</td>\n",
       "      <td>17.092</td>\n",
       "      <td>24.592</td>\n",
       "      <td>0</td>\n",
       "    </tr>\n",
       "    <tr>\n",
       "      <th>4</th>\n",
       "      <td>weekend</td>\n",
       "      <td>2</td>\n",
       "      <td>4</td>\n",
       "      <td>33</td>\n",
       "      <td>0</td>\n",
       "      <td>67</td>\n",
       "      <td>4.0</td>\n",
       "      <td>5.0</td>\n",
       "      <td>6.0</td>\n",
       "      <td>6.0</td>\n",
       "      <td>8.0</td>\n",
       "      <td>4.0</td>\n",
       "      <td>1951.0</td>\n",
       "      <td>2418.0</td>\n",
       "      <td>47.0</td>\n",
       "      <td>67.0</td>\n",
       "      <td>17.092</td>\n",
       "      <td>39.092</td>\n",
       "      <td>1</td>\n",
       "    </tr>\n",
       "  </tbody>\n",
       "</table>\n",
       "</div>"
      ],
      "text/plain": [
       "       day  home_missing_player  away_missing_player  matchup_home_wins  \\\n",
       "0     week                    2                    2                 17   \n",
       "1     week                    0                    3                100   \n",
       "2     week                    5                    1                 33   \n",
       "3     week                    2                    1                 17   \n",
       "4  weekend                    2                    4                 33   \n",
       "\n",
       "   matchup_draw  matchup_away_wins  home_last_5_points  away_last_5_points  \\\n",
       "0            33                 50                 3.0                10.0   \n",
       "1             0                  0                 9.0                11.0   \n",
       "2             0                 67                 7.0                11.0   \n",
       "3            17                 67                 4.0                 3.0   \n",
       "4             0                 67                 4.0                 5.0   \n",
       "\n",
       "   home_last_5_goals  away_last_5_goals  home_last_5_conceded  \\\n",
       "0                5.0                5.0                  12.0   \n",
       "1                4.0               10.0                   4.0   \n",
       "2                9.0                8.0                   8.0   \n",
       "3                1.0                4.0                   5.0   \n",
       "4                6.0                6.0                   8.0   \n",
       "\n",
       "   away_last_5_conceded  home_last_5_passes  away_last_5_passes  \\\n",
       "0                   3.0              2315.0              2141.0   \n",
       "1                   4.0              3789.0              2730.0   \n",
       "2                   1.0              2507.0              2433.0   \n",
       "3                  10.0              2420.0              2135.0   \n",
       "4                   4.0              1951.0              2418.0   \n",
       "\n",
       "   home_last_5_shot  away_last_5_shot  home_uefa  away_uefa  result  \n",
       "0              59.0              53.0     17.092     17.092       1  \n",
       "1              82.0              48.0    123.092    118.092       2  \n",
       "2              57.0              72.0     95.092     95.092       1  \n",
       "3              53.0              71.0     17.092     24.592       0  \n",
       "4              47.0              67.0     17.092     39.092       1  "
      ]
     },
     "execution_count": 72,
     "metadata": {},
     "output_type": "execute_result"
    }
   ],
   "source": [
    "df.head()"
   ]
  },
  {
   "cell_type": "code",
   "execution_count": 73,
   "metadata": {},
   "outputs": [
    {
     "name": "stderr",
     "output_type": "stream",
     "text": [
      "C:\\Users\\jaemini_man\\anaconda3\\lib\\site-packages\\pandas\\core\\frame.py:3065: SettingWithCopyWarning: \n",
      "A value is trying to be set on a copy of a slice from a DataFrame.\n",
      "Try using .loc[row_indexer,col_indexer] = value instead\n",
      "\n",
      "See the caveats in the documentation: https://pandas.pydata.org/pandas-docs/stable/user_guide/indexing.html#returning-a-view-versus-a-copy\n",
      "  self[k1] = value[k2]\n"
     ]
    }
   ],
   "source": [
    "df[['week','weekend']] = pd.get_dummies(df['day'])"
   ]
  },
  {
   "cell_type": "code",
   "execution_count": 74,
   "metadata": {},
   "outputs": [],
   "source": [
    "df = df.drop(['day'], axis=1)"
   ]
  },
  {
   "cell_type": "code",
   "execution_count": 75,
   "metadata": {},
   "outputs": [],
   "source": [
    "min_max_scaler = preprocessing.MinMaxScaler()\n",
    "x_scaled = min_max_scaler.fit_transform(df.values)"
   ]
  },
  {
   "cell_type": "code",
   "execution_count": 76,
   "metadata": {},
   "outputs": [
    {
     "data": {
      "text/plain": [
       "0       18430\n",
       "1       18430\n",
       "2       18432\n",
       "3       18432\n",
       "4       18433\n",
       "        ...  \n",
       "3691    18329\n",
       "3692    18329\n",
       "3693    18329\n",
       "3694    18329\n",
       "3695    18330\n",
       "Name: date_no, Length: 12144, dtype: int64"
      ]
     },
     "execution_count": 76,
     "metadata": {},
     "output_type": "execute_result"
    }
   ],
   "source": [
    "date_no"
   ]
  },
  {
   "cell_type": "code",
   "execution_count": 77,
   "metadata": {},
   "outputs": [],
   "source": [
    "df = pd.DataFrame(x_scaled)"
   ]
  },
  {
   "cell_type": "code",
   "execution_count": 78,
   "metadata": {},
   "outputs": [],
   "source": [
    "df[17] = df[17].astype(np.str)"
   ]
  },
  {
   "cell_type": "code",
   "execution_count": 79,
   "metadata": {
    "scrolled": true
   },
   "outputs": [],
   "source": [
    "X = df.drop([17],axis=1)"
   ]
  },
  {
   "cell_type": "code",
   "execution_count": 80,
   "metadata": {},
   "outputs": [],
   "source": [
    "y = np.array(result)"
   ]
  },
  {
   "cell_type": "code",
   "execution_count": 81,
   "metadata": {},
   "outputs": [
    {
     "data": {
      "text/plain": [
       "(12144, 19)"
      ]
     },
     "execution_count": 81,
     "metadata": {},
     "output_type": "execute_result"
    }
   ],
   "source": [
    "np.shape(X)"
   ]
  },
  {
   "cell_type": "code",
   "execution_count": 128,
   "metadata": {},
   "outputs": [],
   "source": [
    "X_test = X[np.array(date_no)>=18628]\n",
    "y_test = y[np.array(date_no)>=18628]\n",
    "X_train = X[np.array(date_no)<18628]\n",
    "y_train = y[np.array(date_no)<18628]"
   ]
  },
  {
   "cell_type": "code",
   "execution_count": 167,
   "metadata": {},
   "outputs": [
    {
     "data": {
      "text/plain": [
       "0.4571527000258376"
      ]
     },
     "execution_count": 167,
     "metadata": {},
     "output_type": "execute_result"
    }
   ],
   "source": [
    "sum(y_train==1)/len(y_train)"
   ]
  },
  {
   "cell_type": "code",
   "execution_count": 28,
   "metadata": {},
   "outputs": [],
   "source": [
    "X_train, X_test, y_train, y_test = train_test_split(X, y, test_size = 0.3, random_state=1)"
   ]
  },
  {
   "cell_type": "code",
   "execution_count": 129,
   "metadata": {},
   "outputs": [
    {
     "data": {
      "text/plain": [
       "LogisticRegression(C=0.1, multi_class='ovr', solver='liblinear')"
      ]
     },
     "execution_count": 129,
     "metadata": {},
     "output_type": "execute_result"
    }
   ],
   "source": [
    "lm = linear_model.LogisticRegression(multi_class='ovr', solver='liblinear', C=0.1)\n",
    "lm.fit(X_train, y_train)"
   ]
  },
  {
   "cell_type": "code",
   "execution_count": 130,
   "metadata": {},
   "outputs": [
    {
     "data": {
      "text/plain": [
       "LogisticRegression(C=0.1, multi_class='ovr', solver='liblinear')"
      ]
     },
     "execution_count": 130,
     "metadata": {},
     "output_type": "execute_result"
    }
   ],
   "source": [
    "lm"
   ]
  },
  {
   "cell_type": "code",
   "execution_count": 131,
   "metadata": {},
   "outputs": [
    {
     "data": {
      "text/plain": [
       "0.5347091932457786"
      ]
     },
     "execution_count": 131,
     "metadata": {},
     "output_type": "execute_result"
    }
   ],
   "source": [
    "lm.score(X_test, y_test)"
   ]
  },
  {
   "cell_type": "code",
   "execution_count": 146,
   "metadata": {},
   "outputs": [],
   "source": [
    "clf = MLPClassifier(solver='lbfgs', alpha=1e-5,\n",
    "                     hidden_layer_sizes=(4, 4), random_state=1, max_iter = 1000)"
   ]
  },
  {
   "cell_type": "code",
   "execution_count": 147,
   "metadata": {
    "scrolled": true
   },
   "outputs": [
    {
     "name": "stderr",
     "output_type": "stream",
     "text": [
      "C:\\Users\\jaemini_man\\anaconda3\\lib\\site-packages\\sklearn\\neural_network\\_multilayer_perceptron.py:471: ConvergenceWarning: lbfgs failed to converge (status=1):\n",
      "STOP: TOTAL NO. of ITERATIONS REACHED LIMIT.\n",
      "\n",
      "Increase the number of iterations (max_iter) or scale the data as shown in:\n",
      "    https://scikit-learn.org/stable/modules/preprocessing.html\n",
      "  self.n_iter_ = _check_optimize_result(\"lbfgs\", opt_res, self.max_iter)\n"
     ]
    },
    {
     "data": {
      "text/plain": [
       "MLPClassifier(alpha=1e-05, hidden_layer_sizes=(4, 4), max_iter=1000,\n",
       "              random_state=1, solver='lbfgs')"
      ]
     },
     "execution_count": 147,
     "metadata": {},
     "output_type": "execute_result"
    }
   ],
   "source": [
    "clf.fit(np.array(X_train), np.array(y_train))"
   ]
  },
  {
   "cell_type": "code",
   "execution_count": 148,
   "metadata": {},
   "outputs": [
    {
     "data": {
      "text/plain": [
       "array([ 1,  1,  1,  1,  1, -1, -1, -1, -1,  1,  1, -1,  1,  1,  1,  1, -1,\n",
       "        1,  1,  1, -1,  1,  1,  1, -1,  1, -1,  1,  1,  1, -1, -1, -1, -1,\n",
       "        1,  1,  1,  1,  1, -1,  1,  1,  1,  1, -1, -1,  1,  1, -1, -1,  1,\n",
       "        1,  1, -1, -1,  1,  1,  1,  1,  1, -1,  1,  1, -1,  1,  1,  1, -1,\n",
       "        1,  1,  1, -1,  1, -1,  1,  1, -1,  1,  1, -1, -1,  1, -1,  1,  1,\n",
       "        1,  1, -1,  1,  1,  1,  1,  1, -1, -1,  1,  1, -1, -1, -1,  1,  1,\n",
       "        1,  1,  1, -1, -1,  1,  1,  1, -1,  1,  1,  1,  1,  1,  1,  1,  1,\n",
       "        1,  1, -1,  1,  1, -1,  1,  1,  1,  1, -1,  1,  1, -1, -1, -1,  1,\n",
       "        1,  1, -1,  1,  1,  1,  1,  1,  1,  1, -1,  1, -1,  1,  1,  1,  1,\n",
       "        1,  1, -1, -1,  1,  1,  1, -1,  1, -1,  1,  1, -1, -1,  1,  1,  1,\n",
       "        1,  1,  1,  1,  1, -1,  1,  1,  1,  1,  1, -1,  1,  1,  1, -1, -1,\n",
       "       -1,  1,  1,  1,  1,  1,  1,  1,  1, -1,  1, -1,  1, -1,  1,  1, -1,\n",
       "       -1,  1,  1,  1,  1,  1, -1,  1,  1,  1,  1,  1, -1,  1,  1,  1,  1,\n",
       "       -1, -1, -1,  1,  1,  1, -1,  1,  1,  1,  1,  1, -1,  1, -1,  1,  1,\n",
       "       -1, -1, -1,  1, -1,  1,  1,  1, -1, -1,  1, -1,  1,  1,  1,  1,  1,\n",
       "        1,  1,  1,  1, -1,  1, -1,  1,  1,  1,  1,  1,  1,  1, -1,  1, -1,\n",
       "        1,  1, -1,  1,  1,  1, -1,  1,  1, -1, -1,  1,  1,  1, -1, -1,  1,\n",
       "        1, -1,  1,  1,  1, -1, -1, -1,  1,  1,  1,  1,  1,  1,  1, -1,  1,\n",
       "        1,  1, -1,  1, -1,  1,  1, -1,  1, -1,  1,  1, -1,  1,  1, -1,  1,\n",
       "        1,  1,  1,  1, -1,  1,  1,  1, -1,  1, -1, -1,  1,  1,  1, -1,  1,\n",
       "        1,  1,  1,  1,  1,  1,  1,  1, -1,  1,  1,  1, -1, -1,  1, -1, -1,\n",
       "       -1,  1,  1,  1,  1,  1,  1,  1,  1,  1,  1,  1,  1, -1,  1, -1,  1,\n",
       "        1,  1, -1, -1,  1,  1,  1,  1,  1,  1,  1, -1,  1,  1, -1, -1, -1,\n",
       "        1, -1,  1, -1,  1,  1, -1,  1,  1,  1,  1,  1,  1,  1,  1,  1,  1,\n",
       "       -1,  1, -1, -1, -1,  1, -1,  1,  1, -1,  1,  1, -1,  1,  1,  1,  1,\n",
       "        1,  1,  1,  1,  1,  1, -1,  1, -1, -1, -1,  1, -1,  1, -1,  1,  1,\n",
       "        1, -1, -1,  1, -1,  1,  1,  1,  1,  1,  1,  1,  1, -1, -1,  1,  1,\n",
       "        1, -1,  1,  1,  1,  1,  1,  1, -1,  1,  1,  1, -1,  1,  1,  1,  1,\n",
       "       -1,  1,  1,  1, -1, -1,  1,  1,  1, -1, -1,  1,  1,  1, -1,  1,  1,\n",
       "       -1,  1, -1,  1, -1,  1,  1,  1,  1, -1,  1, -1,  1, -1,  1,  1,  1,\n",
       "        1,  1,  1,  1,  1, -1,  1,  1, -1,  1, -1, -1, -1, -1,  1,  1, -1,\n",
       "        1,  1,  1, -1,  1, -1])"
      ]
     },
     "execution_count": 148,
     "metadata": {},
     "output_type": "execute_result"
    }
   ],
   "source": [
    "clf.predict(X_test)"
   ]
  },
  {
   "cell_type": "code",
   "execution_count": 149,
   "metadata": {},
   "outputs": [
    {
     "data": {
      "text/plain": [
       "0.5384615384615384"
      ]
     },
     "execution_count": 149,
     "metadata": {},
     "output_type": "execute_result"
    }
   ],
   "source": [
    "clf.score(X_test,y_test)"
   ]
  },
  {
   "cell_type": "code",
   "execution_count": 150,
   "metadata": {},
   "outputs": [
    {
     "data": {
      "text/plain": [
       "array([[0.13340649, 0.25704883, 0.60954468],\n",
       "       [0.25247579, 0.31447229, 0.43305192],\n",
       "       [0.24316801, 0.22811467, 0.52871732],\n",
       "       ...,\n",
       "       [0.46638075, 0.25373011, 0.27988915],\n",
       "       [0.27178741, 0.23874793, 0.48946466],\n",
       "       [0.48501333, 0.27193036, 0.24305631]])"
      ]
     },
     "execution_count": 150,
     "metadata": {},
     "output_type": "execute_result"
    }
   ],
   "source": [
    "clf.predict_proba(X_test)"
   ]
  },
  {
   "cell_type": "code",
   "execution_count": 151,
   "metadata": {},
   "outputs": [
    {
     "data": {
      "text/plain": [
       "array([[0.13333333, 0.125     , 0.17      , ..., 0.0297311 , 1.        ,\n",
       "        0.        ],\n",
       "       [0.        , 0.1875    , 1.        , ..., 0.61898567, 1.        ,\n",
       "        0.        ],\n",
       "       [0.33333333, 0.0625    , 0.33      , ..., 0.48479898, 1.        ,\n",
       "        0.        ],\n",
       "       ...,\n",
       "       [0.33333333, 0.1875    , 0.5       , ..., 0.01720507, 0.        ,\n",
       "        1.        ],\n",
       "       [0.06666667, 0.1875    , 0.67      , ..., 0.19806538, 0.        ,\n",
       "        1.        ],\n",
       "       [0.13333333, 0.125     , 0.33      , ..., 0.01720507, 1.        ,\n",
       "        0.        ]])"
      ]
     },
     "execution_count": 151,
     "metadata": {},
     "output_type": "execute_result"
    }
   ],
   "source": [
    "np.array(X_train)"
   ]
  },
  {
   "cell_type": "code",
   "execution_count": 152,
   "metadata": {},
   "outputs": [
    {
     "data": {
      "text/plain": [
       "array([0, 1, 0, ..., 1, 1, 1])"
      ]
     },
     "execution_count": 152,
     "metadata": {},
     "output_type": "execute_result"
    }
   ],
   "source": [
    "np.array(y_train)"
   ]
  },
  {
   "cell_type": "code",
   "execution_count": 153,
   "metadata": {},
   "outputs": [
    {
     "data": {
      "text/html": [
       "<div>\n",
       "<style scoped>\n",
       "    .dataframe tbody tr th:only-of-type {\n",
       "        vertical-align: middle;\n",
       "    }\n",
       "\n",
       "    .dataframe tbody tr th {\n",
       "        vertical-align: top;\n",
       "    }\n",
       "\n",
       "    .dataframe thead th {\n",
       "        text-align: right;\n",
       "    }\n",
       "</style>\n",
       "<table border=\"1\" class=\"dataframe\">\n",
       "  <thead>\n",
       "    <tr style=\"text-align: right;\">\n",
       "      <th></th>\n",
       "      <th>0</th>\n",
       "      <th>1</th>\n",
       "      <th>2</th>\n",
       "      <th>3</th>\n",
       "      <th>4</th>\n",
       "      <th>5</th>\n",
       "      <th>6</th>\n",
       "      <th>7</th>\n",
       "      <th>8</th>\n",
       "      <th>9</th>\n",
       "      <th>10</th>\n",
       "      <th>11</th>\n",
       "      <th>12</th>\n",
       "      <th>13</th>\n",
       "      <th>14</th>\n",
       "      <th>15</th>\n",
       "      <th>16</th>\n",
       "      <th>18</th>\n",
       "      <th>19</th>\n",
       "    </tr>\n",
       "  </thead>\n",
       "  <tbody>\n",
       "    <tr>\n",
       "      <th>0</th>\n",
       "      <td>0.133333</td>\n",
       "      <td>0.1250</td>\n",
       "      <td>0.17</td>\n",
       "      <td>0.33</td>\n",
       "      <td>0.50</td>\n",
       "      <td>0.200000</td>\n",
       "      <td>0.666667</td>\n",
       "      <td>0.20</td>\n",
       "      <td>0.20</td>\n",
       "      <td>0.571429</td>\n",
       "      <td>0.142857</td>\n",
       "      <td>0.396567</td>\n",
       "      <td>0.358468</td>\n",
       "      <td>0.401869</td>\n",
       "      <td>0.333333</td>\n",
       "      <td>0.029731</td>\n",
       "      <td>0.029731</td>\n",
       "      <td>1.0</td>\n",
       "      <td>0.0</td>\n",
       "    </tr>\n",
       "    <tr>\n",
       "      <th>1</th>\n",
       "      <td>0.000000</td>\n",
       "      <td>0.1875</td>\n",
       "      <td>1.00</td>\n",
       "      <td>0.00</td>\n",
       "      <td>0.00</td>\n",
       "      <td>0.600000</td>\n",
       "      <td>0.733333</td>\n",
       "      <td>0.16</td>\n",
       "      <td>0.40</td>\n",
       "      <td>0.190476</td>\n",
       "      <td>0.190476</td>\n",
       "      <td>0.818312</td>\n",
       "      <td>0.531959</td>\n",
       "      <td>0.616822</td>\n",
       "      <td>0.288288</td>\n",
       "      <td>0.648157</td>\n",
       "      <td>0.618986</td>\n",
       "      <td>1.0</td>\n",
       "      <td>0.0</td>\n",
       "    </tr>\n",
       "    <tr>\n",
       "      <th>2</th>\n",
       "      <td>0.333333</td>\n",
       "      <td>0.0625</td>\n",
       "      <td>0.33</td>\n",
       "      <td>0.00</td>\n",
       "      <td>0.67</td>\n",
       "      <td>0.466667</td>\n",
       "      <td>0.733333</td>\n",
       "      <td>0.36</td>\n",
       "      <td>0.32</td>\n",
       "      <td>0.380952</td>\n",
       "      <td>0.047619</td>\n",
       "      <td>0.451502</td>\n",
       "      <td>0.444477</td>\n",
       "      <td>0.383178</td>\n",
       "      <td>0.504505</td>\n",
       "      <td>0.484799</td>\n",
       "      <td>0.484799</td>\n",
       "      <td>1.0</td>\n",
       "      <td>0.0</td>\n",
       "    </tr>\n",
       "    <tr>\n",
       "      <th>3</th>\n",
       "      <td>0.133333</td>\n",
       "      <td>0.0625</td>\n",
       "      <td>0.17</td>\n",
       "      <td>0.17</td>\n",
       "      <td>0.67</td>\n",
       "      <td>0.266667</td>\n",
       "      <td>0.200000</td>\n",
       "      <td>0.04</td>\n",
       "      <td>0.16</td>\n",
       "      <td>0.238095</td>\n",
       "      <td>0.476190</td>\n",
       "      <td>0.426609</td>\n",
       "      <td>0.356701</td>\n",
       "      <td>0.345794</td>\n",
       "      <td>0.495495</td>\n",
       "      <td>0.029731</td>\n",
       "      <td>0.073488</td>\n",
       "      <td>1.0</td>\n",
       "      <td>0.0</td>\n",
       "    </tr>\n",
       "    <tr>\n",
       "      <th>4</th>\n",
       "      <td>0.133333</td>\n",
       "      <td>0.2500</td>\n",
       "      <td>0.33</td>\n",
       "      <td>0.00</td>\n",
       "      <td>0.67</td>\n",
       "      <td>0.266667</td>\n",
       "      <td>0.333333</td>\n",
       "      <td>0.24</td>\n",
       "      <td>0.24</td>\n",
       "      <td>0.380952</td>\n",
       "      <td>0.190476</td>\n",
       "      <td>0.292418</td>\n",
       "      <td>0.440059</td>\n",
       "      <td>0.289720</td>\n",
       "      <td>0.459459</td>\n",
       "      <td>0.029731</td>\n",
       "      <td>0.158084</td>\n",
       "      <td>0.0</td>\n",
       "      <td>1.0</td>\n",
       "    </tr>\n",
       "    <tr>\n",
       "      <th>...</th>\n",
       "      <td>...</td>\n",
       "      <td>...</td>\n",
       "      <td>...</td>\n",
       "      <td>...</td>\n",
       "      <td>...</td>\n",
       "      <td>...</td>\n",
       "      <td>...</td>\n",
       "      <td>...</td>\n",
       "      <td>...</td>\n",
       "      <td>...</td>\n",
       "      <td>...</td>\n",
       "      <td>...</td>\n",
       "      <td>...</td>\n",
       "      <td>...</td>\n",
       "      <td>...</td>\n",
       "      <td>...</td>\n",
       "      <td>...</td>\n",
       "      <td>...</td>\n",
       "      <td>...</td>\n",
       "    </tr>\n",
       "    <tr>\n",
       "      <th>12139</th>\n",
       "      <td>0.066667</td>\n",
       "      <td>0.1875</td>\n",
       "      <td>0.00</td>\n",
       "      <td>0.17</td>\n",
       "      <td>0.83</td>\n",
       "      <td>0.200000</td>\n",
       "      <td>0.333333</td>\n",
       "      <td>0.08</td>\n",
       "      <td>0.28</td>\n",
       "      <td>0.285714</td>\n",
       "      <td>0.333333</td>\n",
       "      <td>0.372818</td>\n",
       "      <td>0.238586</td>\n",
       "      <td>0.635514</td>\n",
       "      <td>0.450450</td>\n",
       "      <td>0.017205</td>\n",
       "      <td>0.244739</td>\n",
       "      <td>0.0</td>\n",
       "      <td>1.0</td>\n",
       "    </tr>\n",
       "    <tr>\n",
       "      <th>12140</th>\n",
       "      <td>0.466667</td>\n",
       "      <td>0.1875</td>\n",
       "      <td>0.00</td>\n",
       "      <td>0.00</td>\n",
       "      <td>1.00</td>\n",
       "      <td>0.466667</td>\n",
       "      <td>0.000000</td>\n",
       "      <td>0.24</td>\n",
       "      <td>0.20</td>\n",
       "      <td>0.238095</td>\n",
       "      <td>0.666667</td>\n",
       "      <td>0.278970</td>\n",
       "      <td>0.372607</td>\n",
       "      <td>0.420561</td>\n",
       "      <td>0.567568</td>\n",
       "      <td>0.017205</td>\n",
       "      <td>0.017205</td>\n",
       "      <td>0.0</td>\n",
       "      <td>1.0</td>\n",
       "    </tr>\n",
       "    <tr>\n",
       "      <th>12141</th>\n",
       "      <td>0.333333</td>\n",
       "      <td>0.1875</td>\n",
       "      <td>0.50</td>\n",
       "      <td>0.17</td>\n",
       "      <td>0.33</td>\n",
       "      <td>0.266667</td>\n",
       "      <td>0.600000</td>\n",
       "      <td>0.28</td>\n",
       "      <td>0.24</td>\n",
       "      <td>0.714286</td>\n",
       "      <td>0.095238</td>\n",
       "      <td>0.321030</td>\n",
       "      <td>0.396760</td>\n",
       "      <td>0.598131</td>\n",
       "      <td>0.369369</td>\n",
       "      <td>0.023039</td>\n",
       "      <td>0.017205</td>\n",
       "      <td>0.0</td>\n",
       "      <td>1.0</td>\n",
       "    </tr>\n",
       "    <tr>\n",
       "      <th>12142</th>\n",
       "      <td>0.066667</td>\n",
       "      <td>0.1875</td>\n",
       "      <td>0.67</td>\n",
       "      <td>0.33</td>\n",
       "      <td>0.00</td>\n",
       "      <td>0.600000</td>\n",
       "      <td>0.533333</td>\n",
       "      <td>0.36</td>\n",
       "      <td>0.36</td>\n",
       "      <td>0.238095</td>\n",
       "      <td>0.285714</td>\n",
       "      <td>0.626037</td>\n",
       "      <td>0.514875</td>\n",
       "      <td>0.644860</td>\n",
       "      <td>0.630631</td>\n",
       "      <td>0.740646</td>\n",
       "      <td>0.198065</td>\n",
       "      <td>0.0</td>\n",
       "      <td>1.0</td>\n",
       "    </tr>\n",
       "    <tr>\n",
       "      <th>12143</th>\n",
       "      <td>0.133333</td>\n",
       "      <td>0.1250</td>\n",
       "      <td>0.33</td>\n",
       "      <td>0.50</td>\n",
       "      <td>0.17</td>\n",
       "      <td>0.666667</td>\n",
       "      <td>0.066667</td>\n",
       "      <td>0.32</td>\n",
       "      <td>0.12</td>\n",
       "      <td>0.238095</td>\n",
       "      <td>0.380952</td>\n",
       "      <td>0.476109</td>\n",
       "      <td>0.261561</td>\n",
       "      <td>0.551402</td>\n",
       "      <td>0.252252</td>\n",
       "      <td>0.040542</td>\n",
       "      <td>0.017205</td>\n",
       "      <td>1.0</td>\n",
       "      <td>0.0</td>\n",
       "    </tr>\n",
       "  </tbody>\n",
       "</table>\n",
       "<p>11611 rows × 19 columns</p>\n",
       "</div>"
      ],
      "text/plain": [
       "             0       1     2     3     4         5         6     7     8   \\\n",
       "0      0.133333  0.1250  0.17  0.33  0.50  0.200000  0.666667  0.20  0.20   \n",
       "1      0.000000  0.1875  1.00  0.00  0.00  0.600000  0.733333  0.16  0.40   \n",
       "2      0.333333  0.0625  0.33  0.00  0.67  0.466667  0.733333  0.36  0.32   \n",
       "3      0.133333  0.0625  0.17  0.17  0.67  0.266667  0.200000  0.04  0.16   \n",
       "4      0.133333  0.2500  0.33  0.00  0.67  0.266667  0.333333  0.24  0.24   \n",
       "...         ...     ...   ...   ...   ...       ...       ...   ...   ...   \n",
       "12139  0.066667  0.1875  0.00  0.17  0.83  0.200000  0.333333  0.08  0.28   \n",
       "12140  0.466667  0.1875  0.00  0.00  1.00  0.466667  0.000000  0.24  0.20   \n",
       "12141  0.333333  0.1875  0.50  0.17  0.33  0.266667  0.600000  0.28  0.24   \n",
       "12142  0.066667  0.1875  0.67  0.33  0.00  0.600000  0.533333  0.36  0.36   \n",
       "12143  0.133333  0.1250  0.33  0.50  0.17  0.666667  0.066667  0.32  0.12   \n",
       "\n",
       "             9         10        11        12        13        14        15  \\\n",
       "0      0.571429  0.142857  0.396567  0.358468  0.401869  0.333333  0.029731   \n",
       "1      0.190476  0.190476  0.818312  0.531959  0.616822  0.288288  0.648157   \n",
       "2      0.380952  0.047619  0.451502  0.444477  0.383178  0.504505  0.484799   \n",
       "3      0.238095  0.476190  0.426609  0.356701  0.345794  0.495495  0.029731   \n",
       "4      0.380952  0.190476  0.292418  0.440059  0.289720  0.459459  0.029731   \n",
       "...         ...       ...       ...       ...       ...       ...       ...   \n",
       "12139  0.285714  0.333333  0.372818  0.238586  0.635514  0.450450  0.017205   \n",
       "12140  0.238095  0.666667  0.278970  0.372607  0.420561  0.567568  0.017205   \n",
       "12141  0.714286  0.095238  0.321030  0.396760  0.598131  0.369369  0.023039   \n",
       "12142  0.238095  0.285714  0.626037  0.514875  0.644860  0.630631  0.740646   \n",
       "12143  0.238095  0.380952  0.476109  0.261561  0.551402  0.252252  0.040542   \n",
       "\n",
       "             16   18   19  \n",
       "0      0.029731  1.0  0.0  \n",
       "1      0.618986  1.0  0.0  \n",
       "2      0.484799  1.0  0.0  \n",
       "3      0.073488  1.0  0.0  \n",
       "4      0.158084  0.0  1.0  \n",
       "...         ...  ...  ...  \n",
       "12139  0.244739  0.0  1.0  \n",
       "12140  0.017205  0.0  1.0  \n",
       "12141  0.017205  0.0  1.0  \n",
       "12142  0.198065  0.0  1.0  \n",
       "12143  0.017205  1.0  0.0  \n",
       "\n",
       "[11611 rows x 19 columns]"
      ]
     },
     "execution_count": 153,
     "metadata": {},
     "output_type": "execute_result"
    }
   ],
   "source": [
    "X_train"
   ]
  },
  {
   "cell_type": "code",
   "execution_count": 154,
   "metadata": {},
   "outputs": [],
   "source": [
    "scaler = StandardScaler()"
   ]
  },
  {
   "cell_type": "code",
   "execution_count": 155,
   "metadata": {},
   "outputs": [
    {
     "data": {
      "text/plain": [
       "StandardScaler()"
      ]
     },
     "execution_count": 155,
     "metadata": {},
     "output_type": "execute_result"
    }
   ],
   "source": [
    "scaler.fit(X_train.values)"
   ]
  },
  {
   "cell_type": "code",
   "execution_count": 156,
   "metadata": {},
   "outputs": [],
   "source": [
    "X_train = scaler.transform(X_train.values)\n",
    "X_test = scaler.transform(X_test.values)"
   ]
  },
  {
   "cell_type": "code",
   "execution_count": 157,
   "metadata": {},
   "outputs": [
    {
     "data": {
      "text/plain": [
       "RandomForestClassifier(max_features=2, n_estimators=300)"
      ]
     },
     "execution_count": 157,
     "metadata": {},
     "output_type": "execute_result"
    }
   ],
   "source": [
    "rf = RandomForestClassifier(n_estimators=300, max_features=2)\n",
    "rf.fit(X_train, y_train)"
   ]
  },
  {
   "cell_type": "code",
   "execution_count": 158,
   "metadata": {},
   "outputs": [
    {
     "data": {
      "text/plain": [
       "array([1, 2, 1, ..., 2, 2, 2])"
      ]
     },
     "execution_count": 158,
     "metadata": {},
     "output_type": "execute_result"
    }
   ],
   "source": [
    "y_train+1"
   ]
  },
  {
   "cell_type": "code",
   "execution_count": 159,
   "metadata": {},
   "outputs": [
    {
     "data": {
      "text/plain": [
       "array([ 1,  1,  1,  1,  1, -1, -1, -1, -1,  1,  1, -1,  1,  1,  1,  1, -1,\n",
       "        0,  1,  1, -1,  1,  1,  1,  1,  1, -1,  1,  1,  1, -1, -1,  1, -1,\n",
       "        1,  1,  1,  1,  1, -1,  1,  1,  1,  1, -1,  1,  1,  1, -1, -1,  1,\n",
       "        1,  1, -1, -1, -1,  1,  0,  1, -1, -1,  1,  1, -1,  1,  1,  1, -1,\n",
       "        1,  1,  1, -1,  1, -1,  1,  1, -1,  1,  1,  1, -1,  1, -1,  1,  1,\n",
       "        1,  1, -1,  1,  1,  1,  1,  1,  1,  1,  1,  1,  0,  1, -1,  1,  1,\n",
       "        1,  1,  1, -1, -1,  1,  1,  1, -1,  1,  1,  1,  1,  1,  1,  1,  1,\n",
       "        1,  1, -1,  1,  1, -1,  1,  1,  1,  1, -1,  1,  1, -1, -1, -1,  1,\n",
       "        1,  1, -1,  1,  1,  1,  1,  1, -1,  1, -1,  1, -1,  1,  1,  1,  1,\n",
       "        1,  1, -1, -1, -1,  1,  1, -1,  1, -1,  1,  1, -1, -1,  0,  1,  0,\n",
       "        1,  0,  1,  1,  1, -1,  1,  1,  1,  1,  1, -1,  1,  1,  1, -1, -1,\n",
       "       -1,  1,  1,  1,  1,  1,  1,  1,  1, -1,  1,  1,  1, -1,  1, -1,  1,\n",
       "       -1,  1,  1,  1,  1,  1, -1,  1,  1,  1,  1,  1, -1,  1,  1,  1,  1,\n",
       "       -1, -1, -1,  1,  1,  1, -1,  1,  1,  1,  1,  1, -1,  1, -1,  0, -1,\n",
       "       -1,  1,  1,  1,  1,  1,  1,  1, -1, -1,  1, -1,  1,  1, -1,  1,  1,\n",
       "        1, -1,  1,  1, -1,  1, -1,  1,  1,  1,  1,  1,  1,  1, -1,  1, -1,\n",
       "        1,  1, -1,  1,  1,  0,  0,  1,  1, -1, -1,  1,  1,  1, -1,  1,  1,\n",
       "        1,  0,  1,  1,  0, -1, -1, -1,  0,  1,  1,  1,  1,  1,  1, -1,  1,\n",
       "        1,  1, -1,  1, -1,  1,  1,  1,  1, -1,  1,  1, -1,  1,  1, -1,  1,\n",
       "        1,  1,  1,  1, -1,  1,  1,  1, -1,  1,  1, -1,  1,  1,  1, -1,  1,\n",
       "        1,  1,  0,  1,  1,  1,  1,  1, -1,  1,  1,  1, -1, -1,  1, -1, -1,\n",
       "       -1,  1,  1,  1,  1,  1,  1,  1,  1,  0,  1, -1,  1, -1,  1, -1,  1,\n",
       "        1,  1,  1, -1,  1,  1,  1,  1,  1,  1,  1, -1,  1,  1, -1, -1, -1,\n",
       "        1, -1,  1, -1,  1,  1, -1,  1,  1,  1,  1,  1,  1,  1,  1,  1,  1,\n",
       "       -1,  1, -1,  1, -1,  1, -1,  1,  1, -1,  1,  1, -1,  1,  1,  1,  1,\n",
       "        1,  1,  1,  1,  1,  1, -1,  1, -1, -1,  1,  1, -1,  1, -1,  1,  1,\n",
       "        1,  1, -1,  1, -1, -1,  1, -1,  1,  1,  1,  1,  1, -1, -1,  1,  1,\n",
       "        1,  1,  1,  1, -1,  1,  1, -1, -1,  1,  1,  1, -1,  1,  1,  1,  1,\n",
       "       -1,  1,  1,  1, -1, -1,  1,  1,  1, -1, -1,  1,  1,  1, -1,  1,  1,\n",
       "        0,  1, -1,  1, -1,  1,  0,  1,  1, -1,  1, -1,  1,  1,  1,  1,  1,\n",
       "        0,  1,  1,  1,  1, -1,  1,  1, -1,  1, -1, -1, -1, -1,  1,  1,  1,\n",
       "        1,  0,  1, -1,  1, -1])"
      ]
     },
     "execution_count": 159,
     "metadata": {},
     "output_type": "execute_result"
    }
   ],
   "source": [
    "rf.predict(X_test)"
   ]
  },
  {
   "cell_type": "code",
   "execution_count": 160,
   "metadata": {},
   "outputs": [
    {
     "data": {
      "text/plain": [
       "0.5403377110694184"
      ]
     },
     "execution_count": 160,
     "metadata": {},
     "output_type": "execute_result"
    }
   ],
   "source": [
    "rf.score(X_test,y_test)"
   ]
  },
  {
   "cell_type": "code",
   "execution_count": 161,
   "metadata": {},
   "outputs": [],
   "source": [
    "scores = rf.feature_importances_"
   ]
  },
  {
   "cell_type": "code",
   "execution_count": 162,
   "metadata": {},
   "outputs": [
    {
     "data": {
      "text/html": [
       "<div>\n",
       "<style scoped>\n",
       "    .dataframe tbody tr th:only-of-type {\n",
       "        vertical-align: middle;\n",
       "    }\n",
       "\n",
       "    .dataframe tbody tr th {\n",
       "        vertical-align: top;\n",
       "    }\n",
       "\n",
       "    .dataframe thead th {\n",
       "        text-align: right;\n",
       "    }\n",
       "</style>\n",
       "<table border=\"1\" class=\"dataframe\">\n",
       "  <thead>\n",
       "    <tr style=\"text-align: right;\">\n",
       "      <th></th>\n",
       "      <th>0</th>\n",
       "      <th>1</th>\n",
       "      <th>2</th>\n",
       "      <th>3</th>\n",
       "      <th>4</th>\n",
       "      <th>5</th>\n",
       "      <th>6</th>\n",
       "      <th>7</th>\n",
       "      <th>8</th>\n",
       "      <th>9</th>\n",
       "      <th>10</th>\n",
       "      <th>11</th>\n",
       "      <th>12</th>\n",
       "      <th>13</th>\n",
       "      <th>14</th>\n",
       "      <th>15</th>\n",
       "      <th>16</th>\n",
       "      <th>18</th>\n",
       "      <th>19</th>\n",
       "    </tr>\n",
       "  </thead>\n",
       "  <tbody>\n",
       "    <tr>\n",
       "      <th>0</th>\n",
       "      <td>0.133333</td>\n",
       "      <td>0.1250</td>\n",
       "      <td>0.17</td>\n",
       "      <td>0.33</td>\n",
       "      <td>0.50</td>\n",
       "      <td>0.200000</td>\n",
       "      <td>0.666667</td>\n",
       "      <td>0.20</td>\n",
       "      <td>0.20</td>\n",
       "      <td>0.571429</td>\n",
       "      <td>0.142857</td>\n",
       "      <td>0.396567</td>\n",
       "      <td>0.358468</td>\n",
       "      <td>0.401869</td>\n",
       "      <td>0.333333</td>\n",
       "      <td>0.029731</td>\n",
       "      <td>0.029731</td>\n",
       "      <td>1.0</td>\n",
       "      <td>0.0</td>\n",
       "    </tr>\n",
       "    <tr>\n",
       "      <th>1</th>\n",
       "      <td>0.000000</td>\n",
       "      <td>0.1875</td>\n",
       "      <td>1.00</td>\n",
       "      <td>0.00</td>\n",
       "      <td>0.00</td>\n",
       "      <td>0.600000</td>\n",
       "      <td>0.733333</td>\n",
       "      <td>0.16</td>\n",
       "      <td>0.40</td>\n",
       "      <td>0.190476</td>\n",
       "      <td>0.190476</td>\n",
       "      <td>0.818312</td>\n",
       "      <td>0.531959</td>\n",
       "      <td>0.616822</td>\n",
       "      <td>0.288288</td>\n",
       "      <td>0.648157</td>\n",
       "      <td>0.618986</td>\n",
       "      <td>1.0</td>\n",
       "      <td>0.0</td>\n",
       "    </tr>\n",
       "    <tr>\n",
       "      <th>2</th>\n",
       "      <td>0.333333</td>\n",
       "      <td>0.0625</td>\n",
       "      <td>0.33</td>\n",
       "      <td>0.00</td>\n",
       "      <td>0.67</td>\n",
       "      <td>0.466667</td>\n",
       "      <td>0.733333</td>\n",
       "      <td>0.36</td>\n",
       "      <td>0.32</td>\n",
       "      <td>0.380952</td>\n",
       "      <td>0.047619</td>\n",
       "      <td>0.451502</td>\n",
       "      <td>0.444477</td>\n",
       "      <td>0.383178</td>\n",
       "      <td>0.504505</td>\n",
       "      <td>0.484799</td>\n",
       "      <td>0.484799</td>\n",
       "      <td>1.0</td>\n",
       "      <td>0.0</td>\n",
       "    </tr>\n",
       "    <tr>\n",
       "      <th>3</th>\n",
       "      <td>0.133333</td>\n",
       "      <td>0.0625</td>\n",
       "      <td>0.17</td>\n",
       "      <td>0.17</td>\n",
       "      <td>0.67</td>\n",
       "      <td>0.266667</td>\n",
       "      <td>0.200000</td>\n",
       "      <td>0.04</td>\n",
       "      <td>0.16</td>\n",
       "      <td>0.238095</td>\n",
       "      <td>0.476190</td>\n",
       "      <td>0.426609</td>\n",
       "      <td>0.356701</td>\n",
       "      <td>0.345794</td>\n",
       "      <td>0.495495</td>\n",
       "      <td>0.029731</td>\n",
       "      <td>0.073488</td>\n",
       "      <td>1.0</td>\n",
       "      <td>0.0</td>\n",
       "    </tr>\n",
       "    <tr>\n",
       "      <th>4</th>\n",
       "      <td>0.133333</td>\n",
       "      <td>0.2500</td>\n",
       "      <td>0.33</td>\n",
       "      <td>0.00</td>\n",
       "      <td>0.67</td>\n",
       "      <td>0.266667</td>\n",
       "      <td>0.333333</td>\n",
       "      <td>0.24</td>\n",
       "      <td>0.24</td>\n",
       "      <td>0.380952</td>\n",
       "      <td>0.190476</td>\n",
       "      <td>0.292418</td>\n",
       "      <td>0.440059</td>\n",
       "      <td>0.289720</td>\n",
       "      <td>0.459459</td>\n",
       "      <td>0.029731</td>\n",
       "      <td>0.158084</td>\n",
       "      <td>0.0</td>\n",
       "      <td>1.0</td>\n",
       "    </tr>\n",
       "  </tbody>\n",
       "</table>\n",
       "</div>"
      ],
      "text/plain": [
       "         0       1     2     3     4         5         6     7     8   \\\n",
       "0  0.133333  0.1250  0.17  0.33  0.50  0.200000  0.666667  0.20  0.20   \n",
       "1  0.000000  0.1875  1.00  0.00  0.00  0.600000  0.733333  0.16  0.40   \n",
       "2  0.333333  0.0625  0.33  0.00  0.67  0.466667  0.733333  0.36  0.32   \n",
       "3  0.133333  0.0625  0.17  0.17  0.67  0.266667  0.200000  0.04  0.16   \n",
       "4  0.133333  0.2500  0.33  0.00  0.67  0.266667  0.333333  0.24  0.24   \n",
       "\n",
       "         9         10        11        12        13        14        15  \\\n",
       "0  0.571429  0.142857  0.396567  0.358468  0.401869  0.333333  0.029731   \n",
       "1  0.190476  0.190476  0.818312  0.531959  0.616822  0.288288  0.648157   \n",
       "2  0.380952  0.047619  0.451502  0.444477  0.383178  0.504505  0.484799   \n",
       "3  0.238095  0.476190  0.426609  0.356701  0.345794  0.495495  0.029731   \n",
       "4  0.380952  0.190476  0.292418  0.440059  0.289720  0.459459  0.029731   \n",
       "\n",
       "         16   18   19  \n",
       "0  0.029731  1.0  0.0  \n",
       "1  0.618986  1.0  0.0  \n",
       "2  0.484799  1.0  0.0  \n",
       "3  0.073488  1.0  0.0  \n",
       "4  0.158084  0.0  1.0  "
      ]
     },
     "execution_count": 162,
     "metadata": {},
     "output_type": "execute_result"
    }
   ],
   "source": [
    "X.head()"
   ]
  },
  {
   "cell_type": "code",
   "execution_count": 163,
   "metadata": {},
   "outputs": [
    {
     "data": {
      "text/plain": [
       "array([0.0473986 , 0.04760634, 0.03757705, 0.03215182, 0.03976806,\n",
       "       0.05172301, 0.05150773, 0.05177823, 0.05278748, 0.05154008,\n",
       "       0.05135677, 0.07955497, 0.08225134, 0.0699485 , 0.07098633,\n",
       "       0.08192445, 0.08145205, 0.0093881 , 0.00929911])"
      ]
     },
     "execution_count": 163,
     "metadata": {},
     "output_type": "execute_result"
    }
   ],
   "source": [
    "scores"
   ]
  },
  {
   "cell_type": "code",
   "execution_count": 58,
   "metadata": {},
   "outputs": [
    {
     "data": {
      "text/plain": [
       "RangeIndex(start=0, stop=20, step=1)"
      ]
     },
     "execution_count": 58,
     "metadata": {},
     "output_type": "execute_result"
    }
   ],
   "source": [
    "['day','home_missing_player','away_missing_player','matchup_home_wins','matchup_draw',\n",
    "    'matchup_away_wins', 'home_last_5_points', 'away_last_5_points', 'home_last_5_goals',\n",
    "   'away_last_5_goals', 'home_last_5_conceded','away_last_5_conceded','home_last_5_passes',\n",
    "   'away_last_5_passes', 'home_last_5_shot', 'away_last_5_shot','home_uefa','away_uefa','result']"
   ]
  },
  {
   "cell_type": "code",
   "execution_count": 45,
   "metadata": {},
   "outputs": [
    {
     "data": {
      "text/plain": [
       "(8332, 3)"
      ]
     },
     "execution_count": 45,
     "metadata": {},
     "output_type": "execute_result"
    }
   ],
   "source": [
    "(pd.get_dummies(y_train)).shape"
   ]
  },
  {
   "cell_type": "code",
   "execution_count": 46,
   "metadata": {},
   "outputs": [],
   "source": [
    "dtrain = xgb.DMatrix(data=X_train, label = y_train+1)\n",
    "dtest = xgb.DMatrix(data=X_test, label = y_test+1)"
   ]
  },
  {
   "cell_type": "code",
   "execution_count": 590,
   "metadata": {},
   "outputs": [],
   "source": [
    "params = {'n_estimators' : 200,\n",
    "          'subsample' : 0.5,\n",
    "          'colsample_bytree' : 0.5,\n",
    "          'num_class' : 3,\n",
    "         'objective' : 'multi:softprob',\n",
    "         'eval_metric' : 'mlogloss',\n",
    "         'early_stoppings' : 100 }\n",
    "\n",
    "num_rounds = 10"
   ]
  },
  {
   "cell_type": "code",
   "execution_count": 591,
   "metadata": {},
   "outputs": [
    {
     "name": "stdout",
     "output_type": "stream",
     "text": [
      "[15:35:52] WARNING: C:/Users/Administrator/workspace/xgboost-win64_release_1.3.0/src/learner.cc:541: \n",
      "Parameters: { early_stoppings, n_estimators } might not be used.\n",
      "\n",
      "  This may not be accurate due to some parameters are only used in language bindings but\n",
      "  passed down to XGBoost core.  Or some parameters are not used but slip through this\n",
      "  verification. Please open an issue if you find above cases.\n",
      "\n",
      "\n",
      "[0]\ttrain-mlogloss:1.04042\teval-mlogloss:1.05583\n",
      "[1]\ttrain-mlogloss:1.00311\teval-mlogloss:1.03384\n",
      "[2]\ttrain-mlogloss:0.97396\teval-mlogloss:1.01851\n",
      "[3]\ttrain-mlogloss:0.95132\teval-mlogloss:1.01088\n",
      "[4]\ttrain-mlogloss:0.93511\teval-mlogloss:1.00512\n",
      "[5]\ttrain-mlogloss:0.92320\teval-mlogloss:1.00240\n",
      "[6]\ttrain-mlogloss:0.91204\teval-mlogloss:1.00112\n",
      "[7]\ttrain-mlogloss:0.90179\teval-mlogloss:1.00011\n",
      "[8]\ttrain-mlogloss:0.89257\teval-mlogloss:1.00035\n",
      "[9]\ttrain-mlogloss:0.88341\teval-mlogloss:0.99960\n"
     ]
    }
   ],
   "source": [
    "wlist = [(dtrain, 'train'), (dtest,'eval')]\n",
    "xgb_model = xgb.train(params = params, dtrain=dtrain, num_boost_round=num_rounds, evals=wlist)"
   ]
  },
  {
   "cell_type": "code",
   "execution_count": 592,
   "metadata": {},
   "outputs": [],
   "source": [
    "pred_probs = xgb_model.predict(dtest)"
   ]
  },
  {
   "cell_type": "code",
   "execution_count": 593,
   "metadata": {},
   "outputs": [],
   "source": [
    "y_pred = np.argmax(pred_probs, axis=1)"
   ]
  },
  {
   "cell_type": "code",
   "execution_count": 594,
   "metadata": {},
   "outputs": [],
   "source": [
    "def get_clf_eval(y_test, y_pred):\n",
    "    confusion = confusion_matrix(y_test, y_pred)\n",
    "    accuracy = accuracy_score(y_test, y_pred)\n",
    "\n",
    "    print('오차행렬:\\n', confusion)\n",
    "    print('\\n정확도: {:.4f}'.format(accuracy))"
   ]
  },
  {
   "cell_type": "code",
   "execution_count": 595,
   "metadata": {},
   "outputs": [
    {
     "name": "stdout",
     "output_type": "stream",
     "text": [
      "오차행렬:\n",
      " [[ 448   25  509]\n",
      " [ 200   30  611]\n",
      " [ 236   39 1277]]\n",
      "\n",
      "정확도: 0.5200\n"
     ]
    }
   ],
   "source": [
    "get_clf_eval(y_test+1,y_pred)"
   ]
  },
  {
   "cell_type": "code",
   "execution_count": null,
   "metadata": {},
   "outputs": [],
   "source": []
  }
 ],
 "metadata": {
  "kernelspec": {
   "display_name": "Python 3",
   "language": "python",
   "name": "python3"
  },
  "language_info": {
   "codemirror_mode": {
    "name": "ipython",
    "version": 3
   },
   "file_extension": ".py",
   "mimetype": "text/x-python",
   "name": "python",
   "nbconvert_exporter": "python",
   "pygments_lexer": "ipython3",
   "version": "3.8.5"
  }
 },
 "nbformat": 4,
 "nbformat_minor": 4
}
