{
 "cells": [
  {
   "cell_type": "code",
   "execution_count": 53,
   "metadata": {},
   "outputs": [],
   "source": [
    "import numpy as np\n",
    "import pandas as pd\n",
    "import matplotlib.pyplot as plt\n",
    "import time\n",
    "import os\n",
    "import random\n",
    "from sklearn import preprocessing\n",
    "from sklearn.model_selection import train_test_split\n",
    "from sklearn.preprocessing import StandardScaler\n",
    "from sklearn import linear_model\n",
    "from sklearn import metrics\n",
    "from sklearn.metrics import confusion_matrix, accuracy_score, precision_score, recall_score\n",
    "from sklearn.metrics import confusion_matrix, f1_score, roc_auc_score\n",
    "from sklearn.neural_network import MLPClassifier\n",
    "from sklearn.ensemble import RandomForestClassifier\n",
    "import xgboost as xgb\n",
    "from xgboost import plot_importance\n",
    "from sklearn import svm\n",
    "from sklearn.naive_bayes import GaussianNB, MultinomialNB"
   ]
  },
  {
   "cell_type": "code",
   "execution_count": null,
   "metadata": {},
   "outputs": [],
   "source": [
    "path = os.getcwd()"
   ]
  },
  {
   "cell_type": "code",
   "execution_count": 4,
   "metadata": {},
   "outputs": [],
   "source": [
    "train_PL = pd.read_csv('PL_preprocessed.csv')\n",
    "train_LIGA = pd.read_csv('LIGA_preprocessed.csv')\n",
    "train_SE = pd.read_csv('SE_preprocessed.csv')\n",
    "train_BL = pd.read_csv('BL_preprocessed.csv')\n",
    "test_PL = pd.read_csv('PL_test_pp.csv')\n",
    "test_LIGA = pd.read_csv('LIGA_test_pp.csv')\n",
    "test_SE = pd.read_csv('SE_test_pp.csv')\n",
    "test_BL = pd.read_csv('BL_test_pp.csv')"
   ]
  },
  {
   "cell_type": "code",
   "execution_count": 5,
   "metadata": {},
   "outputs": [],
   "source": [
    "train_df = pd.concat([train_PL, train_LIGA, train_SE, train_BL], axis=0)\n",
    "test_df = pd.concat([test_PL, test_LIGA, test_SE, test_BL], axis=0)"
   ]
  },
  {
   "cell_type": "code",
   "execution_count": 6,
   "metadata": {},
   "outputs": [
    {
     "data": {
      "text/plain": [
       "Index(['season', 'home', 'away', 'full_home_score', 'full_away_score',\n",
       "       'result', 'home_team', 'P_h', 'W_h', 'D_h', 'L_h', 'GF_h', 'GA_h',\n",
       "       'GD_h', 'Pts_h', 'raised_h', 'home_bs', 'away_bs', 'h_skill', 'HA',\n",
       "       'away_team', 'P_a', 'W_a', 'D_a', 'L_a', 'GF_a', 'GA_a', 'GD_a',\n",
       "       'Pts_a', 'raised_a', 'a_skill', 'home_team_fixed', 'home_bs_fixed',\n",
       "       'away_bs_fixed', 'h_skill_fixed', 'HA_fixed', 'away_team_fixed',\n",
       "       'a_skill_fixed'],\n",
       "      dtype='object')"
      ]
     },
     "execution_count": 6,
     "metadata": {},
     "output_type": "execute_result"
    }
   ],
   "source": [
    "train_df.columns"
   ]
  },
  {
   "cell_type": "markdown",
   "metadata": {},
   "source": [
    "### Train/test set"
   ]
  },
  {
   "cell_type": "code",
   "execution_count": 7,
   "metadata": {},
   "outputs": [],
   "source": [
    "# set1 : 이전 시즌의 팀별 스텟\n",
    "# set2 : 동일한 HA 적용한 model에서 얻은 parameter 추가\n",
    "# set3 : 코로나 이후 변화한 HA 를 적용한 model에서 얻은 parameter 추가\n",
    "set1 = ['W_h', 'D_h', 'L_h', 'GF_h', 'GA_h', 'GD_h', 'Pts_h', 'raised_h',\n",
    "        'W_a', 'D_a', 'L_a', 'GF_a', 'GA_a', 'GD_a', 'Pts_h', 'raised_a']\n",
    "set2 = set1 + ['home_bs_fixed', 'away_bs_fixed', 'h_skill_fixed', 'a_skill_fixed', 'HA_fixed']\n",
    "set3 = set1 + ['home_bs', 'away_bs', 'h_skill', 'a_skill', 'HA']"
   ]
  },
  {
   "cell_type": "code",
   "execution_count": 70,
   "metadata": {},
   "outputs": [],
   "source": [
    "train_x_1, train_y_1 = train_df[set1], train_df['result']\n",
    "X_test_1, y_test_1 = test_df[set1], test_df['result']\n",
    "train_x_2, train_y_2 = train_df[set2], train_df['result']\n",
    "X_test_2, y_test_2 = test_df[set2], test_df['result']\n",
    "train_x_3, train_y_3 = train_df[set3], train_df['result']\n",
    "X_test_3, y_test_3 = test_df[set3], test_df['result']"
   ]
  },
  {
   "cell_type": "code",
   "execution_count": 9,
   "metadata": {},
   "outputs": [
    {
     "data": {
      "text/html": [
       "<div>\n",
       "<style scoped>\n",
       "    .dataframe tbody tr th:only-of-type {\n",
       "        vertical-align: middle;\n",
       "    }\n",
       "\n",
       "    .dataframe tbody tr th {\n",
       "        vertical-align: top;\n",
       "    }\n",
       "\n",
       "    .dataframe thead th {\n",
       "        text-align: right;\n",
       "    }\n",
       "</style>\n",
       "<table border=\"1\" class=\"dataframe\">\n",
       "  <thead>\n",
       "    <tr style=\"text-align: right;\">\n",
       "      <th></th>\n",
       "      <th>W_h</th>\n",
       "      <th>D_h</th>\n",
       "      <th>L_h</th>\n",
       "      <th>GF_h</th>\n",
       "      <th>GA_h</th>\n",
       "      <th>GD_h</th>\n",
       "      <th>Pts_h</th>\n",
       "      <th>raised_h</th>\n",
       "      <th>W_a</th>\n",
       "      <th>D_a</th>\n",
       "      <th>...</th>\n",
       "      <th>GF_a</th>\n",
       "      <th>GA_a</th>\n",
       "      <th>GD_a</th>\n",
       "      <th>Pts_h</th>\n",
       "      <th>raised_a</th>\n",
       "      <th>home_bs</th>\n",
       "      <th>away_bs</th>\n",
       "      <th>h_skill</th>\n",
       "      <th>a_skill</th>\n",
       "      <th>HA</th>\n",
       "    </tr>\n",
       "  </thead>\n",
       "  <tbody>\n",
       "    <tr>\n",
       "      <th>0</th>\n",
       "      <td>13</td>\n",
       "      <td>8</td>\n",
       "      <td>17</td>\n",
       "      <td>45</td>\n",
       "      <td>52</td>\n",
       "      <td>-7</td>\n",
       "      <td>47</td>\n",
       "      <td>0</td>\n",
       "      <td>14</td>\n",
       "      <td>10</td>\n",
       "      <td>...</td>\n",
       "      <td>47</td>\n",
       "      <td>40</td>\n",
       "      <td>7</td>\n",
       "      <td>47</td>\n",
       "      <td>0</td>\n",
       "      <td>0.409582</td>\n",
       "      <td>0.141514</td>\n",
       "      <td>-0.391699</td>\n",
       "      <td>0.000000</td>\n",
       "      <td>0.354171</td>\n",
       "    </tr>\n",
       "    <tr>\n",
       "      <th>1</th>\n",
       "      <td>21</td>\n",
       "      <td>7</td>\n",
       "      <td>10</td>\n",
       "      <td>74</td>\n",
       "      <td>49</td>\n",
       "      <td>25</td>\n",
       "      <td>70</td>\n",
       "      <td>0</td>\n",
       "      <td>11</td>\n",
       "      <td>12</td>\n",
       "      <td>...</td>\n",
       "      <td>45</td>\n",
       "      <td>46</td>\n",
       "      <td>-1</td>\n",
       "      <td>70</td>\n",
       "      <td>0</td>\n",
       "      <td>0.409582</td>\n",
       "      <td>0.141514</td>\n",
       "      <td>-0.086634</td>\n",
       "      <td>-0.398331</td>\n",
       "      <td>0.354171</td>\n",
       "    </tr>\n",
       "    <tr>\n",
       "      <th>2</th>\n",
       "      <td>10</td>\n",
       "      <td>7</td>\n",
       "      <td>21</td>\n",
       "      <td>43</td>\n",
       "      <td>66</td>\n",
       "      <td>-23</td>\n",
       "      <td>37</td>\n",
       "      <td>0</td>\n",
       "      <td>12</td>\n",
       "      <td>11</td>\n",
       "      <td>...</td>\n",
       "      <td>44</td>\n",
       "      <td>51</td>\n",
       "      <td>-7</td>\n",
       "      <td>37</td>\n",
       "      <td>0</td>\n",
       "      <td>0.409582</td>\n",
       "      <td>0.141514</td>\n",
       "      <td>-0.537188</td>\n",
       "      <td>-0.370428</td>\n",
       "      <td>0.354171</td>\n",
       "    </tr>\n",
       "    <tr>\n",
       "      <th>3</th>\n",
       "      <td>14</td>\n",
       "      <td>10</td>\n",
       "      <td>14</td>\n",
       "      <td>48</td>\n",
       "      <td>51</td>\n",
       "      <td>-3</td>\n",
       "      <td>52</td>\n",
       "      <td>0</td>\n",
       "      <td>12</td>\n",
       "      <td>11</td>\n",
       "      <td>...</td>\n",
       "      <td>52</td>\n",
       "      <td>66</td>\n",
       "      <td>-14</td>\n",
       "      <td>52</td>\n",
       "      <td>0</td>\n",
       "      <td>0.409582</td>\n",
       "      <td>0.141514</td>\n",
       "      <td>-0.438315</td>\n",
       "      <td>-0.482256</td>\n",
       "      <td>0.354171</td>\n",
       "    </tr>\n",
       "    <tr>\n",
       "      <th>4</th>\n",
       "      <td>19</td>\n",
       "      <td>8</td>\n",
       "      <td>11</td>\n",
       "      <td>56</td>\n",
       "      <td>51</td>\n",
       "      <td>5</td>\n",
       "      <td>65</td>\n",
       "      <td>0</td>\n",
       "      <td>20</td>\n",
       "      <td>9</td>\n",
       "      <td>...</td>\n",
       "      <td>66</td>\n",
       "      <td>41</td>\n",
       "      <td>25</td>\n",
       "      <td>65</td>\n",
       "      <td>0</td>\n",
       "      <td>0.409582</td>\n",
       "      <td>0.141514</td>\n",
       "      <td>-0.388565</td>\n",
       "      <td>-0.148938</td>\n",
       "      <td>0.354171</td>\n",
       "    </tr>\n",
       "    <tr>\n",
       "      <th>...</th>\n",
       "      <td>...</td>\n",
       "      <td>...</td>\n",
       "      <td>...</td>\n",
       "      <td>...</td>\n",
       "      <td>...</td>\n",
       "      <td>...</td>\n",
       "      <td>...</td>\n",
       "      <td>...</td>\n",
       "      <td>...</td>\n",
       "      <td>...</td>\n",
       "      <td>...</td>\n",
       "      <td>...</td>\n",
       "      <td>...</td>\n",
       "      <td>...</td>\n",
       "      <td>...</td>\n",
       "      <td>...</td>\n",
       "      <td>...</td>\n",
       "      <td>...</td>\n",
       "      <td>...</td>\n",
       "      <td>...</td>\n",
       "      <td>...</td>\n",
       "    </tr>\n",
       "    <tr>\n",
       "      <th>2361</th>\n",
       "      <td>16</td>\n",
       "      <td>7</td>\n",
       "      <td>11</td>\n",
       "      <td>62</td>\n",
       "      <td>50</td>\n",
       "      <td>12</td>\n",
       "      <td>55</td>\n",
       "      <td>0</td>\n",
       "      <td>19</td>\n",
       "      <td>9</td>\n",
       "      <td>...</td>\n",
       "      <td>63</td>\n",
       "      <td>29</td>\n",
       "      <td>34</td>\n",
       "      <td>55</td>\n",
       "      <td>0</td>\n",
       "      <td>0.530207</td>\n",
       "      <td>0.275442</td>\n",
       "      <td>-0.269599</td>\n",
       "      <td>-0.050384</td>\n",
       "      <td>0.382172</td>\n",
       "    </tr>\n",
       "    <tr>\n",
       "      <th>2362</th>\n",
       "      <td>16</td>\n",
       "      <td>7</td>\n",
       "      <td>11</td>\n",
       "      <td>55</td>\n",
       "      <td>42</td>\n",
       "      <td>13</td>\n",
       "      <td>55</td>\n",
       "      <td>0</td>\n",
       "      <td>23</td>\n",
       "      <td>7</td>\n",
       "      <td>...</td>\n",
       "      <td>81</td>\n",
       "      <td>44</td>\n",
       "      <td>37</td>\n",
       "      <td>55</td>\n",
       "      <td>0</td>\n",
       "      <td>0.530207</td>\n",
       "      <td>0.275442</td>\n",
       "      <td>-0.212703</td>\n",
       "      <td>0.000000</td>\n",
       "      <td>0.382172</td>\n",
       "    </tr>\n",
       "    <tr>\n",
       "      <th>2363</th>\n",
       "      <td>12</td>\n",
       "      <td>7</td>\n",
       "      <td>15</td>\n",
       "      <td>46</td>\n",
       "      <td>57</td>\n",
       "      <td>-11</td>\n",
       "      <td>43</td>\n",
       "      <td>0</td>\n",
       "      <td>13</td>\n",
       "      <td>5</td>\n",
       "      <td>...</td>\n",
       "      <td>49</td>\n",
       "      <td>65</td>\n",
       "      <td>-16</td>\n",
       "      <td>43</td>\n",
       "      <td>0</td>\n",
       "      <td>0.530207</td>\n",
       "      <td>0.275442</td>\n",
       "      <td>-0.432233</td>\n",
       "      <td>-0.506149</td>\n",
       "      <td>0.382172</td>\n",
       "    </tr>\n",
       "    <tr>\n",
       "      <th>2364</th>\n",
       "      <td>24</td>\n",
       "      <td>6</td>\n",
       "      <td>4</td>\n",
       "      <td>88</td>\n",
       "      <td>32</td>\n",
       "      <td>56</td>\n",
       "      <td>78</td>\n",
       "      <td>0</td>\n",
       "      <td>8</td>\n",
       "      <td>8</td>\n",
       "      <td>...</td>\n",
       "      <td>51</td>\n",
       "      <td>71</td>\n",
       "      <td>-20</td>\n",
       "      <td>78</td>\n",
       "      <td>0</td>\n",
       "      <td>0.530207</td>\n",
       "      <td>0.275442</td>\n",
       "      <td>0.230830</td>\n",
       "      <td>-0.448249</td>\n",
       "      <td>0.382172</td>\n",
       "    </tr>\n",
       "    <tr>\n",
       "      <th>2365</th>\n",
       "      <td>16</td>\n",
       "      <td>7</td>\n",
       "      <td>11</td>\n",
       "      <td>55</td>\n",
       "      <td>42</td>\n",
       "      <td>13</td>\n",
       "      <td>55</td>\n",
       "      <td>0</td>\n",
       "      <td>19</td>\n",
       "      <td>6</td>\n",
       "      <td>...</td>\n",
       "      <td>84</td>\n",
       "      <td>47</td>\n",
       "      <td>37</td>\n",
       "      <td>55</td>\n",
       "      <td>1</td>\n",
       "      <td>0.530207</td>\n",
       "      <td>0.275442</td>\n",
       "      <td>-0.212703</td>\n",
       "      <td>-0.478724</td>\n",
       "      <td>0.382172</td>\n",
       "    </tr>\n",
       "  </tbody>\n",
       "</table>\n",
       "<p>10796 rows × 21 columns</p>\n",
       "</div>"
      ],
      "text/plain": [
       "      W_h  D_h  L_h  GF_h  GA_h  GD_h  Pts_h  raised_h  W_a  D_a  ...  GF_a  \\\n",
       "0      13    8   17    45    52    -7     47         0   14   10  ...    47   \n",
       "1      21    7   10    74    49    25     70         0   11   12  ...    45   \n",
       "2      10    7   21    43    66   -23     37         0   12   11  ...    44   \n",
       "3      14   10   14    48    51    -3     52         0   12   11  ...    52   \n",
       "4      19    8   11    56    51     5     65         0   20    9  ...    66   \n",
       "...   ...  ...  ...   ...   ...   ...    ...       ...  ...  ...  ...   ...   \n",
       "2361   16    7   11    62    50    12     55         0   19    9  ...    63   \n",
       "2362   16    7   11    55    42    13     55         0   23    7  ...    81   \n",
       "2363   12    7   15    46    57   -11     43         0   13    5  ...    49   \n",
       "2364   24    6    4    88    32    56     78         0    8    8  ...    51   \n",
       "2365   16    7   11    55    42    13     55         0   19    6  ...    84   \n",
       "\n",
       "      GA_a  GD_a  Pts_h  raised_a   home_bs   away_bs   h_skill   a_skill  \\\n",
       "0       40     7     47         0  0.409582  0.141514 -0.391699  0.000000   \n",
       "1       46    -1     70         0  0.409582  0.141514 -0.086634 -0.398331   \n",
       "2       51    -7     37         0  0.409582  0.141514 -0.537188 -0.370428   \n",
       "3       66   -14     52         0  0.409582  0.141514 -0.438315 -0.482256   \n",
       "4       41    25     65         0  0.409582  0.141514 -0.388565 -0.148938   \n",
       "...    ...   ...    ...       ...       ...       ...       ...       ...   \n",
       "2361    29    34     55         0  0.530207  0.275442 -0.269599 -0.050384   \n",
       "2362    44    37     55         0  0.530207  0.275442 -0.212703  0.000000   \n",
       "2363    65   -16     43         0  0.530207  0.275442 -0.432233 -0.506149   \n",
       "2364    71   -20     78         0  0.530207  0.275442  0.230830 -0.448249   \n",
       "2365    47    37     55         1  0.530207  0.275442 -0.212703 -0.478724   \n",
       "\n",
       "            HA  \n",
       "0     0.354171  \n",
       "1     0.354171  \n",
       "2     0.354171  \n",
       "3     0.354171  \n",
       "4     0.354171  \n",
       "...        ...  \n",
       "2361  0.382172  \n",
       "2362  0.382172  \n",
       "2363  0.382172  \n",
       "2364  0.382172  \n",
       "2365  0.382172  \n",
       "\n",
       "[10796 rows x 21 columns]"
      ]
     },
     "execution_count": 9,
     "metadata": {},
     "output_type": "execute_result"
    }
   ],
   "source": [
    "train_x"
   ]
  },
  {
   "cell_type": "code",
   "execution_count": 10,
   "metadata": {},
   "outputs": [],
   "source": [
    "X_train, X_val, y_train, y_val = train_test_split(train_x, train_y, test_size = 0.3, random_state=1)"
   ]
  },
  {
   "cell_type": "markdown",
   "metadata": {},
   "source": [
    "### logistic Regression"
   ]
  },
  {
   "cell_type": "code",
   "execution_count": 71,
   "metadata": {},
   "outputs": [
    {
     "data": {
      "text/plain": [
       "0.5062326869806094"
      ]
     },
     "execution_count": 71,
     "metadata": {},
     "output_type": "execute_result"
    }
   ],
   "source": [
    "lm = linear_model.LogisticRegression(multi_class='ovr', solver='liblinear', C=10)\n",
    "lm.fit(train_x_1, train_y_1)\n",
    "lm.score(X_test_1, y_test_1)"
   ]
  },
  {
   "cell_type": "code",
   "execution_count": 72,
   "metadata": {},
   "outputs": [
    {
     "data": {
      "text/plain": [
       "0.5408587257617729"
      ]
     },
     "execution_count": 72,
     "metadata": {},
     "output_type": "execute_result"
    }
   ],
   "source": [
    "lm = linear_model.LogisticRegression(multi_class='ovr', solver='liblinear', C=10)\n",
    "lm.fit(train_x_2, train_y_2)\n",
    "lm.score(X_test_2, y_test_2)"
   ]
  },
  {
   "cell_type": "code",
   "execution_count": 73,
   "metadata": {},
   "outputs": [
    {
     "data": {
      "text/plain": [
       "0.5470914127423823"
      ]
     },
     "execution_count": 73,
     "metadata": {},
     "output_type": "execute_result"
    }
   ],
   "source": [
    "lm = linear_model.LogisticRegression(multi_class='ovr', solver='liblinear', C=10)\n",
    "lm.fit(train_x_3, train_y_3)\n",
    "lm.score(X_test_3, y_test_3)"
   ]
  },
  {
   "cell_type": "markdown",
   "metadata": {},
   "source": [
    "## MLP"
   ]
  },
  {
   "cell_type": "code",
   "execution_count": 294,
   "metadata": {},
   "outputs": [],
   "source": [
    "train_x, train_y = train_df[set3], train_df['result']\n",
    "X_test, y_test = test_df[set3], test_df['result']"
   ]
  },
  {
   "cell_type": "code",
   "execution_count": 78,
   "metadata": {
    "scrolled": true
   },
   "outputs": [],
   "source": [
    "scaler1 = StandardScaler()\n",
    "scaler2 = StandardScaler()\n",
    "scaler3 = StandardScaler()\n",
    "scaler1.fit(pd.concat([train_x_1, X_test_1], axis=0).values)\n",
    "scaler2.fit(pd.concat([train_x_2, X_test_2], axis=0).values)\n",
    "scaler3.fit(pd.concat([train_x_3, X_test_3], axis=0).values)\n",
    "train_x_no_1 = scaler1.transform(train_x_1.values)\n",
    "train_x_no_2 = scaler2.transform(train_x_2.values)\n",
    "train_x_no_3 = scaler3.transform(train_x_3.values)\n",
    "X_test_no_1 = scaler1.transform(X_test_1.values)\n",
    "X_test_no_2 = scaler2.transform(X_test_2.values)\n",
    "X_test_no_3 = scaler3.transform(X_test_3.values)"
   ]
  },
  {
   "cell_type": "code",
   "execution_count": 79,
   "metadata": {},
   "outputs": [],
   "source": [
    "clf = MLPClassifier(solver='lbfgs', alpha=1e-2,\n",
    "                     hidden_layer_sizes=(8), random_state=1, max_iter = 1000)"
   ]
  },
  {
   "cell_type": "code",
   "execution_count": 87,
   "metadata": {
    "scrolled": true
   },
   "outputs": [
    {
     "data": {
      "text/plain": [
       "0.4979224376731302"
      ]
     },
     "execution_count": 87,
     "metadata": {},
     "output_type": "execute_result"
    }
   ],
   "source": [
    "clf.fit(train_x_no_1, train_y)\n",
    "clf.score(X_test_no_1, y_test)"
   ]
  },
  {
   "cell_type": "code",
   "execution_count": 91,
   "metadata": {
    "scrolled": true
   },
   "outputs": [
    {
     "name": "stderr",
     "output_type": "stream",
     "text": [
      "C:\\Users\\jaemini_man\\anaconda3\\lib\\site-packages\\sklearn\\neural_network\\_multilayer_perceptron.py:471: ConvergenceWarning: lbfgs failed to converge (status=1):\n",
      "STOP: TOTAL NO. of ITERATIONS REACHED LIMIT.\n",
      "\n",
      "Increase the number of iterations (max_iter) or scale the data as shown in:\n",
      "    https://scikit-learn.org/stable/modules/preprocessing.html\n",
      "  self.n_iter_ = _check_optimize_result(\"lbfgs\", opt_res, self.max_iter)\n"
     ]
    },
    {
     "data": {
      "text/plain": [
       "0.5380886426592798"
      ]
     },
     "execution_count": 91,
     "metadata": {},
     "output_type": "execute_result"
    }
   ],
   "source": [
    "clf.fit(train_x_no_2, train_y)\n",
    "clf.score(X_test_no_2, y_test)"
   ]
  },
  {
   "cell_type": "code",
   "execution_count": 95,
   "metadata": {
    "scrolled": true
   },
   "outputs": [
    {
     "data": {
      "text/plain": [
       "0.5380886426592798"
      ]
     },
     "execution_count": 95,
     "metadata": {},
     "output_type": "execute_result"
    }
   ],
   "source": [
    "clf.fit(train_x_no_3, train_y)\n",
    "clf.score(X_test_no_3, y_test)"
   ]
  },
  {
   "cell_type": "code",
   "execution_count": 96,
   "metadata": {},
   "outputs": [],
   "source": [
    "#################### RANDOM FOREST CLASSIFIER\n",
    "####################"
   ]
  },
  {
   "cell_type": "code",
   "execution_count": 101,
   "metadata": {},
   "outputs": [],
   "source": [
    "rf = RandomForestClassifier(n_estimators=100, max_features=5)"
   ]
  },
  {
   "cell_type": "code",
   "execution_count": 102,
   "metadata": {},
   "outputs": [
    {
     "data": {
      "text/plain": [
       "0.46883656509695293"
      ]
     },
     "execution_count": 102,
     "metadata": {},
     "output_type": "execute_result"
    }
   ],
   "source": [
    "rf.fit(train_x_1, train_y)\n",
    "rf.score(X_test_1,y_test)"
   ]
  },
  {
   "cell_type": "code",
   "execution_count": 103,
   "metadata": {},
   "outputs": [
    {
     "data": {
      "text/plain": [
       "0.5117728531855956"
      ]
     },
     "execution_count": 103,
     "metadata": {},
     "output_type": "execute_result"
    }
   ],
   "source": [
    "rf.fit(train_x_2, train_y)\n",
    "rf.score(X_test_2, y_test)"
   ]
  },
  {
   "cell_type": "code",
   "execution_count": 104,
   "metadata": {},
   "outputs": [
    {
     "data": {
      "text/plain": [
       "0.5020775623268698"
      ]
     },
     "execution_count": 104,
     "metadata": {},
     "output_type": "execute_result"
    }
   ],
   "source": [
    "rf.fit(train_x_3, train_y)\n",
    "rf.score(X_test_3, y_test)"
   ]
  },
  {
   "cell_type": "code",
   "execution_count": 356,
   "metadata": {},
   "outputs": [],
   "source": [
    "################### SVM 까지 비교 score 예측\n",
    "###################"
   ]
  },
  {
   "cell_type": "code",
   "execution_count": 115,
   "metadata": {},
   "outputs": [],
   "source": [
    "clf = svm.SVC(kernel='linear', verbose = 1, tol = 1e-4, random_state=1)"
   ]
  },
  {
   "cell_type": "code",
   "execution_count": 116,
   "metadata": {},
   "outputs": [
    {
     "name": "stdout",
     "output_type": "stream",
     "text": [
      "[LibSVM]"
     ]
    },
    {
     "data": {
      "text/plain": [
       "0.4951523545706371"
      ]
     },
     "execution_count": 116,
     "metadata": {},
     "output_type": "execute_result"
    }
   ],
   "source": [
    "clf.fit(train_x_1, train_y)\n",
    "clf.score(X_test_1,y_test)"
   ]
  },
  {
   "cell_type": "code",
   "execution_count": 117,
   "metadata": {},
   "outputs": [
    {
     "name": "stdout",
     "output_type": "stream",
     "text": [
      "[LibSVM]"
     ]
    },
    {
     "data": {
      "text/plain": [
       "0.5367036011080333"
      ]
     },
     "execution_count": 117,
     "metadata": {},
     "output_type": "execute_result"
    }
   ],
   "source": [
    "clf.fit(train_x_2, train_y)\n",
    "clf.score(X_test_2,y_test)"
   ]
  },
  {
   "cell_type": "code",
   "execution_count": null,
   "metadata": {},
   "outputs": [
    {
     "name": "stdout",
     "output_type": "stream",
     "text": [
      "[LibSVM]"
     ]
    }
   ],
   "source": [
    "clf.fit(train_x_3, train_y)\n",
    "clf.score(X_test_3,y_test)"
   ]
  },
  {
   "cell_type": "code",
   "execution_count": 109,
   "metadata": {},
   "outputs": [],
   "source": [
    "######################### naive_bayes"
   ]
  },
  {
   "cell_type": "code",
   "execution_count": 110,
   "metadata": {},
   "outputs": [
    {
     "data": {
      "text/plain": [
       "0.4792243767313019"
      ]
     },
     "execution_count": 110,
     "metadata": {},
     "output_type": "execute_result"
    }
   ],
   "source": [
    "clf = GaussianNB()\n",
    "clf.fit(train_x_1, train_y)\n",
    "clf.score(X_test_1, y_test)"
   ]
  },
  {
   "cell_type": "code",
   "execution_count": 111,
   "metadata": {},
   "outputs": [
    {
     "data": {
      "text/plain": [
       "0.4826869806094183"
      ]
     },
     "execution_count": 111,
     "metadata": {},
     "output_type": "execute_result"
    }
   ],
   "source": [
    "clf = GaussianNB()\n",
    "clf.fit(train_x_2, train_y)\n",
    "clf.score(X_test_2, y_test)"
   ]
  },
  {
   "cell_type": "code",
   "execution_count": 112,
   "metadata": {},
   "outputs": [
    {
     "data": {
      "text/plain": [
       "0.4868421052631579"
      ]
     },
     "execution_count": 112,
     "metadata": {},
     "output_type": "execute_result"
    }
   ],
   "source": [
    "clf = GaussianNB()\n",
    "clf.fit(train_x_3, train_y)\n",
    "clf.score(X_test_3, y_test)"
   ]
  }
 ],
 "metadata": {
  "kernelspec": {
   "display_name": "Python 3",
   "language": "python",
   "name": "python3"
  },
  "language_info": {
   "codemirror_mode": {
    "name": "ipython",
    "version": 3
   },
   "file_extension": ".py",
   "mimetype": "text/x-python",
   "name": "python",
   "nbconvert_exporter": "python",
   "pygments_lexer": "ipython3",
   "version": "3.8.5"
  }
 },
 "nbformat": 4,
 "nbformat_minor": 4
}
